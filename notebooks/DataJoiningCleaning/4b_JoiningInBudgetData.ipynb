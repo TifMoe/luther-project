{
 "cells": [
  {
   "cell_type": "markdown",
   "metadata": {},
   "source": [
    "# Import Libraries"
   ]
  },
  {
   "cell_type": "code",
   "execution_count": 265,
   "metadata": {
    "ExecuteTime": {
     "end_time": "2018-01-28T20:44:10.566570Z",
     "start_time": "2018-01-28T20:44:10.554386Z"
    }
   },
   "outputs": [
    {
     "name": "stdout",
     "output_type": "stream",
     "text": [
      "Pandas version 0.20.3\n",
      "Numpy version 1.14.0\n"
     ]
    }
   ],
   "source": [
    "import pandas as pd\n",
    "import numpy as np\n",
    "from fuzzywuzzy import process, fuzz\n",
    "\n",
    "print('Pandas version', pd.__version__)\n",
    "print('Numpy version', np.__version__)"
   ]
  },
  {
   "cell_type": "markdown",
   "metadata": {},
   "source": [
    "# Read in data"
   ]
  },
  {
   "cell_type": "markdown",
   "metadata": {},
   "source": [
    "## Read in school data"
   ]
  },
  {
   "cell_type": "code",
   "execution_count": 313,
   "metadata": {
    "ExecuteTime": {
     "end_time": "2018-01-28T20:50:46.543959Z",
     "start_time": "2018-01-28T20:50:46.539188Z"
    }
   },
   "outputs": [],
   "source": [
    "schools = pd.read_pickle('../data/schools_crimes.pkl')"
   ]
  },
  {
   "cell_type": "code",
   "execution_count": 314,
   "metadata": {
    "ExecuteTime": {
     "end_time": "2018-01-28T20:50:47.049661Z",
     "start_time": "2018-01-28T20:50:47.045494Z"
    },
    "collapsed": true
   },
   "outputs": [],
   "source": [
    "budget = pd.read_pickle('../data/budget_raw.pkl')"
   ]
  },
  {
   "cell_type": "code",
   "execution_count": 315,
   "metadata": {
    "ExecuteTime": {
     "end_time": "2018-01-28T20:50:47.496750Z",
     "start_time": "2018-01-28T20:50:47.485032Z"
    }
   },
   "outputs": [
    {
     "data": {
      "text/html": [
       "<div>\n",
       "<style>\n",
       "    .dataframe thead tr:only-child th {\n",
       "        text-align: right;\n",
       "    }\n",
       "\n",
       "    .dataframe thead th {\n",
       "        text-align: left;\n",
       "    }\n",
       "\n",
       "    .dataframe tbody tr th {\n",
       "        vertical-align: top;\n",
       "    }\n",
       "</style>\n",
       "<table border=\"1\" class=\"dataframe\">\n",
       "  <thead>\n",
       "    <tr style=\"text-align: right;\">\n",
       "      <th></th>\n",
       "      <th>School</th>\n",
       "      <th>2016-17</th>\n",
       "      <th>2015-16</th>\n",
       "      <th>Pct. Change</th>\n",
       "      <th>New Budget</th>\n",
       "      <th>Budget Change</th>\n",
       "    </tr>\n",
       "  </thead>\n",
       "  <tbody>\n",
       "    <tr>\n",
       "      <th>0</th>\n",
       "      <td>Chicago Vocational High School</td>\n",
       "      <td>922</td>\n",
       "      <td>978</td>\n",
       "      <td>-5.73%</td>\n",
       "      <td>$8,316,708</td>\n",
       "      <td>-$235,904</td>\n",
       "    </tr>\n",
       "    <tr>\n",
       "      <th>1</th>\n",
       "      <td>Dunbar High School</td>\n",
       "      <td>563</td>\n",
       "      <td>761</td>\n",
       "      <td>-26.02%</td>\n",
       "      <td>$6,216,418</td>\n",
       "      <td>-$88,989</td>\n",
       "    </tr>\n",
       "    <tr>\n",
       "      <th>2</th>\n",
       "      <td>Jones High School</td>\n",
       "      <td>1820</td>\n",
       "      <td>1670</td>\n",
       "      <td>8.98%</td>\n",
       "      <td>$11,061,717</td>\n",
       "      <td>-$231,475</td>\n",
       "    </tr>\n",
       "    <tr>\n",
       "      <th>3</th>\n",
       "      <td>Prosser High School</td>\n",
       "      <td>1381</td>\n",
       "      <td>1455</td>\n",
       "      <td>-5.09%</td>\n",
       "      <td>$10,986,115</td>\n",
       "      <td>-$156,831</td>\n",
       "    </tr>\n",
       "    <tr>\n",
       "      <th>4</th>\n",
       "      <td>Payton High School</td>\n",
       "      <td>981</td>\n",
       "      <td>887</td>\n",
       "      <td>10.60%</td>\n",
       "      <td>$6,720,149</td>\n",
       "      <td>-$109,332</td>\n",
       "    </tr>\n",
       "  </tbody>\n",
       "</table>\n",
       "</div>"
      ],
      "text/plain": [
       "                           School 2016-17  2015-16 Pct. Change   New Budget  \\\n",
       "0  Chicago Vocational High School     922      978      -5.73%   $8,316,708   \n",
       "1              Dunbar High School     563      761     -26.02%   $6,216,418   \n",
       "2               Jones High School    1820     1670       8.98%  $11,061,717   \n",
       "3             Prosser High School    1381     1455      -5.09%  $10,986,115   \n",
       "4              Payton High School     981      887      10.60%   $6,720,149   \n",
       "\n",
       "  Budget Change  \n",
       "0     -$235,904  \n",
       "1      -$88,989  \n",
       "2     -$231,475  \n",
       "3     -$156,831  \n",
       "4     -$109,332  "
      ]
     },
     "execution_count": 315,
     "metadata": {},
     "output_type": "execute_result"
    }
   ],
   "source": [
    "budget.head()"
   ]
  },
  {
   "cell_type": "code",
   "execution_count": 316,
   "metadata": {
    "ExecuteTime": {
     "end_time": "2018-01-28T20:50:47.985983Z",
     "start_time": "2018-01-28T20:50:47.958319Z"
    }
   },
   "outputs": [
    {
     "data": {
      "text/html": [
       "<div>\n",
       "<style>\n",
       "    .dataframe thead tr:only-child th {\n",
       "        text-align: right;\n",
       "    }\n",
       "\n",
       "    .dataframe thead th {\n",
       "        text-align: left;\n",
       "    }\n",
       "\n",
       "    .dataframe tbody tr th {\n",
       "        vertical-align: top;\n",
       "    }\n",
       "</style>\n",
       "<table border=\"1\" class=\"dataframe\">\n",
       "  <thead>\n",
       "    <tr style=\"text-align: right;\">\n",
       "      <th></th>\n",
       "      <th>index</th>\n",
       "      <th>School_ID</th>\n",
       "      <th>Short_Name</th>\n",
       "      <th>Long_Name</th>\n",
       "      <th>School_Type</th>\n",
       "      <th>Zip</th>\n",
       "      <th>Facebook</th>\n",
       "      <th>Twitter</th>\n",
       "      <th>Student_Count_Total</th>\n",
       "      <th>Student_Count_Low_Income</th>\n",
       "      <th>...</th>\n",
       "      <th>School_Longitude</th>\n",
       "      <th>Average_ACT_School</th>\n",
       "      <th>Graduation_Rate_School</th>\n",
       "      <th>fb_likes</th>\n",
       "      <th>tw_followers</th>\n",
       "      <th>tw_tweets</th>\n",
       "      <th>crime_counts</th>\n",
       "      <th>crime_outlier</th>\n",
       "      <th>crimes_per_student</th>\n",
       "      <th>crimes_per_1000_students</th>\n",
       "    </tr>\n",
       "  </thead>\n",
       "  <tbody>\n",
       "    <tr>\n",
       "      <th>0</th>\n",
       "      <td>100</td>\n",
       "      <td>400098</td>\n",
       "      <td>NOBLE - MUCHIN HS</td>\n",
       "      <td>Noble - Muchin College Prep</td>\n",
       "      <td>Charter</td>\n",
       "      <td>60602</td>\n",
       "      <td>http://www.facebook.com/BeNobleMuchin</td>\n",
       "      <td>https://twitter.com/BeNobleMuchin</td>\n",
       "      <td>964</td>\n",
       "      <td>804</td>\n",
       "      <td>...</td>\n",
       "      <td>-87.626338</td>\n",
       "      <td>21.8</td>\n",
       "      <td>86.4</td>\n",
       "      <td>600.0</td>\n",
       "      <td>287.0</td>\n",
       "      <td>421.0</td>\n",
       "      <td>78</td>\n",
       "      <td>True</td>\n",
       "      <td>0.080913</td>\n",
       "      <td>80.912863</td>\n",
       "    </tr>\n",
       "    <tr>\n",
       "      <th>1</th>\n",
       "      <td>91</td>\n",
       "      <td>609678</td>\n",
       "      <td>JONES HS</td>\n",
       "      <td>William Jones College Preparatory High School</td>\n",
       "      <td>Selective enrollment</td>\n",
       "      <td>60605</td>\n",
       "      <td>https://www.facebook.com/JonesCollegePrepHS/</td>\n",
       "      <td>https://twitter.com/jonescollegehs</td>\n",
       "      <td>1866</td>\n",
       "      <td>732</td>\n",
       "      <td>...</td>\n",
       "      <td>-87.627675</td>\n",
       "      <td>26.2</td>\n",
       "      <td>91.8</td>\n",
       "      <td>NaN</td>\n",
       "      <td>455.0</td>\n",
       "      <td>549.0</td>\n",
       "      <td>78</td>\n",
       "      <td>True</td>\n",
       "      <td>0.041801</td>\n",
       "      <td>41.800643</td>\n",
       "    </tr>\n",
       "    <tr>\n",
       "      <th>2</th>\n",
       "      <td>8</td>\n",
       "      <td>400056</td>\n",
       "      <td>NOBLE - ROWE CLARK HS</td>\n",
       "      <td>Noble - Rowe-Clark Math and Science Academy</td>\n",
       "      <td>Charter</td>\n",
       "      <td>60651</td>\n",
       "      <td>https://www.facebook.com/BeNobleRCMSA/</td>\n",
       "      <td>https://twitter.com/BeNobleRCMSA</td>\n",
       "      <td>474</td>\n",
       "      <td>441</td>\n",
       "      <td>...</td>\n",
       "      <td>-87.718047</td>\n",
       "      <td>18.5</td>\n",
       "      <td>82.4</td>\n",
       "      <td>427.0</td>\n",
       "      <td>187.0</td>\n",
       "      <td>205.0</td>\n",
       "      <td>333</td>\n",
       "      <td>True</td>\n",
       "      <td>0.702532</td>\n",
       "      <td>702.531646</td>\n",
       "    </tr>\n",
       "    <tr>\n",
       "      <th>3</th>\n",
       "      <td>10</td>\n",
       "      <td>400058</td>\n",
       "      <td>NORTH LAWNDALE - CHRISTIANA HS</td>\n",
       "      <td>North Lawndale College Prep - Christiana</td>\n",
       "      <td>Charter</td>\n",
       "      <td>60623</td>\n",
       "      <td>https://www.facebook.com/nlcphs</td>\n",
       "      <td>NaN</td>\n",
       "      <td>357</td>\n",
       "      <td>349</td>\n",
       "      <td>...</td>\n",
       "      <td>-87.708987</td>\n",
       "      <td>15.3</td>\n",
       "      <td>67.1</td>\n",
       "      <td>1419.0</td>\n",
       "      <td>NaN</td>\n",
       "      <td>NaN</td>\n",
       "      <td>229</td>\n",
       "      <td>True</td>\n",
       "      <td>0.641457</td>\n",
       "      <td>641.456583</td>\n",
       "    </tr>\n",
       "    <tr>\n",
       "      <th>4</th>\n",
       "      <td>66</td>\n",
       "      <td>610389</td>\n",
       "      <td>ORR HS</td>\n",
       "      <td>Orr Academy High School</td>\n",
       "      <td>Neighborhood</td>\n",
       "      <td>60624</td>\n",
       "      <td>https://www.facebook.com/orracademyhighschool</td>\n",
       "      <td>https://twitter.com/orracademy</td>\n",
       "      <td>276</td>\n",
       "      <td>263</td>\n",
       "      <td>...</td>\n",
       "      <td>-87.726166</td>\n",
       "      <td>14.2</td>\n",
       "      <td>39.0</td>\n",
       "      <td>424.0</td>\n",
       "      <td>213.0</td>\n",
       "      <td>70.0</td>\n",
       "      <td>199</td>\n",
       "      <td>True</td>\n",
       "      <td>0.721014</td>\n",
       "      <td>721.014493</td>\n",
       "    </tr>\n",
       "  </tbody>\n",
       "</table>\n",
       "<p>5 rows × 23 columns</p>\n",
       "</div>"
      ],
      "text/plain": [
       "   index  School_ID                      Short_Name  \\\n",
       "0    100     400098               NOBLE - MUCHIN HS   \n",
       "1     91     609678                        JONES HS   \n",
       "2      8     400056           NOBLE - ROWE CLARK HS   \n",
       "3     10     400058  NORTH LAWNDALE - CHRISTIANA HS   \n",
       "4     66     610389                          ORR HS   \n",
       "\n",
       "                                       Long_Name           School_Type    Zip  \\\n",
       "0                    Noble - Muchin College Prep               Charter  60602   \n",
       "1  William Jones College Preparatory High School  Selective enrollment  60605   \n",
       "2    Noble - Rowe-Clark Math and Science Academy               Charter  60651   \n",
       "3       North Lawndale College Prep - Christiana               Charter  60623   \n",
       "4                        Orr Academy High School          Neighborhood  60624   \n",
       "\n",
       "                                        Facebook  \\\n",
       "0          http://www.facebook.com/BeNobleMuchin   \n",
       "1   https://www.facebook.com/JonesCollegePrepHS/   \n",
       "2         https://www.facebook.com/BeNobleRCMSA/   \n",
       "3                https://www.facebook.com/nlcphs   \n",
       "4  https://www.facebook.com/orracademyhighschool   \n",
       "\n",
       "                              Twitter  Student_Count_Total  \\\n",
       "0   https://twitter.com/BeNobleMuchin                  964   \n",
       "1  https://twitter.com/jonescollegehs                 1866   \n",
       "2    https://twitter.com/BeNobleRCMSA                  474   \n",
       "3                                 NaN                  357   \n",
       "4      https://twitter.com/orracademy                  276   \n",
       "\n",
       "   Student_Count_Low_Income            ...            School_Longitude  \\\n",
       "0                       804            ...                  -87.626338   \n",
       "1                       732            ...                  -87.627675   \n",
       "2                       441            ...                  -87.718047   \n",
       "3                       349            ...                  -87.708987   \n",
       "4                       263            ...                  -87.726166   \n",
       "\n",
       "  Average_ACT_School  Graduation_Rate_School  fb_likes  tw_followers  \\\n",
       "0               21.8                    86.4     600.0         287.0   \n",
       "1               26.2                    91.8       NaN         455.0   \n",
       "2               18.5                    82.4     427.0         187.0   \n",
       "3               15.3                    67.1    1419.0           NaN   \n",
       "4               14.2                    39.0     424.0         213.0   \n",
       "\n",
       "   tw_tweets  crime_counts  crime_outlier  crimes_per_student  \\\n",
       "0      421.0            78           True            0.080913   \n",
       "1      549.0            78           True            0.041801   \n",
       "2      205.0           333           True            0.702532   \n",
       "3        NaN           229           True            0.641457   \n",
       "4       70.0           199           True            0.721014   \n",
       "\n",
       "   crimes_per_1000_students  \n",
       "0                 80.912863  \n",
       "1                 41.800643  \n",
       "2                702.531646  \n",
       "3                641.456583  \n",
       "4                721.014493  \n",
       "\n",
       "[5 rows x 23 columns]"
      ]
     },
     "execution_count": 316,
     "metadata": {},
     "output_type": "execute_result"
    }
   ],
   "source": [
    "schools.head()"
   ]
  },
  {
   "cell_type": "markdown",
   "metadata": {
    "ExecuteTime": {
     "end_time": "2018-01-28T00:21:32.044405Z",
     "start_time": "2018-01-28T00:21:32.040808Z"
    }
   },
   "source": [
    "## Strip 'High School' from the names of schools in each dataset"
   ]
  },
  {
   "cell_type": "code",
   "execution_count": 317,
   "metadata": {
    "ExecuteTime": {
     "end_time": "2018-01-28T20:50:48.433167Z",
     "start_time": "2018-01-28T20:50:48.423832Z"
    },
    "collapsed": true
   },
   "outputs": [],
   "source": [
    "def clean_school_name(df, name_col):\n",
    "    \"\"\"\n",
    "    Takes in a dataframe and column name to be cleaned and returns a standard format to be used in name matching\n",
    "    \"\"\"\n",
    "    \n",
    "    clean_names = []\n",
    "    \n",
    "    for name in df[name_col]:\n",
    "        \n",
    "        rm_hs = name.replace('High School', '').replace('HS', '').strip()\n",
    "        cleaned = rm_hs.translate(str.maketrans(\"\", \"\", \",.-'\\\"():;+/?$°@\"))\n",
    "        clean_names.append(cleaned.lower())\n",
    "        \n",
    "    return clean_names"
   ]
  },
  {
   "cell_type": "code",
   "execution_count": 318,
   "metadata": {
    "ExecuteTime": {
     "end_time": "2018-01-28T20:50:48.887272Z",
     "start_time": "2018-01-28T20:50:48.878040Z"
    }
   },
   "outputs": [],
   "source": [
    "schools['cleaned_name'] = clean_school_name(schools, 'Long_Name')\n",
    "budget['cleaned_name'] = clean_school_name(budget, 'School')"
   ]
  },
  {
   "cell_type": "markdown",
   "metadata": {},
   "source": [
    "## Merge schools and budgets on fuzzy string match"
   ]
  },
  {
   "cell_type": "code",
   "execution_count": 319,
   "metadata": {
    "ExecuteTime": {
     "end_time": "2018-01-28T20:50:49.335341Z",
     "start_time": "2018-01-28T20:50:49.324880Z"
    }
   },
   "outputs": [],
   "source": [
    "def find_best_matches(df_1, df_2, match_col, cutoff=80, scorer=fuzz.token_set_ratio):\n",
    "    \n",
    "    best_matches = []\n",
    "    \n",
    "    for index, row in df_1.iterrows():\n",
    "    \n",
    "        match = process.extractOne(\n",
    "                        df_1.loc[index, match_col], \n",
    "                        choices=df_2.loc[:, match_col], \n",
    "                        scorer=scorer,\n",
    "                        score_cutoff=cutoff)\n",
    "        \n",
    "        best_matches.append(match)\n",
    "\n",
    "    return best_matches"
   ]
  },
  {
   "cell_type": "markdown",
   "metadata": {},
   "source": [
    "I'm using the fuzzy wuzzy package's token_set_ratio method because it will subset each string into it's component parts, find the components that are contained in the set of target components and then score the remainder (order does not matter)\n",
    "\n",
    "Example:\n",
    "```python\n",
    ">>> fuzz.token_sort_ratio(\"fuzzy was a bear\", \"fuzzy fuzzy was a bear\")\n",
    "    84\n",
    ">>> fuzz.token_set_ratio(\"fuzzy was a bear\", \"fuzzy fuzzy was a bear\")\n",
    "    100\n",
    "```\n",
    "https://github.com/seatgeek/fuzzywuzzy"
   ]
  },
  {
   "cell_type": "code",
   "execution_count": 320,
   "metadata": {
    "ExecuteTime": {
     "end_time": "2018-01-28T20:50:53.294525Z",
     "start_time": "2018-01-28T20:50:49.760103Z"
    }
   },
   "outputs": [],
   "source": [
    "schools['matches'] = find_best_matches(schools, budget, 'cleaned_name', cutoff=90)\n",
    "schools['match_id'] = [int(x[2]) if x is not None else None for x in schools['matches']]"
   ]
  },
  {
   "cell_type": "code",
   "execution_count": 321,
   "metadata": {
    "ExecuteTime": {
     "end_time": "2018-01-28T20:50:53.756026Z",
     "start_time": "2018-01-28T20:50:53.727839Z"
    }
   },
   "outputs": [
    {
     "data": {
      "text/html": [
       "<div>\n",
       "<style>\n",
       "    .dataframe thead tr:only-child th {\n",
       "        text-align: right;\n",
       "    }\n",
       "\n",
       "    .dataframe thead th {\n",
       "        text-align: left;\n",
       "    }\n",
       "\n",
       "    .dataframe tbody tr th {\n",
       "        vertical-align: top;\n",
       "    }\n",
       "</style>\n",
       "<table border=\"1\" class=\"dataframe\">\n",
       "  <thead>\n",
       "    <tr style=\"text-align: right;\">\n",
       "      <th></th>\n",
       "      <th>index</th>\n",
       "      <th>School_ID</th>\n",
       "      <th>Short_Name</th>\n",
       "      <th>Long_Name</th>\n",
       "      <th>School_Type</th>\n",
       "      <th>Zip</th>\n",
       "      <th>Facebook</th>\n",
       "      <th>Twitter</th>\n",
       "      <th>Student_Count_Total</th>\n",
       "      <th>Student_Count_Low_Income</th>\n",
       "      <th>...</th>\n",
       "      <th>fb_likes</th>\n",
       "      <th>tw_followers</th>\n",
       "      <th>tw_tweets</th>\n",
       "      <th>crime_counts</th>\n",
       "      <th>crime_outlier</th>\n",
       "      <th>crimes_per_student</th>\n",
       "      <th>crimes_per_1000_students</th>\n",
       "      <th>cleaned_name</th>\n",
       "      <th>matches</th>\n",
       "      <th>match_id</th>\n",
       "    </tr>\n",
       "  </thead>\n",
       "  <tbody>\n",
       "    <tr>\n",
       "      <th>0</th>\n",
       "      <td>100</td>\n",
       "      <td>400098</td>\n",
       "      <td>NOBLE - MUCHIN HS</td>\n",
       "      <td>Noble - Muchin College Prep</td>\n",
       "      <td>Charter</td>\n",
       "      <td>60602</td>\n",
       "      <td>http://www.facebook.com/BeNobleMuchin</td>\n",
       "      <td>https://twitter.com/BeNobleMuchin</td>\n",
       "      <td>964</td>\n",
       "      <td>804</td>\n",
       "      <td>...</td>\n",
       "      <td>600.0</td>\n",
       "      <td>287.0</td>\n",
       "      <td>421.0</td>\n",
       "      <td>78</td>\n",
       "      <td>True</td>\n",
       "      <td>0.080913</td>\n",
       "      <td>80.912863</td>\n",
       "      <td>noble  muchin college prep</td>\n",
       "      <td>None</td>\n",
       "      <td>NaN</td>\n",
       "    </tr>\n",
       "    <tr>\n",
       "      <th>1</th>\n",
       "      <td>91</td>\n",
       "      <td>609678</td>\n",
       "      <td>JONES HS</td>\n",
       "      <td>William Jones College Preparatory High School</td>\n",
       "      <td>Selective enrollment</td>\n",
       "      <td>60605</td>\n",
       "      <td>https://www.facebook.com/JonesCollegePrepHS/</td>\n",
       "      <td>https://twitter.com/jonescollegehs</td>\n",
       "      <td>1866</td>\n",
       "      <td>732</td>\n",
       "      <td>...</td>\n",
       "      <td>NaN</td>\n",
       "      <td>455.0</td>\n",
       "      <td>549.0</td>\n",
       "      <td>78</td>\n",
       "      <td>True</td>\n",
       "      <td>0.041801</td>\n",
       "      <td>41.800643</td>\n",
       "      <td>william jones college preparatory</td>\n",
       "      <td>(jones, 100, 2)</td>\n",
       "      <td>2.0</td>\n",
       "    </tr>\n",
       "    <tr>\n",
       "      <th>2</th>\n",
       "      <td>8</td>\n",
       "      <td>400056</td>\n",
       "      <td>NOBLE - ROWE CLARK HS</td>\n",
       "      <td>Noble - Rowe-Clark Math and Science Academy</td>\n",
       "      <td>Charter</td>\n",
       "      <td>60651</td>\n",
       "      <td>https://www.facebook.com/BeNobleRCMSA/</td>\n",
       "      <td>https://twitter.com/BeNobleRCMSA</td>\n",
       "      <td>474</td>\n",
       "      <td>441</td>\n",
       "      <td>...</td>\n",
       "      <td>427.0</td>\n",
       "      <td>187.0</td>\n",
       "      <td>205.0</td>\n",
       "      <td>333</td>\n",
       "      <td>True</td>\n",
       "      <td>0.702532</td>\n",
       "      <td>702.531646</td>\n",
       "      <td>noble  roweclark math and science academy</td>\n",
       "      <td>None</td>\n",
       "      <td>NaN</td>\n",
       "    </tr>\n",
       "    <tr>\n",
       "      <th>3</th>\n",
       "      <td>10</td>\n",
       "      <td>400058</td>\n",
       "      <td>NORTH LAWNDALE - CHRISTIANA HS</td>\n",
       "      <td>North Lawndale College Prep - Christiana</td>\n",
       "      <td>Charter</td>\n",
       "      <td>60623</td>\n",
       "      <td>https://www.facebook.com/nlcphs</td>\n",
       "      <td>NaN</td>\n",
       "      <td>357</td>\n",
       "      <td>349</td>\n",
       "      <td>...</td>\n",
       "      <td>1419.0</td>\n",
       "      <td>NaN</td>\n",
       "      <td>NaN</td>\n",
       "      <td>229</td>\n",
       "      <td>True</td>\n",
       "      <td>0.641457</td>\n",
       "      <td>641.456583</td>\n",
       "      <td>north lawndale college prep  christiana</td>\n",
       "      <td>(lawndale, 100, 246)</td>\n",
       "      <td>246.0</td>\n",
       "    </tr>\n",
       "    <tr>\n",
       "      <th>4</th>\n",
       "      <td>66</td>\n",
       "      <td>610389</td>\n",
       "      <td>ORR HS</td>\n",
       "      <td>Orr Academy High School</td>\n",
       "      <td>Neighborhood</td>\n",
       "      <td>60624</td>\n",
       "      <td>https://www.facebook.com/orracademyhighschool</td>\n",
       "      <td>https://twitter.com/orracademy</td>\n",
       "      <td>276</td>\n",
       "      <td>263</td>\n",
       "      <td>...</td>\n",
       "      <td>424.0</td>\n",
       "      <td>213.0</td>\n",
       "      <td>70.0</td>\n",
       "      <td>199</td>\n",
       "      <td>True</td>\n",
       "      <td>0.721014</td>\n",
       "      <td>721.014493</td>\n",
       "      <td>orr academy</td>\n",
       "      <td>(orr, 100, 467)</td>\n",
       "      <td>467.0</td>\n",
       "    </tr>\n",
       "  </tbody>\n",
       "</table>\n",
       "<p>5 rows × 26 columns</p>\n",
       "</div>"
      ],
      "text/plain": [
       "   index  School_ID                      Short_Name  \\\n",
       "0    100     400098               NOBLE - MUCHIN HS   \n",
       "1     91     609678                        JONES HS   \n",
       "2      8     400056           NOBLE - ROWE CLARK HS   \n",
       "3     10     400058  NORTH LAWNDALE - CHRISTIANA HS   \n",
       "4     66     610389                          ORR HS   \n",
       "\n",
       "                                       Long_Name           School_Type    Zip  \\\n",
       "0                    Noble - Muchin College Prep               Charter  60602   \n",
       "1  William Jones College Preparatory High School  Selective enrollment  60605   \n",
       "2    Noble - Rowe-Clark Math and Science Academy               Charter  60651   \n",
       "3       North Lawndale College Prep - Christiana               Charter  60623   \n",
       "4                        Orr Academy High School          Neighborhood  60624   \n",
       "\n",
       "                                        Facebook  \\\n",
       "0          http://www.facebook.com/BeNobleMuchin   \n",
       "1   https://www.facebook.com/JonesCollegePrepHS/   \n",
       "2         https://www.facebook.com/BeNobleRCMSA/   \n",
       "3                https://www.facebook.com/nlcphs   \n",
       "4  https://www.facebook.com/orracademyhighschool   \n",
       "\n",
       "                              Twitter  Student_Count_Total  \\\n",
       "0   https://twitter.com/BeNobleMuchin                  964   \n",
       "1  https://twitter.com/jonescollegehs                 1866   \n",
       "2    https://twitter.com/BeNobleRCMSA                  474   \n",
       "3                                 NaN                  357   \n",
       "4      https://twitter.com/orracademy                  276   \n",
       "\n",
       "   Student_Count_Low_Income    ...    fb_likes tw_followers  tw_tweets  \\\n",
       "0                       804    ...       600.0        287.0      421.0   \n",
       "1                       732    ...         NaN        455.0      549.0   \n",
       "2                       441    ...       427.0        187.0      205.0   \n",
       "3                       349    ...      1419.0          NaN        NaN   \n",
       "4                       263    ...       424.0        213.0       70.0   \n",
       "\n",
       "   crime_counts  crime_outlier  crimes_per_student  crimes_per_1000_students  \\\n",
       "0            78           True            0.080913                 80.912863   \n",
       "1            78           True            0.041801                 41.800643   \n",
       "2           333           True            0.702532                702.531646   \n",
       "3           229           True            0.641457                641.456583   \n",
       "4           199           True            0.721014                721.014493   \n",
       "\n",
       "                                cleaned_name               matches  match_id  \n",
       "0                 noble  muchin college prep                  None       NaN  \n",
       "1          william jones college preparatory       (jones, 100, 2)       2.0  \n",
       "2  noble  roweclark math and science academy                  None       NaN  \n",
       "3    north lawndale college prep  christiana  (lawndale, 100, 246)     246.0  \n",
       "4                                orr academy       (orr, 100, 467)     467.0  \n",
       "\n",
       "[5 rows x 26 columns]"
      ]
     },
     "execution_count": 321,
     "metadata": {},
     "output_type": "execute_result"
    }
   ],
   "source": [
    "schools.head()"
   ]
  },
  {
   "cell_type": "markdown",
   "metadata": {
    "ExecuteTime": {
     "end_time": "2018-01-28T02:43:23.455510Z",
     "start_time": "2018-01-28T02:43:23.448529Z"
    }
   },
   "source": [
    "### Checking if budget rows have been duplicated\n",
    "Let's make sure there aren't multiple schools matching to a single budget entry"
   ]
  },
  {
   "cell_type": "code",
   "execution_count": 322,
   "metadata": {
    "ExecuteTime": {
     "end_time": "2018-01-28T20:50:57.356004Z",
     "start_time": "2018-01-28T20:50:57.343370Z"
    }
   },
   "outputs": [
    {
     "data": {
      "text/plain": [
       "match_id\n",
       "49.0     6\n",
       "246.0    3\n",
       "41.0     2\n",
       "445.0    2\n",
       "28.0     1\n",
       "Name: School_ID, dtype: int64"
      ]
     },
     "execution_count": 322,
     "metadata": {},
     "output_type": "execute_result"
    }
   ],
   "source": [
    "distinct_matches = schools.groupby('match_id')['School_ID'].nunique()\n",
    "distinct_matches.sort_values(ascending=False).head()"
   ]
  },
  {
   "cell_type": "markdown",
   "metadata": {},
   "source": [
    "Oofph, I need to investigate the first 4 matches there... let's add a column with these match counts for every match_id so I can look at them in more detail"
   ]
  },
  {
   "cell_type": "code",
   "execution_count": 323,
   "metadata": {
    "ExecuteTime": {
     "end_time": "2018-01-28T20:51:04.540731Z",
     "start_time": "2018-01-28T20:51:04.534571Z"
    }
   },
   "outputs": [],
   "source": [
    "schools['school_match_count'] = [distinct_matches[x] if not np.isnan(x) else None for x in schools['match_id']]"
   ]
  },
  {
   "cell_type": "markdown",
   "metadata": {},
   "source": [
    "### Checking schools with no budget rows\n",
    "Which schools were not matched with a budget row"
   ]
  },
  {
   "cell_type": "code",
   "execution_count": 324,
   "metadata": {
    "ExecuteTime": {
     "end_time": "2018-01-28T20:51:06.531833Z",
     "start_time": "2018-01-28T20:51:06.524837Z"
    }
   },
   "outputs": [],
   "source": [
    "unmatched_schools = schools.loc[schools['match_id'].isnull()]"
   ]
  },
  {
   "cell_type": "code",
   "execution_count": 325,
   "metadata": {
    "ExecuteTime": {
     "end_time": "2018-01-28T20:51:07.019666Z",
     "start_time": "2018-01-28T20:51:07.014613Z"
    }
   },
   "outputs": [
    {
     "data": {
      "text/plain": [
       "32"
      ]
     },
     "execution_count": 325,
     "metadata": {},
     "output_type": "execute_result"
    }
   ],
   "source": [
    "len(unmatched_schools)"
   ]
  },
  {
   "cell_type": "code",
   "execution_count": 326,
   "metadata": {
    "ExecuteTime": {
     "end_time": "2018-01-28T20:51:07.661668Z",
     "start_time": "2018-01-28T20:51:07.652620Z"
    }
   },
   "outputs": [
    {
     "data": {
      "text/plain": [
       "0                           noble  muchin college prep\n",
       "2            noble  roweclark math and science academy\n",
       "5                    austin college and career academy\n",
       "12                   noble  chicago bulls college prep\n",
       "17                          noble  golder college prep\n",
       "21                        consuella b york alternative\n",
       "22                                 cics  ralph ellison\n",
       "29                                epic academy charter\n",
       "31                    perspectives  leadership academy\n",
       "32                       chicago  for the arts chiarts\n",
       "35                aspira charter school  early college\n",
       "41                       perspectives  rodney d joslin\n",
       "43                                 ogden international\n",
       "46              perspectives  math and science academy\n",
       "50                           noble  noble college prep\n",
       "51                                      cics  longwood\n",
       "54                      chicago virtual charter school\n",
       "56                          noble  rauner college prep\n",
       "57                        ace technical charter school\n",
       "65                      hyman g rickover naval academy\n",
       "74                       nancy b jefferson alternative\n",
       "88                        perspectives   of technology\n",
       "98            instituto health sciences career academy\n",
       "99               louisa may alcott college preparatory\n",
       "105                            albert g lane technical\n",
       "107                      northside college preparatory\n",
       "109                   jacqueline b vaughn occupational\n",
       "111    acero charter schools  major hector p garcia md\n",
       "114                            noble  uic college prep\n",
       "117                                    cics  northtown\n",
       "118                 chicago  for agricultural sciences\n",
       "119                          northside learning center\n",
       "Name: cleaned_name, dtype: object"
      ]
     },
     "execution_count": 326,
     "metadata": {},
     "output_type": "execute_result"
    }
   ],
   "source": [
    "unmatched_schools['cleaned_name']"
   ]
  },
  {
   "cell_type": "markdown",
   "metadata": {},
   "source": [
    "Let's merge what we can and then export the file for manual investigation (to get to MVP)"
   ]
  },
  {
   "cell_type": "code",
   "execution_count": 328,
   "metadata": {
    "ExecuteTime": {
     "end_time": "2018-01-28T20:51:12.370470Z",
     "start_time": "2018-01-28T20:51:12.352382Z"
    },
    "collapsed": true
   },
   "outputs": [],
   "source": [
    "matches = pd.merge(schools, budget, how='outer', \n",
    "                  left_on='match_id', right_index=True)"
   ]
  },
  {
   "cell_type": "code",
   "execution_count": 308,
   "metadata": {
    "ExecuteTime": {
     "end_time": "2018-01-28T20:49:29.641884Z",
     "start_time": "2018-01-28T20:49:29.633871Z"
    }
   },
   "outputs": [
    {
     "name": "stdout",
     "output_type": "stream",
     "text": [
      "542\n"
     ]
    },
    {
     "data": {
      "text/plain": [
       "Index(['index', 'School_ID', 'Short_Name', 'Long_Name', 'School_Type', 'Zip',\n",
       "       'Facebook', 'Twitter', 'Student_Count_Total',\n",
       "       'Student_Count_Low_Income', 'School_Hours', 'Transportation_El',\n",
       "       'School_Latitude', 'School_Longitude', 'Average_ACT_School',\n",
       "       'Graduation_Rate_School', 'fb_likes', 'tw_followers', 'tw_tweets',\n",
       "       'crime_counts', 'crime_outlier', 'crimes_per_student',\n",
       "       'crimes_per_1000_students', 'cleaned_name_x', 'matches', 'match_id',\n",
       "       'school_match_count', 'School', '2016-17', '2015-16', 'Pct. Change',\n",
       "       'New Budget', 'Budget Change', 'cleaned_name_y'],\n",
       "      dtype='object')"
      ]
     },
     "execution_count": 308,
     "metadata": {},
     "output_type": "execute_result"
    }
   ],
   "source": [
    "print(len(matches))\n",
    "matches.columns"
   ]
  },
  {
   "cell_type": "markdown",
   "metadata": {},
   "source": [
    "## Manually resolve as best as possible"
   ]
  },
  {
   "cell_type": "code",
   "execution_count": 330,
   "metadata": {
    "ExecuteTime": {
     "end_time": "2018-01-28T20:51:47.674237Z",
     "start_time": "2018-01-28T20:51:47.667232Z"
    },
    "collapsed": true
   },
   "outputs": [],
   "source": [
    "matches_key = matches[['School_ID', 'Short_Name', 'Long_Name', 'Zip', 'Student_Count_Total',\n",
    "                      'cleaned_name_x', 'match_id', 'School', 'cleaned_name_y', '2016-17', 'school_match_count']]"
   ]
  },
  {
   "cell_type": "code",
   "execution_count": 331,
   "metadata": {
    "ExecuteTime": {
     "end_time": "2018-01-28T20:51:52.866849Z",
     "start_time": "2018-01-28T20:51:52.856603Z"
    },
    "collapsed": true
   },
   "outputs": [],
   "source": [
    "matches_key.to_csv('../data/school_budget_manual.csv', index=False)"
   ]
  },
  {
   "cell_type": "markdown",
   "metadata": {},
   "source": [
    "## Merge Together"
   ]
  },
  {
   "cell_type": "markdown",
   "metadata": {},
   "source": [
    "Here's where I go manually try to resolve the ~30 unmatched schools against the budget records... "
   ]
  },
  {
   "cell_type": "code",
   "execution_count": 332,
   "metadata": {
    "ExecuteTime": {
     "end_time": "2018-01-28T20:51:55.336450Z",
     "start_time": "2018-01-28T20:51:55.328162Z"
    }
   },
   "outputs": [],
   "source": [
    "# Read in new match key\n",
    "match_key = pd.read_csv('../data/school_budget_manual_key.csv', encoding = \"ISO-8859-1\")"
   ]
  },
  {
   "cell_type": "code",
   "execution_count": 333,
   "metadata": {
    "ExecuteTime": {
     "end_time": "2018-01-28T20:51:55.845573Z",
     "start_time": "2018-01-28T20:51:55.838889Z"
    }
   },
   "outputs": [
    {
     "name": "stdout",
     "output_type": "stream",
     "text": [
      "I was able to resolve 90 schools to budget records\n"
     ]
    }
   ],
   "source": [
    "count_resolved = len(match_key[(~match_key['match_id'].isnull()) & (~match_key['School_ID'].isnull())])\n",
    "print('I was able to resolve {} schools to budget records'.format(count_resolved))"
   ]
  },
  {
   "cell_type": "markdown",
   "metadata": {},
   "source": [
    "Let's try running the model on these observations to see if there is any correlation - then we can go back and add in more observations or resolve the missing data somehow"
   ]
  },
  {
   "cell_type": "code",
   "execution_count": 336,
   "metadata": {
    "ExecuteTime": {
     "end_time": "2018-01-28T20:52:16.077202Z",
     "start_time": "2018-01-28T20:52:16.062101Z"
    }
   },
   "outputs": [
    {
     "data": {
      "text/html": [
       "<div>\n",
       "<style>\n",
       "    .dataframe thead tr:only-child th {\n",
       "        text-align: right;\n",
       "    }\n",
       "\n",
       "    .dataframe thead th {\n",
       "        text-align: left;\n",
       "    }\n",
       "\n",
       "    .dataframe tbody tr th {\n",
       "        vertical-align: top;\n",
       "    }\n",
       "</style>\n",
       "<table border=\"1\" class=\"dataframe\">\n",
       "  <thead>\n",
       "    <tr style=\"text-align: right;\">\n",
       "      <th></th>\n",
       "      <th>School_ID</th>\n",
       "      <th>Short_Name</th>\n",
       "      <th>Long_Name</th>\n",
       "      <th>Zip</th>\n",
       "      <th>Student_Count_Total</th>\n",
       "      <th>cleaned_name_x</th>\n",
       "      <th>match_id</th>\n",
       "      <th>School</th>\n",
       "      <th>cleaned_name_y</th>\n",
       "      <th>2016-17</th>\n",
       "      <th>school_match_count</th>\n",
       "    </tr>\n",
       "  </thead>\n",
       "  <tbody>\n",
       "    <tr>\n",
       "      <th>0</th>\n",
       "      <td>609764.0</td>\n",
       "      <td>JUAREZ HS</td>\n",
       "      <td>Benito Juarez Community Academy High School</td>\n",
       "      <td>60608.0</td>\n",
       "      <td>1739.0</td>\n",
       "      <td>benito juarez community academy</td>\n",
       "      <td>55.0</td>\n",
       "      <td>Juarez High School</td>\n",
       "      <td>juarez</td>\n",
       "      <td>1610</td>\n",
       "      <td>1.0</td>\n",
       "    </tr>\n",
       "    <tr>\n",
       "      <th>1</th>\n",
       "      <td>400054.0</td>\n",
       "      <td>NOBLE - PRITZKER HS</td>\n",
       "      <td>Noble - Pritzker College Prep</td>\n",
       "      <td>60639.0</td>\n",
       "      <td>992.0</td>\n",
       "      <td>noble  pritzker college prep</td>\n",
       "      <td>393.0</td>\n",
       "      <td>Pritzker</td>\n",
       "      <td>pritzker</td>\n",
       "      <td>707</td>\n",
       "      <td>1.0</td>\n",
       "    </tr>\n",
       "    <tr>\n",
       "      <th>2</th>\n",
       "      <td>609726.0</td>\n",
       "      <td>BROOKS HS</td>\n",
       "      <td>Gwendolyn Brooks College Preparatory Academy HS</td>\n",
       "      <td>60628.0</td>\n",
       "      <td>959.0</td>\n",
       "      <td>gwendolyn brooks college preparatory academy</td>\n",
       "      <td>30.0</td>\n",
       "      <td>Brooks High School</td>\n",
       "      <td>brooks</td>\n",
       "      <td>916</td>\n",
       "      <td>1.0</td>\n",
       "    </tr>\n",
       "    <tr>\n",
       "      <th>3</th>\n",
       "      <td>400094.0</td>\n",
       "      <td>EPIC HS</td>\n",
       "      <td>EPIC Academy Charter High School</td>\n",
       "      <td>60617.0</td>\n",
       "      <td>523.0</td>\n",
       "      <td>epic academy charter</td>\n",
       "      <td>NaN</td>\n",
       "      <td>NaN</td>\n",
       "      <td>NaN</td>\n",
       "      <td>NaN</td>\n",
       "      <td>NaN</td>\n",
       "    </tr>\n",
       "    <tr>\n",
       "      <th>4</th>\n",
       "      <td>610518.0</td>\n",
       "      <td>AUSTIN CCA HS</td>\n",
       "      <td>Austin College and Career Academy High School</td>\n",
       "      <td>60644.0</td>\n",
       "      <td>223.0</td>\n",
       "      <td>austin college and career academy</td>\n",
       "      <td>NaN</td>\n",
       "      <td>NaN</td>\n",
       "      <td>NaN</td>\n",
       "      <td>NaN</td>\n",
       "      <td>NaN</td>\n",
       "    </tr>\n",
       "  </tbody>\n",
       "</table>\n",
       "</div>"
      ],
      "text/plain": [
       "   School_ID           Short_Name  \\\n",
       "0   609764.0            JUAREZ HS   \n",
       "1   400054.0  NOBLE - PRITZKER HS   \n",
       "2   609726.0            BROOKS HS   \n",
       "3   400094.0              EPIC HS   \n",
       "4   610518.0        AUSTIN CCA HS   \n",
       "\n",
       "                                         Long_Name      Zip  \\\n",
       "0      Benito Juarez Community Academy High School  60608.0   \n",
       "1                    Noble - Pritzker College Prep  60639.0   \n",
       "2  Gwendolyn Brooks College Preparatory Academy HS  60628.0   \n",
       "3                 EPIC Academy Charter High School  60617.0   \n",
       "4    Austin College and Career Academy High School  60644.0   \n",
       "\n",
       "   Student_Count_Total                                cleaned_name_x  \\\n",
       "0               1739.0               benito juarez community academy   \n",
       "1                992.0                  noble  pritzker college prep   \n",
       "2                959.0  gwendolyn brooks college preparatory academy   \n",
       "3                523.0                          epic academy charter   \n",
       "4                223.0             austin college and career academy   \n",
       "\n",
       "   match_id              School cleaned_name_y 2016-17  school_match_count  \n",
       "0      55.0  Juarez High School         juarez    1610                 1.0  \n",
       "1     393.0            Pritzker       pritzker     707                 1.0  \n",
       "2      30.0  Brooks High School         brooks     916                 1.0  \n",
       "3       NaN                 NaN            NaN     NaN                 NaN  \n",
       "4       NaN                 NaN            NaN     NaN                 NaN  "
      ]
     },
     "execution_count": 336,
     "metadata": {},
     "output_type": "execute_result"
    }
   ],
   "source": [
    "match_key.head()"
   ]
  },
  {
   "cell_type": "code",
   "execution_count": 339,
   "metadata": {
    "ExecuteTime": {
     "end_time": "2018-01-28T20:53:07.248598Z",
     "start_time": "2018-01-28T20:53:07.238249Z"
    }
   },
   "outputs": [],
   "source": [
    "school_matches = pd.merge(schools, match_key.loc[:,['School_ID', 'match_id']], how='inner', on='School_ID')\n",
    "all_matches = pd.merge(school_matches, budget, how='inner', left_on='match_id_y', right_index=True)"
   ]
  },
  {
   "cell_type": "code",
   "execution_count": 340,
   "metadata": {
    "ExecuteTime": {
     "end_time": "2018-01-28T20:53:11.200702Z",
     "start_time": "2018-01-28T20:53:11.189099Z"
    }
   },
   "outputs": [
    {
     "name": "stdout",
     "output_type": "stream",
     "text": [
      "<class 'pandas.core.frame.DataFrame'>\n",
      "Int64Index: 90 entries, 1 to 120\n",
      "Data columns (total 35 columns):\n",
      "index                       90 non-null int64\n",
      "School_ID                   90 non-null object\n",
      "Short_Name                  90 non-null object\n",
      "Long_Name                   90 non-null object\n",
      "School_Type                 90 non-null object\n",
      "Zip                         90 non-null int64\n",
      "Facebook                    41 non-null object\n",
      "Twitter                     54 non-null object\n",
      "Student_Count_Total         90 non-null int64\n",
      "Student_Count_Low_Income    90 non-null int64\n",
      "School_Hours                88 non-null object\n",
      "Transportation_El           68 non-null object\n",
      "School_Latitude             90 non-null float64\n",
      "School_Longitude            90 non-null float64\n",
      "Average_ACT_School          90 non-null float64\n",
      "Graduation_Rate_School      90 non-null float64\n",
      "fb_likes                    35 non-null float64\n",
      "tw_followers                54 non-null float64\n",
      "tw_tweets                   54 non-null float64\n",
      "crime_counts                90 non-null int64\n",
      "crime_outlier               90 non-null bool\n",
      "crimes_per_student          90 non-null float64\n",
      "crimes_per_1000_students    90 non-null float64\n",
      "cleaned_name_x              90 non-null object\n",
      "matches                     84 non-null object\n",
      "match_id_x                  84 non-null float64\n",
      "school_match_count          84 non-null float64\n",
      "match_id_y                  90 non-null object\n",
      "School                      90 non-null object\n",
      "2016-17                     90 non-null object\n",
      "2015-16                     90 non-null int64\n",
      "Pct. Change                 90 non-null object\n",
      "New Budget                  90 non-null object\n",
      "Budget Change               90 non-null object\n",
      "cleaned_name_y              90 non-null object\n",
      "dtypes: bool(1), float64(11), int64(6), object(17)\n",
      "memory usage: 24.7+ KB\n"
     ]
    }
   ],
   "source": [
    "all_matches.info()"
   ]
  },
  {
   "cell_type": "markdown",
   "metadata": {
    "ExecuteTime": {
     "end_time": "2018-01-28T20:45:02.062770Z",
     "start_time": "2018-01-28T20:45:02.050019Z"
    }
   },
   "source": [
    "# Creating budget and demographic dimensions"
   ]
  },
  {
   "cell_type": "markdown",
   "metadata": {},
   "source": [
    "## Budget Dimensions"
   ]
  },
  {
   "cell_type": "markdown",
   "metadata": {},
   "source": [
    "Before we can identify a good budget feature like 'dollars per student' we need to convert the budget object to integers"
   ]
  },
  {
   "cell_type": "code",
   "execution_count": 357,
   "metadata": {
    "ExecuteTime": {
     "end_time": "2018-01-28T21:03:59.887197Z",
     "start_time": "2018-01-28T21:03:59.857451Z"
    }
   },
   "outputs": [
    {
     "data": {
      "text/html": [
       "<div>\n",
       "<style>\n",
       "    .dataframe thead tr:only-child th {\n",
       "        text-align: right;\n",
       "    }\n",
       "\n",
       "    .dataframe thead th {\n",
       "        text-align: left;\n",
       "    }\n",
       "\n",
       "    .dataframe tbody tr th {\n",
       "        vertical-align: top;\n",
       "    }\n",
       "</style>\n",
       "<table border=\"1\" class=\"dataframe\">\n",
       "  <thead>\n",
       "    <tr style=\"text-align: right;\">\n",
       "      <th></th>\n",
       "      <th>index</th>\n",
       "      <th>School_ID</th>\n",
       "      <th>Short_Name</th>\n",
       "      <th>Long_Name</th>\n",
       "      <th>School_Type</th>\n",
       "      <th>Zip</th>\n",
       "      <th>Facebook</th>\n",
       "      <th>Twitter</th>\n",
       "      <th>Student_Count_Total</th>\n",
       "      <th>Student_Count_Low_Income</th>\n",
       "      <th>...</th>\n",
       "      <th>match_id_x</th>\n",
       "      <th>school_match_count</th>\n",
       "      <th>match_id_y</th>\n",
       "      <th>School</th>\n",
       "      <th>2016-17</th>\n",
       "      <th>2015-16</th>\n",
       "      <th>Pct. Change</th>\n",
       "      <th>New Budget</th>\n",
       "      <th>Budget Change</th>\n",
       "      <th>cleaned_name_y</th>\n",
       "    </tr>\n",
       "  </thead>\n",
       "  <tbody>\n",
       "    <tr>\n",
       "      <th>0</th>\n",
       "      <td>91</td>\n",
       "      <td>609678</td>\n",
       "      <td>JONES HS</td>\n",
       "      <td>William Jones College Preparatory High School</td>\n",
       "      <td>Selective enrollment</td>\n",
       "      <td>60605</td>\n",
       "      <td>https://www.facebook.com/JonesCollegePrepHS/</td>\n",
       "      <td>https://twitter.com/jonescollegehs</td>\n",
       "      <td>1866</td>\n",
       "      <td>732</td>\n",
       "      <td>...</td>\n",
       "      <td>2.0</td>\n",
       "      <td>1.0</td>\n",
       "      <td>2</td>\n",
       "      <td>Jones High School</td>\n",
       "      <td>1820</td>\n",
       "      <td>1670</td>\n",
       "      <td>8.98%</td>\n",
       "      <td>$11,061,717</td>\n",
       "      <td>-$231,475</td>\n",
       "      <td>jones</td>\n",
       "    </tr>\n",
       "    <tr>\n",
       "      <th>1</th>\n",
       "      <td>10</td>\n",
       "      <td>400058</td>\n",
       "      <td>NORTH LAWNDALE - CHRISTIANA HS</td>\n",
       "      <td>North Lawndale College Prep - Christiana</td>\n",
       "      <td>Charter</td>\n",
       "      <td>60623</td>\n",
       "      <td>https://www.facebook.com/nlcphs</td>\n",
       "      <td>NaN</td>\n",
       "      <td>357</td>\n",
       "      <td>349</td>\n",
       "      <td>...</td>\n",
       "      <td>246.0</td>\n",
       "      <td>3.0</td>\n",
       "      <td>246</td>\n",
       "      <td>Lawndale</td>\n",
       "      <td>243</td>\n",
       "      <td>329</td>\n",
       "      <td>-26.14%</td>\n",
       "      <td>$1,850,711</td>\n",
       "      <td>-$411,432</td>\n",
       "      <td>lawndale</td>\n",
       "    </tr>\n",
       "    <tr>\n",
       "      <th>2</th>\n",
       "      <td>115</td>\n",
       "      <td>400059</td>\n",
       "      <td>NORTH LAWNDALE - COLLINS HS</td>\n",
       "      <td>North Lawndale College Prep - Collins</td>\n",
       "      <td>Charter</td>\n",
       "      <td>60623</td>\n",
       "      <td>https://www.facebook.com/nlcphs</td>\n",
       "      <td>NaN</td>\n",
       "      <td>351</td>\n",
       "      <td>340</td>\n",
       "      <td>...</td>\n",
       "      <td>246.0</td>\n",
       "      <td>3.0</td>\n",
       "      <td>246</td>\n",
       "      <td>Lawndale</td>\n",
       "      <td>243</td>\n",
       "      <td>329</td>\n",
       "      <td>-26.14%</td>\n",
       "      <td>$1,850,711</td>\n",
       "      <td>-$411,432</td>\n",
       "      <td>lawndale</td>\n",
       "    </tr>\n",
       "    <tr>\n",
       "      <th>3</th>\n",
       "      <td>66</td>\n",
       "      <td>610389</td>\n",
       "      <td>ORR HS</td>\n",
       "      <td>Orr Academy High School</td>\n",
       "      <td>Neighborhood</td>\n",
       "      <td>60624</td>\n",
       "      <td>https://www.facebook.com/orracademyhighschool</td>\n",
       "      <td>https://twitter.com/orracademy</td>\n",
       "      <td>276</td>\n",
       "      <td>263</td>\n",
       "      <td>...</td>\n",
       "      <td>467.0</td>\n",
       "      <td>1.0</td>\n",
       "      <td>467</td>\n",
       "      <td>Orr High School</td>\n",
       "      <td>396</td>\n",
       "      <td>405</td>\n",
       "      <td>-2.22%</td>\n",
       "      <td>$3,702,822</td>\n",
       "      <td>$305,624</td>\n",
       "      <td>orr</td>\n",
       "    </tr>\n",
       "    <tr>\n",
       "      <th>4</th>\n",
       "      <td>9</td>\n",
       "      <td>610394</td>\n",
       "      <td>UPLIFT HS</td>\n",
       "      <td>Uplift Community High School</td>\n",
       "      <td>Small</td>\n",
       "      <td>60640</td>\n",
       "      <td>NaN</td>\n",
       "      <td>https://twitter.com/UpliftTitans</td>\n",
       "      <td>245</td>\n",
       "      <td>229</td>\n",
       "      <td>...</td>\n",
       "      <td>471.0</td>\n",
       "      <td>1.0</td>\n",
       "      <td>471</td>\n",
       "      <td>Uplift High School</td>\n",
       "      <td>301</td>\n",
       "      <td>311</td>\n",
       "      <td>-3.22%</td>\n",
       "      <td>$2,633,463</td>\n",
       "      <td>$91,618</td>\n",
       "      <td>uplift</td>\n",
       "    </tr>\n",
       "  </tbody>\n",
       "</table>\n",
       "<p>5 rows × 35 columns</p>\n",
       "</div>"
      ],
      "text/plain": [
       "   index School_ID                      Short_Name  \\\n",
       "0     91    609678                        JONES HS   \n",
       "1     10    400058  NORTH LAWNDALE - CHRISTIANA HS   \n",
       "2    115    400059     NORTH LAWNDALE - COLLINS HS   \n",
       "3     66    610389                          ORR HS   \n",
       "4      9    610394                       UPLIFT HS   \n",
       "\n",
       "                                       Long_Name           School_Type    Zip  \\\n",
       "0  William Jones College Preparatory High School  Selective enrollment  60605   \n",
       "1       North Lawndale College Prep - Christiana               Charter  60623   \n",
       "2          North Lawndale College Prep - Collins               Charter  60623   \n",
       "3                        Orr Academy High School          Neighborhood  60624   \n",
       "4                   Uplift Community High School                 Small  60640   \n",
       "\n",
       "                                        Facebook  \\\n",
       "0   https://www.facebook.com/JonesCollegePrepHS/   \n",
       "1                https://www.facebook.com/nlcphs   \n",
       "2                https://www.facebook.com/nlcphs   \n",
       "3  https://www.facebook.com/orracademyhighschool   \n",
       "4                                            NaN   \n",
       "\n",
       "                              Twitter  Student_Count_Total  \\\n",
       "0  https://twitter.com/jonescollegehs                 1866   \n",
       "1                                 NaN                  357   \n",
       "2                                 NaN                  351   \n",
       "3      https://twitter.com/orracademy                  276   \n",
       "4    https://twitter.com/UpliftTitans                  245   \n",
       "\n",
       "   Student_Count_Low_Income       ...       match_id_x school_match_count  \\\n",
       "0                       732       ...              2.0                1.0   \n",
       "1                       349       ...            246.0                3.0   \n",
       "2                       340       ...            246.0                3.0   \n",
       "3                       263       ...            467.0                1.0   \n",
       "4                       229       ...            471.0                1.0   \n",
       "\n",
       "   match_id_y              School  2016-17  2015-16  Pct. Change   New Budget  \\\n",
       "0           2   Jones High School     1820     1670        8.98%  $11,061,717   \n",
       "1         246            Lawndale      243      329      -26.14%   $1,850,711   \n",
       "2         246            Lawndale      243      329      -26.14%   $1,850,711   \n",
       "3         467     Orr High School      396      405       -2.22%   $3,702,822   \n",
       "4         471  Uplift High School      301      311       -3.22%   $2,633,463   \n",
       "\n",
       "   Budget Change  cleaned_name_y  \n",
       "0      -$231,475           jones  \n",
       "1      -$411,432        lawndale  \n",
       "2      -$411,432        lawndale  \n",
       "3       $305,624             orr  \n",
       "4        $91,618          uplift  \n",
       "\n",
       "[5 rows x 35 columns]"
      ]
     },
     "execution_count": 357,
     "metadata": {},
     "output_type": "execute_result"
    }
   ],
   "source": [
    "all_matches.reset_index(drop=True, inplace=True)\n",
    "all_matches.head()"
   ]
  },
  {
   "cell_type": "code",
   "execution_count": 364,
   "metadata": {
    "ExecuteTime": {
     "end_time": "2018-01-28T21:10:11.536108Z",
     "start_time": "2018-01-28T21:10:11.530775Z"
    }
   },
   "outputs": [],
   "source": [
    "def make_int(series):\n",
    "    \n",
    "    stripped_str = [int(x.replace('$', '').replace(',','')) for x in series]\n",
    "    \n",
    "    return stripped_str\n",
    "    "
   ]
  },
  {
   "cell_type": "code",
   "execution_count": 371,
   "metadata": {
    "ExecuteTime": {
     "end_time": "2018-01-28T21:11:22.092012Z",
     "start_time": "2018-01-28T21:11:22.085505Z"
    },
    "collapsed": true
   },
   "outputs": [],
   "source": [
    "def dollars_per_student(budget_col, student_col):\n",
    "    \n",
    "    dollars_int = make_int(series=budget_col)\n",
    "    \n",
    "    return [ dollars/int(students) for (dollars, students) in zip(dollars_int, student_col)]"
   ]
  },
  {
   "cell_type": "code",
   "execution_count": 372,
   "metadata": {
    "ExecuteTime": {
     "end_time": "2018-01-28T21:11:22.858906Z",
     "start_time": "2018-01-28T21:11:22.854035Z"
    }
   },
   "outputs": [],
   "source": [
    "all_matches['dollars_per_student'] = dollars_per_student(budget_col=all_matches['New Budget'],\n",
    "                                                        student_col=all_matches['Student_Count_Total'])"
   ]
  },
  {
   "cell_type": "markdown",
   "metadata": {
    "ExecuteTime": {
     "end_time": "2018-01-28T21:00:27.701789Z",
     "start_time": "2018-01-28T21:00:27.695521Z"
    }
   },
   "source": [
    "Now to calculate a percent diff in the budget from the previous year (we are given the change amount)"
   ]
  },
  {
   "cell_type": "code",
   "execution_count": 381,
   "metadata": {
    "ExecuteTime": {
     "end_time": "2018-01-28T21:22:03.340749Z",
     "start_time": "2018-01-28T21:22:03.332520Z"
    },
    "collapsed": true
   },
   "outputs": [],
   "source": [
    "def budget_percent_diff(current_budget, budget_diff):\n",
    "    \n",
    "    budget_int = make_int(current_budget)\n",
    "    diff_int = make_int(budget_diff)\n",
    "    \n",
    "    last_year_budget = [current - change for (current, change) in zip(budget_int, diff_int)]\n",
    "    \n",
    "    percent_diff = [diff/last_year for (last_year, diff) in zip(last_year_budget, diff_int)]\n",
    "    \n",
    "    return percent_diff\n",
    "    "
   ]
  },
  {
   "cell_type": "code",
   "execution_count": 376,
   "metadata": {
    "ExecuteTime": {
     "end_time": "2018-01-28T21:19:16.321965Z",
     "start_time": "2018-01-28T21:19:16.317251Z"
    }
   },
   "outputs": [],
   "source": [
    "all_matches['last_year'] = budget_percent_diff(current_budget=all_matches['New Budget'],\n",
    "                                              budget_diff=all_matches['Budget Change'])"
   ]
  },
  {
   "cell_type": "code",
   "execution_count": 382,
   "metadata": {
    "ExecuteTime": {
     "end_time": "2018-01-28T21:22:05.155947Z",
     "start_time": "2018-01-28T21:22:05.149617Z"
    }
   },
   "outputs": [],
   "source": [
    "all_matches['percent_diff_budget'] = budget_percent_diff(current_budget=all_matches['New Budget'],\n",
    "                                                          budget_diff=all_matches['Budget Change'])"
   ]
  },
  {
   "cell_type": "markdown",
   "metadata": {
    "ExecuteTime": {
     "end_time": "2018-01-28T21:22:06.218093Z",
     "start_time": "2018-01-28T21:22:06.187500Z"
    }
   },
   "source": [
    "## Student Dimensions\n",
    "\n",
    "I need to find the percentage of students who are low income and the average ACT score"
   ]
  },
  {
   "cell_type": "code",
   "execution_count": 384,
   "metadata": {
    "ExecuteTime": {
     "end_time": "2018-01-28T21:25:26.578460Z",
     "start_time": "2018-01-28T21:25:26.551378Z"
    }
   },
   "outputs": [
    {
     "data": {
      "text/html": [
       "<div>\n",
       "<style>\n",
       "    .dataframe thead tr:only-child th {\n",
       "        text-align: right;\n",
       "    }\n",
       "\n",
       "    .dataframe thead th {\n",
       "        text-align: left;\n",
       "    }\n",
       "\n",
       "    .dataframe tbody tr th {\n",
       "        vertical-align: top;\n",
       "    }\n",
       "</style>\n",
       "<table border=\"1\" class=\"dataframe\">\n",
       "  <thead>\n",
       "    <tr style=\"text-align: right;\">\n",
       "      <th></th>\n",
       "      <th>index</th>\n",
       "      <th>School_ID</th>\n",
       "      <th>Short_Name</th>\n",
       "      <th>Long_Name</th>\n",
       "      <th>School_Type</th>\n",
       "      <th>Zip</th>\n",
       "      <th>Facebook</th>\n",
       "      <th>Twitter</th>\n",
       "      <th>Student_Count_Total</th>\n",
       "      <th>Student_Count_Low_Income</th>\n",
       "      <th>...</th>\n",
       "      <th>School</th>\n",
       "      <th>2016-17</th>\n",
       "      <th>2015-16</th>\n",
       "      <th>Pct. Change</th>\n",
       "      <th>New Budget</th>\n",
       "      <th>Budget Change</th>\n",
       "      <th>cleaned_name_y</th>\n",
       "      <th>dollars_per_student</th>\n",
       "      <th>last_year</th>\n",
       "      <th>percent_diff_budget</th>\n",
       "    </tr>\n",
       "  </thead>\n",
       "  <tbody>\n",
       "    <tr>\n",
       "      <th>0</th>\n",
       "      <td>91</td>\n",
       "      <td>609678</td>\n",
       "      <td>JONES HS</td>\n",
       "      <td>William Jones College Preparatory High School</td>\n",
       "      <td>Selective enrollment</td>\n",
       "      <td>60605</td>\n",
       "      <td>https://www.facebook.com/JonesCollegePrepHS/</td>\n",
       "      <td>https://twitter.com/jonescollegehs</td>\n",
       "      <td>1866</td>\n",
       "      <td>732</td>\n",
       "      <td>...</td>\n",
       "      <td>Jones High School</td>\n",
       "      <td>1820</td>\n",
       "      <td>1670</td>\n",
       "      <td>8.98%</td>\n",
       "      <td>$11,061,717</td>\n",
       "      <td>-$231,475</td>\n",
       "      <td>jones</td>\n",
       "      <td>5928.036977</td>\n",
       "      <td>11293192.0</td>\n",
       "      <td>-0.020497</td>\n",
       "    </tr>\n",
       "    <tr>\n",
       "      <th>1</th>\n",
       "      <td>10</td>\n",
       "      <td>400058</td>\n",
       "      <td>NORTH LAWNDALE - CHRISTIANA HS</td>\n",
       "      <td>North Lawndale College Prep - Christiana</td>\n",
       "      <td>Charter</td>\n",
       "      <td>60623</td>\n",
       "      <td>https://www.facebook.com/nlcphs</td>\n",
       "      <td>NaN</td>\n",
       "      <td>357</td>\n",
       "      <td>349</td>\n",
       "      <td>...</td>\n",
       "      <td>Lawndale</td>\n",
       "      <td>243</td>\n",
       "      <td>329</td>\n",
       "      <td>-26.14%</td>\n",
       "      <td>$1,850,711</td>\n",
       "      <td>-$411,432</td>\n",
       "      <td>lawndale</td>\n",
       "      <td>5184.064426</td>\n",
       "      <td>2262143.0</td>\n",
       "      <td>-0.181877</td>\n",
       "    </tr>\n",
       "    <tr>\n",
       "      <th>2</th>\n",
       "      <td>115</td>\n",
       "      <td>400059</td>\n",
       "      <td>NORTH LAWNDALE - COLLINS HS</td>\n",
       "      <td>North Lawndale College Prep - Collins</td>\n",
       "      <td>Charter</td>\n",
       "      <td>60623</td>\n",
       "      <td>https://www.facebook.com/nlcphs</td>\n",
       "      <td>NaN</td>\n",
       "      <td>351</td>\n",
       "      <td>340</td>\n",
       "      <td>...</td>\n",
       "      <td>Lawndale</td>\n",
       "      <td>243</td>\n",
       "      <td>329</td>\n",
       "      <td>-26.14%</td>\n",
       "      <td>$1,850,711</td>\n",
       "      <td>-$411,432</td>\n",
       "      <td>lawndale</td>\n",
       "      <td>5272.680912</td>\n",
       "      <td>2262143.0</td>\n",
       "      <td>-0.181877</td>\n",
       "    </tr>\n",
       "    <tr>\n",
       "      <th>3</th>\n",
       "      <td>66</td>\n",
       "      <td>610389</td>\n",
       "      <td>ORR HS</td>\n",
       "      <td>Orr Academy High School</td>\n",
       "      <td>Neighborhood</td>\n",
       "      <td>60624</td>\n",
       "      <td>https://www.facebook.com/orracademyhighschool</td>\n",
       "      <td>https://twitter.com/orracademy</td>\n",
       "      <td>276</td>\n",
       "      <td>263</td>\n",
       "      <td>...</td>\n",
       "      <td>Orr High School</td>\n",
       "      <td>396</td>\n",
       "      <td>405</td>\n",
       "      <td>-2.22%</td>\n",
       "      <td>$3,702,822</td>\n",
       "      <td>$305,624</td>\n",
       "      <td>orr</td>\n",
       "      <td>13416.021739</td>\n",
       "      <td>3397198.0</td>\n",
       "      <td>0.089964</td>\n",
       "    </tr>\n",
       "    <tr>\n",
       "      <th>4</th>\n",
       "      <td>9</td>\n",
       "      <td>610394</td>\n",
       "      <td>UPLIFT HS</td>\n",
       "      <td>Uplift Community High School</td>\n",
       "      <td>Small</td>\n",
       "      <td>60640</td>\n",
       "      <td>NaN</td>\n",
       "      <td>https://twitter.com/UpliftTitans</td>\n",
       "      <td>245</td>\n",
       "      <td>229</td>\n",
       "      <td>...</td>\n",
       "      <td>Uplift High School</td>\n",
       "      <td>301</td>\n",
       "      <td>311</td>\n",
       "      <td>-3.22%</td>\n",
       "      <td>$2,633,463</td>\n",
       "      <td>$91,618</td>\n",
       "      <td>uplift</td>\n",
       "      <td>10748.828571</td>\n",
       "      <td>2541845.0</td>\n",
       "      <td>0.036044</td>\n",
       "    </tr>\n",
       "  </tbody>\n",
       "</table>\n",
       "<p>5 rows × 38 columns</p>\n",
       "</div>"
      ],
      "text/plain": [
       "   index School_ID                      Short_Name  \\\n",
       "0     91    609678                        JONES HS   \n",
       "1     10    400058  NORTH LAWNDALE - CHRISTIANA HS   \n",
       "2    115    400059     NORTH LAWNDALE - COLLINS HS   \n",
       "3     66    610389                          ORR HS   \n",
       "4      9    610394                       UPLIFT HS   \n",
       "\n",
       "                                       Long_Name           School_Type    Zip  \\\n",
       "0  William Jones College Preparatory High School  Selective enrollment  60605   \n",
       "1       North Lawndale College Prep - Christiana               Charter  60623   \n",
       "2          North Lawndale College Prep - Collins               Charter  60623   \n",
       "3                        Orr Academy High School          Neighborhood  60624   \n",
       "4                   Uplift Community High School                 Small  60640   \n",
       "\n",
       "                                        Facebook  \\\n",
       "0   https://www.facebook.com/JonesCollegePrepHS/   \n",
       "1                https://www.facebook.com/nlcphs   \n",
       "2                https://www.facebook.com/nlcphs   \n",
       "3  https://www.facebook.com/orracademyhighschool   \n",
       "4                                            NaN   \n",
       "\n",
       "                              Twitter  Student_Count_Total  \\\n",
       "0  https://twitter.com/jonescollegehs                 1866   \n",
       "1                                 NaN                  357   \n",
       "2                                 NaN                  351   \n",
       "3      https://twitter.com/orracademy                  276   \n",
       "4    https://twitter.com/UpliftTitans                  245   \n",
       "\n",
       "   Student_Count_Low_Income         ...                       School 2016-17  \\\n",
       "0                       732         ...            Jones High School    1820   \n",
       "1                       349         ...                     Lawndale     243   \n",
       "2                       340         ...                     Lawndale     243   \n",
       "3                       263         ...              Orr High School     396   \n",
       "4                       229         ...           Uplift High School     301   \n",
       "\n",
       "   2015-16  Pct. Change   New Budget  Budget Change  cleaned_name_y  \\\n",
       "0     1670        8.98%  $11,061,717      -$231,475           jones   \n",
       "1      329      -26.14%   $1,850,711      -$411,432        lawndale   \n",
       "2      329      -26.14%   $1,850,711      -$411,432        lawndale   \n",
       "3      405       -2.22%   $3,702,822       $305,624             orr   \n",
       "4      311       -3.22%   $2,633,463        $91,618          uplift   \n",
       "\n",
       "   dollars_per_student   last_year  percent_diff_budget  \n",
       "0          5928.036977  11293192.0            -0.020497  \n",
       "1          5184.064426   2262143.0            -0.181877  \n",
       "2          5272.680912   2262143.0            -0.181877  \n",
       "3         13416.021739   3397198.0             0.089964  \n",
       "4         10748.828571   2541845.0             0.036044  \n",
       "\n",
       "[5 rows x 38 columns]"
      ]
     },
     "execution_count": 384,
     "metadata": {},
     "output_type": "execute_result"
    }
   ],
   "source": [
    "all_matches.head()"
   ]
  },
  {
   "cell_type": "code",
   "execution_count": 385,
   "metadata": {
    "ExecuteTime": {
     "end_time": "2018-01-28T21:27:39.293346Z",
     "start_time": "2018-01-28T21:27:39.287206Z"
    },
    "collapsed": true
   },
   "outputs": [],
   "source": [
    "all_matches['percent_low_income'] = [low_income/all_students for (all_students, low_income) \n",
    "                                     in zip(all_matches['Student_Count_Total'], all_matches['Student_Count_Low_Income'])]"
   ]
  },
  {
   "cell_type": "code",
   "execution_count": 388,
   "metadata": {
    "ExecuteTime": {
     "end_time": "2018-01-28T21:28:27.169482Z",
     "start_time": "2018-01-28T21:28:27.157667Z"
    }
   },
   "outputs": [
    {
     "data": {
      "text/html": [
       "<div>\n",
       "<style>\n",
       "    .dataframe thead tr:only-child th {\n",
       "        text-align: right;\n",
       "    }\n",
       "\n",
       "    .dataframe thead th {\n",
       "        text-align: left;\n",
       "    }\n",
       "\n",
       "    .dataframe tbody tr th {\n",
       "        vertical-align: top;\n",
       "    }\n",
       "</style>\n",
       "<table border=\"1\" class=\"dataframe\">\n",
       "  <thead>\n",
       "    <tr style=\"text-align: right;\">\n",
       "      <th></th>\n",
       "      <th>Student_Count_Total</th>\n",
       "      <th>Student_Count_Low_Income</th>\n",
       "      <th>percent_low_income</th>\n",
       "    </tr>\n",
       "  </thead>\n",
       "  <tbody>\n",
       "    <tr>\n",
       "      <th>0</th>\n",
       "      <td>1866</td>\n",
       "      <td>732</td>\n",
       "      <td>0.392283</td>\n",
       "    </tr>\n",
       "    <tr>\n",
       "      <th>1</th>\n",
       "      <td>357</td>\n",
       "      <td>349</td>\n",
       "      <td>0.977591</td>\n",
       "    </tr>\n",
       "    <tr>\n",
       "      <th>2</th>\n",
       "      <td>351</td>\n",
       "      <td>340</td>\n",
       "      <td>0.968661</td>\n",
       "    </tr>\n",
       "    <tr>\n",
       "      <th>3</th>\n",
       "      <td>276</td>\n",
       "      <td>263</td>\n",
       "      <td>0.952899</td>\n",
       "    </tr>\n",
       "    <tr>\n",
       "      <th>4</th>\n",
       "      <td>245</td>\n",
       "      <td>229</td>\n",
       "      <td>0.934694</td>\n",
       "    </tr>\n",
       "    <tr>\n",
       "      <th>5</th>\n",
       "      <td>313</td>\n",
       "      <td>295</td>\n",
       "      <td>0.942492</td>\n",
       "    </tr>\n",
       "    <tr>\n",
       "      <th>6</th>\n",
       "      <td>113</td>\n",
       "      <td>105</td>\n",
       "      <td>0.929204</td>\n",
       "    </tr>\n",
       "    <tr>\n",
       "      <th>7</th>\n",
       "      <td>598</td>\n",
       "      <td>492</td>\n",
       "      <td>0.822742</td>\n",
       "    </tr>\n",
       "    <tr>\n",
       "      <th>8</th>\n",
       "      <td>731</td>\n",
       "      <td>703</td>\n",
       "      <td>0.961696</td>\n",
       "    </tr>\n",
       "    <tr>\n",
       "      <th>9</th>\n",
       "      <td>218</td>\n",
       "      <td>196</td>\n",
       "      <td>0.899083</td>\n",
       "    </tr>\n",
       "    <tr>\n",
       "      <th>10</th>\n",
       "      <td>256</td>\n",
       "      <td>255</td>\n",
       "      <td>0.996094</td>\n",
       "    </tr>\n",
       "  </tbody>\n",
       "</table>\n",
       "</div>"
      ],
      "text/plain": [
       "    Student_Count_Total  Student_Count_Low_Income  percent_low_income\n",
       "0                  1866                       732            0.392283\n",
       "1                   357                       349            0.977591\n",
       "2                   351                       340            0.968661\n",
       "3                   276                       263            0.952899\n",
       "4                   245                       229            0.934694\n",
       "5                   313                       295            0.942492\n",
       "6                   113                       105            0.929204\n",
       "7                   598                       492            0.822742\n",
       "8                   731                       703            0.961696\n",
       "9                   218                       196            0.899083\n",
       "10                  256                       255            0.996094"
      ]
     },
     "execution_count": 388,
     "metadata": {},
     "output_type": "execute_result"
    }
   ],
   "source": [
    "all_matches.loc[:10, ['Student_Count_Total', 'Student_Count_Low_Income', 'percent_low_income']]"
   ]
  },
  {
   "cell_type": "code",
   "execution_count": 389,
   "metadata": {
    "ExecuteTime": {
     "end_time": "2018-01-28T21:29:04.687264Z",
     "start_time": "2018-01-28T21:29:04.680367Z"
    }
   },
   "outputs": [
    {
     "data": {
      "text/plain": [
       "['index',\n",
       " 'School_ID',\n",
       " 'Short_Name',\n",
       " 'Long_Name',\n",
       " 'School_Type',\n",
       " 'Zip',\n",
       " 'Facebook',\n",
       " 'Twitter',\n",
       " 'Student_Count_Total',\n",
       " 'Student_Count_Low_Income',\n",
       " 'School_Hours',\n",
       " 'Transportation_El',\n",
       " 'School_Latitude',\n",
       " 'School_Longitude',\n",
       " 'Average_ACT_School',\n",
       " 'Graduation_Rate_School',\n",
       " 'fb_likes',\n",
       " 'tw_followers',\n",
       " 'tw_tweets',\n",
       " 'crime_counts',\n",
       " 'crime_outlier',\n",
       " 'crimes_per_student',\n",
       " 'crimes_per_1000_students',\n",
       " 'cleaned_name_x',\n",
       " 'matches',\n",
       " 'match_id_x',\n",
       " 'school_match_count',\n",
       " 'match_id_y',\n",
       " 'School',\n",
       " '2016-17',\n",
       " '2015-16',\n",
       " 'Pct. Change',\n",
       " 'New Budget',\n",
       " 'Budget Change',\n",
       " 'cleaned_name_y',\n",
       " 'dollars_per_student',\n",
       " 'last_year',\n",
       " 'percent_diff_budget',\n",
       " 'percent_low_income']"
      ]
     },
     "execution_count": 389,
     "metadata": {},
     "output_type": "execute_result"
    }
   ],
   "source": [
    "list(all_matches)"
   ]
  },
  {
   "cell_type": "code",
   "execution_count": 391,
   "metadata": {
    "ExecuteTime": {
     "end_time": "2018-01-28T21:32:35.242683Z",
     "start_time": "2018-01-28T21:32:35.236808Z"
    }
   },
   "outputs": [],
   "source": [
    "cleaned_data = all_matches.loc[:,['School_ID','Graduation_Rate_School', 'Short_Name', 'School_Type','Transportation_El',\n",
    "                                      'School_Latitude','School_Longitude','Average_ACT_School', 'crimes_per_student',\n",
    "                                      'dollars_per_student','percent_diff_budget', 'percent_low_income']]"
   ]
  },
  {
   "cell_type": "code",
   "execution_count": 392,
   "metadata": {
    "ExecuteTime": {
     "end_time": "2018-01-28T21:32:42.794678Z",
     "start_time": "2018-01-28T21:32:42.778380Z"
    }
   },
   "outputs": [
    {
     "data": {
      "text/html": [
       "<div>\n",
       "<style>\n",
       "    .dataframe thead tr:only-child th {\n",
       "        text-align: right;\n",
       "    }\n",
       "\n",
       "    .dataframe thead th {\n",
       "        text-align: left;\n",
       "    }\n",
       "\n",
       "    .dataframe tbody tr th {\n",
       "        vertical-align: top;\n",
       "    }\n",
       "</style>\n",
       "<table border=\"1\" class=\"dataframe\">\n",
       "  <thead>\n",
       "    <tr style=\"text-align: right;\">\n",
       "      <th></th>\n",
       "      <th>School_ID</th>\n",
       "      <th>Graduation_Rate_School</th>\n",
       "      <th>Short_Name</th>\n",
       "      <th>School_Type</th>\n",
       "      <th>Transportation_El</th>\n",
       "      <th>School_Latitude</th>\n",
       "      <th>School_Longitude</th>\n",
       "      <th>Average_ACT_School</th>\n",
       "      <th>crimes_per_student</th>\n",
       "      <th>dollars_per_student</th>\n",
       "      <th>percent_diff_budget</th>\n",
       "      <th>percent_low_income</th>\n",
       "    </tr>\n",
       "  </thead>\n",
       "  <tbody>\n",
       "    <tr>\n",
       "      <th>0</th>\n",
       "      <td>609678</td>\n",
       "      <td>91.8</td>\n",
       "      <td>JONES HS</td>\n",
       "      <td>Selective enrollment</td>\n",
       "      <td>Blue, Brown, Pink, Red</td>\n",
       "      <td>41.873066</td>\n",
       "      <td>-87.627675</td>\n",
       "      <td>26.2</td>\n",
       "      <td>0.041801</td>\n",
       "      <td>5928.036977</td>\n",
       "      <td>-0.020497</td>\n",
       "      <td>0.392283</td>\n",
       "    </tr>\n",
       "    <tr>\n",
       "      <th>1</th>\n",
       "      <td>400058</td>\n",
       "      <td>67.1</td>\n",
       "      <td>NORTH LAWNDALE - CHRISTIANA HS</td>\n",
       "      <td>Charter</td>\n",
       "      <td>Green</td>\n",
       "      <td>41.858564</td>\n",
       "      <td>-87.708987</td>\n",
       "      <td>15.3</td>\n",
       "      <td>0.641457</td>\n",
       "      <td>5184.064426</td>\n",
       "      <td>-0.181877</td>\n",
       "      <td>0.977591</td>\n",
       "    </tr>\n",
       "    <tr>\n",
       "      <th>2</th>\n",
       "      <td>400059</td>\n",
       "      <td>69.7</td>\n",
       "      <td>NORTH LAWNDALE - COLLINS HS</td>\n",
       "      <td>Charter</td>\n",
       "      <td>Red</td>\n",
       "      <td>41.864146</td>\n",
       "      <td>-87.700681</td>\n",
       "      <td>14.5</td>\n",
       "      <td>0.150997</td>\n",
       "      <td>5272.680912</td>\n",
       "      <td>-0.181877</td>\n",
       "      <td>0.968661</td>\n",
       "    </tr>\n",
       "    <tr>\n",
       "      <th>3</th>\n",
       "      <td>610389</td>\n",
       "      <td>39.0</td>\n",
       "      <td>ORR HS</td>\n",
       "      <td>Neighborhood</td>\n",
       "      <td>NaN</td>\n",
       "      <td>41.894449</td>\n",
       "      <td>-87.726166</td>\n",
       "      <td>14.2</td>\n",
       "      <td>0.721014</td>\n",
       "      <td>13416.021739</td>\n",
       "      <td>0.089964</td>\n",
       "      <td>0.952899</td>\n",
       "    </tr>\n",
       "    <tr>\n",
       "      <th>4</th>\n",
       "      <td>610394</td>\n",
       "      <td>74.3</td>\n",
       "      <td>UPLIFT HS</td>\n",
       "      <td>Small</td>\n",
       "      <td>Red</td>\n",
       "      <td>41.965547</td>\n",
       "      <td>-87.652473</td>\n",
       "      <td>15.6</td>\n",
       "      <td>0.714286</td>\n",
       "      <td>10748.828571</td>\n",
       "      <td>0.036044</td>\n",
       "      <td>0.934694</td>\n",
       "    </tr>\n",
       "  </tbody>\n",
       "</table>\n",
       "</div>"
      ],
      "text/plain": [
       "  School_ID  Graduation_Rate_School                      Short_Name  \\\n",
       "0    609678                    91.8                        JONES HS   \n",
       "1    400058                    67.1  NORTH LAWNDALE - CHRISTIANA HS   \n",
       "2    400059                    69.7     NORTH LAWNDALE - COLLINS HS   \n",
       "3    610389                    39.0                          ORR HS   \n",
       "4    610394                    74.3                       UPLIFT HS   \n",
       "\n",
       "            School_Type       Transportation_El  School_Latitude  \\\n",
       "0  Selective enrollment  Blue, Brown, Pink, Red        41.873066   \n",
       "1               Charter                   Green        41.858564   \n",
       "2               Charter                     Red        41.864146   \n",
       "3          Neighborhood                     NaN        41.894449   \n",
       "4                 Small                     Red        41.965547   \n",
       "\n",
       "   School_Longitude  Average_ACT_School  crimes_per_student  \\\n",
       "0        -87.627675                26.2            0.041801   \n",
       "1        -87.708987                15.3            0.641457   \n",
       "2        -87.700681                14.5            0.150997   \n",
       "3        -87.726166                14.2            0.721014   \n",
       "4        -87.652473                15.6            0.714286   \n",
       "\n",
       "   dollars_per_student  percent_diff_budget  percent_low_income  \n",
       "0          5928.036977            -0.020497            0.392283  \n",
       "1          5184.064426            -0.181877            0.977591  \n",
       "2          5272.680912            -0.181877            0.968661  \n",
       "3         13416.021739             0.089964            0.952899  \n",
       "4         10748.828571             0.036044            0.934694  "
      ]
     },
     "execution_count": 392,
     "metadata": {},
     "output_type": "execute_result"
    }
   ],
   "source": [
    "cleaned_data.head()"
   ]
  },
  {
   "cell_type": "markdown",
   "metadata": {},
   "source": [
    "# Pickle Data"
   ]
  },
  {
   "cell_type": "code",
   "execution_count": 393,
   "metadata": {
    "ExecuteTime": {
     "end_time": "2018-01-28T21:33:30.467322Z",
     "start_time": "2018-01-28T21:33:30.461076Z"
    },
    "collapsed": true
   },
   "outputs": [],
   "source": [
    "cleaned_data.to_pickle('../data/cleaned_data.pkl')"
   ]
  },
  {
   "cell_type": "code",
   "execution_count": null,
   "metadata": {
    "collapsed": true
   },
   "outputs": [],
   "source": []
  }
 ],
 "metadata": {
  "kernelspec": {
   "display_name": "Python 3",
   "language": "python",
   "name": "python3"
  },
  "language_info": {
   "codemirror_mode": {
    "name": "ipython",
    "version": 3
   },
   "file_extension": ".py",
   "mimetype": "text/x-python",
   "name": "python",
   "nbconvert_exporter": "python",
   "pygments_lexer": "ipython3",
   "version": "3.6.3"
  },
  "toc": {
   "nav_menu": {},
   "number_sections": true,
   "sideBar": true,
   "skip_h1_title": false,
   "title_cell": "Table of Contents",
   "title_sidebar": "Contents",
   "toc_cell": false,
   "toc_position": {},
   "toc_section_display": true,
   "toc_window_display": false
  },
  "varInspector": {
   "cols": {
    "lenName": 16,
    "lenType": 16,
    "lenVar": 40
   },
   "kernels_config": {
    "python": {
     "delete_cmd_postfix": "",
     "delete_cmd_prefix": "del ",
     "library": "var_list.py",
     "varRefreshCmd": "print(var_dic_list())"
    },
    "r": {
     "delete_cmd_postfix": ") ",
     "delete_cmd_prefix": "rm(",
     "library": "var_list.r",
     "varRefreshCmd": "cat(var_dic_list()) "
    }
   },
   "types_to_exclude": [
    "module",
    "function",
    "builtin_function_or_method",
    "instance",
    "_Feature"
   ],
   "window_display": false
  }
 },
 "nbformat": 4,
 "nbformat_minor": 2
}
