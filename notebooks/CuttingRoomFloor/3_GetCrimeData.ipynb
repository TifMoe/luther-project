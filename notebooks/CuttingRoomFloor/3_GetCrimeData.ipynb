{
 "cells": [
  {
   "cell_type": "markdown",
   "metadata": {},
   "source": [
    "# Import Libraries\n"
   ]
  },
  {
   "cell_type": "code",
   "execution_count": 52,
   "metadata": {
    "ExecuteTime": {
     "end_time": "2018-01-26T21:15:22.654010Z",
     "start_time": "2018-01-26T21:15:22.605053Z"
    }
   },
   "outputs": [
    {
     "name": "stdout",
     "output_type": "stream",
     "text": [
      "Pandas version 0.20.3\n",
      "Numpy version 1.14.0\n"
     ]
    }
   ],
   "source": [
    "import pandas as pd\n",
    "import numpy as np\n",
    "import matplotlib.pyplot as plt\n",
    "import seaborn as sns\n",
    "\n",
    "% matplotlib inline\n",
    "\n",
    "print('Pandas version', pd.__version__)\n",
    "print('Numpy version', np.__version__)"
   ]
  },
  {
   "cell_type": "markdown",
   "metadata": {},
   "source": [
    "# Load Data\n"
   ]
  },
  {
   "cell_type": "markdown",
   "metadata": {
    "ExecuteTime": {
     "end_time": "2018-01-26T19:22:54.727664Z",
     "start_time": "2018-01-26T19:22:54.724313Z"
    }
   },
   "source": [
    "## Load in Crime stats"
   ]
  },
  {
   "cell_type": "code",
   "execution_count": 3,
   "metadata": {
    "ExecuteTime": {
     "end_time": "2018-01-26T19:23:21.584088Z",
     "start_time": "2018-01-26T19:23:19.885124Z"
    },
    "collapsed": true
   },
   "outputs": [],
   "source": [
    "crimes = pd.read_csv('../data/Crimes_2017.csv')"
   ]
  },
  {
   "cell_type": "code",
   "execution_count": 4,
   "metadata": {
    "ExecuteTime": {
     "end_time": "2018-01-26T19:23:24.456987Z",
     "start_time": "2018-01-26T19:23:24.409637Z"
    }
   },
   "outputs": [
    {
     "data": {
      "text/html": [
       "<div>\n",
       "<style>\n",
       "    .dataframe thead tr:only-child th {\n",
       "        text-align: right;\n",
       "    }\n",
       "\n",
       "    .dataframe thead th {\n",
       "        text-align: left;\n",
       "    }\n",
       "\n",
       "    .dataframe tbody tr th {\n",
       "        vertical-align: top;\n",
       "    }\n",
       "</style>\n",
       "<table border=\"1\" class=\"dataframe\">\n",
       "  <thead>\n",
       "    <tr style=\"text-align: right;\">\n",
       "      <th></th>\n",
       "      <th>ID</th>\n",
       "      <th>Case Number</th>\n",
       "      <th>Date</th>\n",
       "      <th>Block</th>\n",
       "      <th>IUCR</th>\n",
       "      <th>Primary Type</th>\n",
       "      <th>Description</th>\n",
       "      <th>Location Description</th>\n",
       "      <th>Arrest</th>\n",
       "      <th>Domestic</th>\n",
       "      <th>...</th>\n",
       "      <th>Ward</th>\n",
       "      <th>Community Area</th>\n",
       "      <th>FBI Code</th>\n",
       "      <th>X Coordinate</th>\n",
       "      <th>Y Coordinate</th>\n",
       "      <th>Year</th>\n",
       "      <th>Updated On</th>\n",
       "      <th>Latitude</th>\n",
       "      <th>Longitude</th>\n",
       "      <th>Location</th>\n",
       "    </tr>\n",
       "  </thead>\n",
       "  <tbody>\n",
       "    <tr>\n",
       "      <th>0</th>\n",
       "      <td>10801165</td>\n",
       "      <td>JA100077</td>\n",
       "      <td>01/01/2017 01:00:00 AM</td>\n",
       "      <td>0000X W DIVISION ST</td>\n",
       "      <td>0460</td>\n",
       "      <td>BATTERY</td>\n",
       "      <td>SIMPLE</td>\n",
       "      <td>BAR OR TAVERN</td>\n",
       "      <td>True</td>\n",
       "      <td>False</td>\n",
       "      <td>...</td>\n",
       "      <td>42.0</td>\n",
       "      <td>8</td>\n",
       "      <td>08B</td>\n",
       "      <td>1175950.0</td>\n",
       "      <td>1908370.0</td>\n",
       "      <td>2017</td>\n",
       "      <td>02/14/2017 03:49:42 PM</td>\n",
       "      <td>41.903933</td>\n",
       "      <td>-87.629129</td>\n",
       "      <td>(41.903933222, -87.629128536)</td>\n",
       "    </tr>\n",
       "    <tr>\n",
       "      <th>1</th>\n",
       "      <td>10801166</td>\n",
       "      <td>JA100115</td>\n",
       "      <td>01/01/2017 01:23:00 AM</td>\n",
       "      <td>084XX S SANGAMON ST</td>\n",
       "      <td>0470</td>\n",
       "      <td>PUBLIC PEACE VIOLATION</td>\n",
       "      <td>RECKLESS CONDUCT</td>\n",
       "      <td>SIDEWALK</td>\n",
       "      <td>True</td>\n",
       "      <td>False</td>\n",
       "      <td>...</td>\n",
       "      <td>21.0</td>\n",
       "      <td>71</td>\n",
       "      <td>24</td>\n",
       "      <td>1171453.0</td>\n",
       "      <td>1848804.0</td>\n",
       "      <td>2017</td>\n",
       "      <td>02/14/2017 03:49:42 PM</td>\n",
       "      <td>41.740579</td>\n",
       "      <td>-87.647394</td>\n",
       "      <td>(41.740578515, -87.64739377)</td>\n",
       "    </tr>\n",
       "    <tr>\n",
       "      <th>2</th>\n",
       "      <td>10801090</td>\n",
       "      <td>JA100010</td>\n",
       "      <td>01/01/2017 12:01:00 AM</td>\n",
       "      <td>064XX S STONY ISLAND AVE</td>\n",
       "      <td>1310</td>\n",
       "      <td>CRIMINAL DAMAGE</td>\n",
       "      <td>TO PROPERTY</td>\n",
       "      <td>RESIDENCE</td>\n",
       "      <td>False</td>\n",
       "      <td>False</td>\n",
       "      <td>...</td>\n",
       "      <td>5.0</td>\n",
       "      <td>42</td>\n",
       "      <td>14</td>\n",
       "      <td>1187984.0</td>\n",
       "      <td>1862596.0</td>\n",
       "      <td>2017</td>\n",
       "      <td>02/14/2017 03:49:42 PM</td>\n",
       "      <td>41.778047</td>\n",
       "      <td>-87.586388</td>\n",
       "      <td>(41.778047465, -87.586387726)</td>\n",
       "    </tr>\n",
       "    <tr>\n",
       "      <th>3</th>\n",
       "      <td>10801213</td>\n",
       "      <td>JA100092</td>\n",
       "      <td>01/01/2017 01:00:00 AM</td>\n",
       "      <td>023XX S CALIFORNIA AVE</td>\n",
       "      <td>0486</td>\n",
       "      <td>BATTERY</td>\n",
       "      <td>DOMESTIC BATTERY SIMPLE</td>\n",
       "      <td>STREET</td>\n",
       "      <td>False</td>\n",
       "      <td>True</td>\n",
       "      <td>...</td>\n",
       "      <td>12.0</td>\n",
       "      <td>30</td>\n",
       "      <td>08B</td>\n",
       "      <td>1158068.0</td>\n",
       "      <td>1888177.0</td>\n",
       "      <td>2017</td>\n",
       "      <td>02/14/2017 03:49:42 PM</td>\n",
       "      <td>41.848906</td>\n",
       "      <td>-87.695365</td>\n",
       "      <td>(41.848905706, -87.695364781)</td>\n",
       "    </tr>\n",
       "    <tr>\n",
       "      <th>4</th>\n",
       "      <td>10801214</td>\n",
       "      <td>JA100114</td>\n",
       "      <td>01/01/2017 01:45:00 AM</td>\n",
       "      <td>042XX N DAMEN AVE</td>\n",
       "      <td>1310</td>\n",
       "      <td>CRIMINAL DAMAGE</td>\n",
       "      <td>TO PROPERTY</td>\n",
       "      <td>RESIDENCE PORCH/HALLWAY</td>\n",
       "      <td>True</td>\n",
       "      <td>False</td>\n",
       "      <td>...</td>\n",
       "      <td>47.0</td>\n",
       "      <td>5</td>\n",
       "      <td>14</td>\n",
       "      <td>1162249.0</td>\n",
       "      <td>1928318.0</td>\n",
       "      <td>2017</td>\n",
       "      <td>02/14/2017 03:49:42 PM</td>\n",
       "      <td>41.958969</td>\n",
       "      <td>-87.678896</td>\n",
       "      <td>(41.958969376, -87.678896199)</td>\n",
       "    </tr>\n",
       "  </tbody>\n",
       "</table>\n",
       "<p>5 rows × 22 columns</p>\n",
       "</div>"
      ],
      "text/plain": [
       "         ID Case Number                    Date                     Block  \\\n",
       "0  10801165    JA100077  01/01/2017 01:00:00 AM       0000X W DIVISION ST   \n",
       "1  10801166    JA100115  01/01/2017 01:23:00 AM       084XX S SANGAMON ST   \n",
       "2  10801090    JA100010  01/01/2017 12:01:00 AM  064XX S STONY ISLAND AVE   \n",
       "3  10801213    JA100092  01/01/2017 01:00:00 AM    023XX S CALIFORNIA AVE   \n",
       "4  10801214    JA100114  01/01/2017 01:45:00 AM         042XX N DAMEN AVE   \n",
       "\n",
       "   IUCR            Primary Type              Description  \\\n",
       "0  0460                 BATTERY                   SIMPLE   \n",
       "1  0470  PUBLIC PEACE VIOLATION         RECKLESS CONDUCT   \n",
       "2  1310         CRIMINAL DAMAGE              TO PROPERTY   \n",
       "3  0486                 BATTERY  DOMESTIC BATTERY SIMPLE   \n",
       "4  1310         CRIMINAL DAMAGE              TO PROPERTY   \n",
       "\n",
       "      Location Description  Arrest  Domestic              ...                \\\n",
       "0            BAR OR TAVERN    True     False              ...                 \n",
       "1                 SIDEWALK    True     False              ...                 \n",
       "2                RESIDENCE   False     False              ...                 \n",
       "3                   STREET   False      True              ...                 \n",
       "4  RESIDENCE PORCH/HALLWAY    True     False              ...                 \n",
       "\n",
       "   Ward  Community Area  FBI Code  X Coordinate Y Coordinate  Year  \\\n",
       "0  42.0               8       08B     1175950.0    1908370.0  2017   \n",
       "1  21.0              71        24     1171453.0    1848804.0  2017   \n",
       "2   5.0              42        14     1187984.0    1862596.0  2017   \n",
       "3  12.0              30       08B     1158068.0    1888177.0  2017   \n",
       "4  47.0               5        14     1162249.0    1928318.0  2017   \n",
       "\n",
       "               Updated On   Latitude  Longitude                       Location  \n",
       "0  02/14/2017 03:49:42 PM  41.903933 -87.629129  (41.903933222, -87.629128536)  \n",
       "1  02/14/2017 03:49:42 PM  41.740579 -87.647394   (41.740578515, -87.64739377)  \n",
       "2  02/14/2017 03:49:42 PM  41.778047 -87.586388  (41.778047465, -87.586387726)  \n",
       "3  02/14/2017 03:49:42 PM  41.848906 -87.695365  (41.848905706, -87.695364781)  \n",
       "4  02/14/2017 03:49:42 PM  41.958969 -87.678896  (41.958969376, -87.678896199)  \n",
       "\n",
       "[5 rows x 22 columns]"
      ]
     },
     "execution_count": 4,
     "metadata": {},
     "output_type": "execute_result"
    }
   ],
   "source": [
    "crimes.head()"
   ]
  },
  {
   "cell_type": "markdown",
   "metadata": {},
   "source": [
    "### Check Location Data"
   ]
  },
  {
   "cell_type": "code",
   "execution_count": 5,
   "metadata": {
    "ExecuteTime": {
     "end_time": "2018-01-26T19:23:41.891922Z",
     "start_time": "2018-01-26T19:23:41.722410Z"
    }
   },
   "outputs": [
    {
     "name": "stdout",
     "output_type": "stream",
     "text": [
      "<class 'pandas.core.frame.DataFrame'>\n",
      "RangeIndex: 265740 entries, 0 to 265739\n",
      "Data columns (total 22 columns):\n",
      "ID                      265740 non-null int64\n",
      "Case Number             265740 non-null object\n",
      "Date                    265740 non-null object\n",
      "Block                   265740 non-null object\n",
      "IUCR                    265740 non-null object\n",
      "Primary Type            265740 non-null object\n",
      "Description             265740 non-null object\n",
      "Location Description    264880 non-null object\n",
      "Arrest                  265740 non-null bool\n",
      "Domestic                265740 non-null bool\n",
      "Beat                    265740 non-null int64\n",
      "District                265740 non-null int64\n",
      "Ward                    265739 non-null float64\n",
      "Community Area          265740 non-null int64\n",
      "FBI Code                265740 non-null object\n",
      "X Coordinate            249226 non-null float64\n",
      "Y Coordinate            249226 non-null float64\n",
      "Year                    265740 non-null int64\n",
      "Updated On              265740 non-null object\n",
      "Latitude                249226 non-null float64\n",
      "Longitude               249226 non-null float64\n",
      "Location                249226 non-null object\n",
      "dtypes: bool(2), float64(5), int64(5), object(10)\n",
      "memory usage: 41.1+ MB\n"
     ]
    }
   ],
   "source": [
    "crimes.info()"
   ]
  },
  {
   "cell_type": "code",
   "execution_count": 20,
   "metadata": {
    "ExecuteTime": {
     "end_time": "2018-01-26T19:33:07.582421Z",
     "start_time": "2018-01-26T19:33:07.574882Z"
    }
   },
   "outputs": [
    {
     "data": {
      "text/plain": [
       "0.9378565515165199"
      ]
     },
     "execution_count": 20,
     "metadata": {},
     "output_type": "execute_result"
    }
   ],
   "source": [
    "249226/265740"
   ]
  },
  {
   "cell_type": "markdown",
   "metadata": {},
   "source": [
    "Opps! Only 93% of the data have location values - I want to make sure this is normally distributed and there isn't an entire district that just doesn't collect location data"
   ]
  },
  {
   "cell_type": "code",
   "execution_count": 34,
   "metadata": {
    "ExecuteTime": {
     "end_time": "2018-01-26T20:15:16.396254Z",
     "start_time": "2018-01-26T20:15:16.349263Z"
    }
   },
   "outputs": [
    {
     "data": {
      "text/html": [
       "<div>\n",
       "<style>\n",
       "    .dataframe thead tr:only-child th {\n",
       "        text-align: right;\n",
       "    }\n",
       "\n",
       "    .dataframe thead th {\n",
       "        text-align: left;\n",
       "    }\n",
       "\n",
       "    .dataframe tbody tr th {\n",
       "        vertical-align: top;\n",
       "    }\n",
       "</style>\n",
       "<table border=\"1\" class=\"dataframe\">\n",
       "  <thead>\n",
       "    <tr style=\"text-align: right;\">\n",
       "      <th></th>\n",
       "      <th>Community Area</th>\n",
       "      <th>Location</th>\n",
       "      <th>ID</th>\n",
       "      <th>Percent_Missing</th>\n",
       "    </tr>\n",
       "  </thead>\n",
       "  <tbody>\n",
       "    <tr>\n",
       "      <th>76</th>\n",
       "      <td>76</td>\n",
       "      <td>1353</td>\n",
       "      <td>1640</td>\n",
       "      <td>0.175000</td>\n",
       "    </tr>\n",
       "    <tr>\n",
       "      <th>56</th>\n",
       "      <td>56</td>\n",
       "      <td>1733</td>\n",
       "      <td>1913</td>\n",
       "      <td>0.094093</td>\n",
       "    </tr>\n",
       "    <tr>\n",
       "      <th>33</th>\n",
       "      <td>33</td>\n",
       "      <td>1744</td>\n",
       "      <td>1911</td>\n",
       "      <td>0.087389</td>\n",
       "    </tr>\n",
       "    <tr>\n",
       "      <th>57</th>\n",
       "      <td>57</td>\n",
       "      <td>767</td>\n",
       "      <td>838</td>\n",
       "      <td>0.084726</td>\n",
       "    </tr>\n",
       "    <tr>\n",
       "      <th>11</th>\n",
       "      <td>11</td>\n",
       "      <td>957</td>\n",
       "      <td>1041</td>\n",
       "      <td>0.080692</td>\n",
       "    </tr>\n",
       "  </tbody>\n",
       "</table>\n",
       "</div>"
      ],
      "text/plain": [
       "    Community Area  Location    ID  Percent_Missing\n",
       "76              76      1353  1640         0.175000\n",
       "56              56      1733  1913         0.094093\n",
       "33              33      1744  1911         0.087389\n",
       "57              57       767   838         0.084726\n",
       "11              11       957  1041         0.080692"
      ]
     },
     "execution_count": 34,
     "metadata": {},
     "output_type": "execute_result"
    }
   ],
   "source": [
    "missing_loc = crimes.groupby('Community Area', as_index=False)[['Location', 'ID']].count()\n",
    "missing_loc['Percent_Missing'] = [(1 - locs/ids) for index, (locs, ids) in missing_loc[['Location', 'ID']].iterrows()]\n",
    "missing_loc.sort_values('Percent_Missing', ascending=False).head(5)"
   ]
  },
  {
   "cell_type": "markdown",
   "metadata": {},
   "source": [
    "Whoa! So I see that the Community Area missing the most location data for crimes is Community Area 76 - with over 17% of the crimes missing exact lat/longs. This makes more sense when you realize that community area 76 represents **O'Hare International Airport**"
   ]
  },
  {
   "cell_type": "code",
   "execution_count": 31,
   "metadata": {
    "ExecuteTime": {
     "end_time": "2018-01-26T19:43:35.874124Z",
     "start_time": "2018-01-26T19:43:35.635685Z"
    }
   },
   "outputs": [
    {
     "data": {
      "text/plain": [
       "<matplotlib.axes._subplots.AxesSubplot at 0x10c9cc7f0>"
      ]
     },
     "execution_count": 31,
     "metadata": {},
     "output_type": "execute_result"
    },
    {
     "data": {
      "image/png": "[encoded data removed]",
      "text/plain": [
       "<matplotlib.figure.Figure at 0x10b717780>"
      ]
     },
     "metadata": {},
     "output_type": "display_data"
    }
   ],
   "source": [
    "ax = plt.axes()\n",
    "sns.distplot(missing_loc['Percent_Missing'])\n",
    "\n",
    "ax."
   ]
  },
  {
   "cell_type": "markdown",
   "metadata": {},
   "source": [
    "When we plot the percentage of missing location data for each community area, we see the airport outlier to the right (which makes sense and we don't care about, but there's also an outlier to the left - let's take a look at that one"
   ]
  },
  {
   "cell_type": "code",
   "execution_count": 33,
   "metadata": {
    "ExecuteTime": {
     "end_time": "2018-01-26T20:15:11.605345Z",
     "start_time": "2018-01-26T20:15:11.595693Z"
    }
   },
   "outputs": [
    {
     "data": {
      "text/html": [
       "<div>\n",
       "<style>\n",
       "    .dataframe thead tr:only-child th {\n",
       "        text-align: right;\n",
       "    }\n",
       "\n",
       "    .dataframe thead th {\n",
       "        text-align: left;\n",
       "    }\n",
       "\n",
       "    .dataframe tbody tr th {\n",
       "        vertical-align: top;\n",
       "    }\n",
       "</style>\n",
       "<table border=\"1\" class=\"dataframe\">\n",
       "  <thead>\n",
       "    <tr style=\"text-align: right;\">\n",
       "      <th></th>\n",
       "      <th>Community Area</th>\n",
       "      <th>Location</th>\n",
       "      <th>ID</th>\n",
       "      <th>Percent_Missing</th>\n",
       "    </tr>\n",
       "  </thead>\n",
       "  <tbody>\n",
       "    <tr>\n",
       "      <th>0</th>\n",
       "      <td>0</td>\n",
       "      <td>1</td>\n",
       "      <td>1</td>\n",
       "      <td>0.000000</td>\n",
       "    </tr>\n",
       "    <tr>\n",
       "      <th>37</th>\n",
       "      <td>37</td>\n",
       "      <td>836</td>\n",
       "      <td>876</td>\n",
       "      <td>0.045662</td>\n",
       "    </tr>\n",
       "    <tr>\n",
       "      <th>66</th>\n",
       "      <td>66</td>\n",
       "      <td>5434</td>\n",
       "      <td>5707</td>\n",
       "      <td>0.047836</td>\n",
       "    </tr>\n",
       "    <tr>\n",
       "      <th>13</th>\n",
       "      <td>13</td>\n",
       "      <td>908</td>\n",
       "      <td>954</td>\n",
       "      <td>0.048218</td>\n",
       "    </tr>\n",
       "    <tr>\n",
       "      <th>39</th>\n",
       "      <td>39</td>\n",
       "      <td>1437</td>\n",
       "      <td>1510</td>\n",
       "      <td>0.048344</td>\n",
       "    </tr>\n",
       "  </tbody>\n",
       "</table>\n",
       "</div>"
      ],
      "text/plain": [
       "    Community Area  Location    ID  Percent_Missing\n",
       "0                0         1     1         0.000000\n",
       "37              37       836   876         0.045662\n",
       "66              66      5434  5707         0.047836\n",
       "13              13       908   954         0.048218\n",
       "39              39      1437  1510         0.048344"
      ]
     },
     "execution_count": 33,
     "metadata": {},
     "output_type": "execute_result"
    }
   ],
   "source": [
    "missing_loc.sort_values('Percent_Missing', ascending=True).head(5)"
   ]
  },
  {
   "cell_type": "markdown",
   "metadata": {},
   "source": [
    "Ok, so Community Area 0 is likely not an area where people live (or presumably go to school) - think forest preserves - and it only has one observation so it's not consequential"
   ]
  },
  {
   "cell_type": "markdown",
   "metadata": {
    "ExecuteTime": {
     "end_time": "2018-01-26T20:17:52.000187Z",
     "start_time": "2018-01-26T20:17:51.995360Z"
    }
   },
   "source": [
    "Because the rest of the data have a normal distribution of missing location values across all community areas I feel good about only using crime data with lat/long points associated with is"
   ]
  },
  {
   "cell_type": "markdown",
   "metadata": {},
   "source": [
    "### Subset relevant columns from crime data"
   ]
  },
  {
   "cell_type": "code",
   "execution_count": 36,
   "metadata": {
    "ExecuteTime": {
     "end_time": "2018-01-26T20:19:04.617336Z",
     "start_time": "2018-01-26T20:19:04.452985Z"
    }
   },
   "outputs": [
    {
     "name": "stdout",
     "output_type": "stream",
     "text": [
      "<class 'pandas.core.frame.DataFrame'>\n",
      "RangeIndex: 265740 entries, 0 to 265739\n",
      "Data columns (total 22 columns):\n",
      "ID                      265740 non-null int64\n",
      "Case Number             265740 non-null object\n",
      "Date                    265740 non-null object\n",
      "Block                   265740 non-null object\n",
      "IUCR                    265740 non-null object\n",
      "Primary Type            265740 non-null object\n",
      "Description             265740 non-null object\n",
      "Location Description    264880 non-null object\n",
      "Arrest                  265740 non-null bool\n",
      "Domestic                265740 non-null bool\n",
      "Beat                    265740 non-null int64\n",
      "District                265740 non-null int64\n",
      "Ward                    265739 non-null float64\n",
      "Community Area          265740 non-null int64\n",
      "FBI Code                265740 non-null object\n",
      "X Coordinate            249226 non-null float64\n",
      "Y Coordinate            249226 non-null float64\n",
      "Year                    265740 non-null int64\n",
      "Updated On              265740 non-null object\n",
      "Latitude                249226 non-null float64\n",
      "Longitude               249226 non-null float64\n",
      "Location                249226 non-null object\n",
      "dtypes: bool(2), float64(5), int64(5), object(10)\n",
      "memory usage: 41.1+ MB\n"
     ]
    }
   ],
   "source": [
    "crimes.info()"
   ]
  },
  {
   "cell_type": "code",
   "execution_count": 47,
   "metadata": {
    "ExecuteTime": {
     "end_time": "2018-01-26T20:36:03.420453Z",
     "start_time": "2018-01-26T20:36:03.352446Z"
    },
    "collapsed": true
   },
   "outputs": [],
   "source": [
    "crimes_subs = crimes.loc[crimes['Location'].notnull(), ['ID', \n",
    "                                                        'Date', \n",
    "                                                        'Primary Type', \n",
    "                                                        'Arrest', \n",
    "                                                        'Community Area',\n",
    "                                                        'X Coordinate',\n",
    "                                                        'Y Coordinate',\n",
    "                                                        'Latitude',\n",
    "                                                        'Longitude']]"
   ]
  },
  {
   "cell_type": "code",
   "execution_count": 48,
   "metadata": {
    "ExecuteTime": {
     "end_time": "2018-01-26T20:36:03.929624Z",
     "start_time": "2018-01-26T20:36:03.913788Z"
    }
   },
   "outputs": [
    {
     "data": {
      "text/html": [
       "<div>\n",
       "<style>\n",
       "    .dataframe thead tr:only-child th {\n",
       "        text-align: right;\n",
       "    }\n",
       "\n",
       "    .dataframe thead th {\n",
       "        text-align: left;\n",
       "    }\n",
       "\n",
       "    .dataframe tbody tr th {\n",
       "        vertical-align: top;\n",
       "    }\n",
       "</style>\n",
       "<table border=\"1\" class=\"dataframe\">\n",
       "  <thead>\n",
       "    <tr style=\"text-align: right;\">\n",
       "      <th></th>\n",
       "      <th>ID</th>\n",
       "      <th>Date</th>\n",
       "      <th>Primary Type</th>\n",
       "      <th>Arrest</th>\n",
       "      <th>Community Area</th>\n",
       "      <th>X Coordinate</th>\n",
       "      <th>Y Coordinate</th>\n",
       "      <th>Latitude</th>\n",
       "      <th>Longitude</th>\n",
       "    </tr>\n",
       "  </thead>\n",
       "  <tbody>\n",
       "    <tr>\n",
       "      <th>265707</th>\n",
       "      <td>11192149</td>\n",
       "      <td>12/31/2017 08:15:00 PM</td>\n",
       "      <td>MOTOR VEHICLE THEFT</td>\n",
       "      <td>False</td>\n",
       "      <td>24</td>\n",
       "      <td>1163365.0</td>\n",
       "      <td>1905356.0</td>\n",
       "      <td>41.895937</td>\n",
       "      <td>-87.675441</td>\n",
       "    </tr>\n",
       "    <tr>\n",
       "      <th>265708</th>\n",
       "      <td>11192150</td>\n",
       "      <td>12/28/2017 07:30:00 PM</td>\n",
       "      <td>BATTERY</td>\n",
       "      <td>False</td>\n",
       "      <td>33</td>\n",
       "      <td>1175819.0</td>\n",
       "      <td>1890453.0</td>\n",
       "      <td>41.854771</td>\n",
       "      <td>-87.630149</td>\n",
       "    </tr>\n",
       "    <tr>\n",
       "      <th>265709</th>\n",
       "      <td>11192152</td>\n",
       "      <td>12/31/2017 08:48:00 PM</td>\n",
       "      <td>CRIMINAL DAMAGE</td>\n",
       "      <td>False</td>\n",
       "      <td>49</td>\n",
       "      <td>1178256.0</td>\n",
       "      <td>1840091.0</td>\n",
       "      <td>41.716517</td>\n",
       "      <td>-87.622732</td>\n",
       "    </tr>\n",
       "    <tr>\n",
       "      <th>265710</th>\n",
       "      <td>11192153</td>\n",
       "      <td>12/30/2017 10:00:00 AM</td>\n",
       "      <td>ASSAULT</td>\n",
       "      <td>False</td>\n",
       "      <td>28</td>\n",
       "      <td>1167714.0</td>\n",
       "      <td>1893522.0</td>\n",
       "      <td>41.863371</td>\n",
       "      <td>-87.659809</td>\n",
       "    </tr>\n",
       "    <tr>\n",
       "      <th>265711</th>\n",
       "      <td>11192154</td>\n",
       "      <td>12/31/2017 09:28:00 PM</td>\n",
       "      <td>NARCOTICS</td>\n",
       "      <td>True</td>\n",
       "      <td>29</td>\n",
       "      <td>1150448.0</td>\n",
       "      <td>1894424.0</td>\n",
       "      <td>41.866200</td>\n",
       "      <td>-87.723168</td>\n",
       "    </tr>\n",
       "  </tbody>\n",
       "</table>\n",
       "</div>"
      ],
      "text/plain": [
       "              ID                    Date         Primary Type  Arrest  \\\n",
       "265707  11192149  12/31/2017 08:15:00 PM  MOTOR VEHICLE THEFT   False   \n",
       "265708  11192150  12/28/2017 07:30:00 PM              BATTERY   False   \n",
       "265709  11192152  12/31/2017 08:48:00 PM      CRIMINAL DAMAGE   False   \n",
       "265710  11192153  12/30/2017 10:00:00 AM              ASSAULT   False   \n",
       "265711  11192154  12/31/2017 09:28:00 PM            NARCOTICS    True   \n",
       "\n",
       "        Community Area  X Coordinate  Y Coordinate   Latitude  Longitude  \n",
       "265707              24     1163365.0     1905356.0  41.895937 -87.675441  \n",
       "265708              33     1175819.0     1890453.0  41.854771 -87.630149  \n",
       "265709              49     1178256.0     1840091.0  41.716517 -87.622732  \n",
       "265710              28     1167714.0     1893522.0  41.863371 -87.659809  \n",
       "265711              29     1150448.0     1894424.0  41.866200 -87.723168  "
      ]
     },
     "execution_count": 48,
     "metadata": {},
     "output_type": "execute_result"
    }
   ],
   "source": [
    "crimes_subs.tail()"
   ]
  },
  {
   "cell_type": "markdown",
   "metadata": {},
   "source": [
    "### Pickle raw crime data"
   ]
  },
  {
   "cell_type": "code",
   "execution_count": 49,
   "metadata": {
    "ExecuteTime": {
     "end_time": "2018-01-26T20:36:55.854413Z",
     "start_time": "2018-01-26T20:36:55.781018Z"
    },
    "collapsed": true
   },
   "outputs": [],
   "source": [
    "# Pickle data after cleaning\n",
    "crimes_subs.to_pickle('../data/cleaned_crimes.pkl')"
   ]
  },
  {
   "cell_type": "markdown",
   "metadata": {},
   "source": [
    "## Visualize Crime Data"
   ]
  },
  {
   "cell_type": "code",
   "execution_count": 84,
   "metadata": {
    "ExecuteTime": {
     "end_time": "2018-01-26T22:18:00.825181Z",
     "start_time": "2018-01-26T22:18:00.818923Z"
    },
    "collapsed": true
   },
   "outputs": [],
   "source": [
    "X_test = crimes_subs.loc[:100000, 'Longitude']\n",
    "Y_test = crimes_subs.loc[:100000, 'Latitude']\n",
    "\n",
    "# Coordinate Points In State Plane Illinois East NAD 1983 projection"
   ]
  },
  {
   "cell_type": "code",
   "execution_count": 85,
   "metadata": {
    "ExecuteTime": {
     "end_time": "2018-01-26T22:18:03.141162Z",
     "start_time": "2018-01-26T22:18:02.413606Z"
    }
   },
   "outputs": [
    {
     "data": {
      "text/plain": [
       "<matplotlib.collections.PathCollection at 0x115c7e5f8>"
      ]
     },
     "execution_count": 85,
     "metadata": {},
     "output_type": "execute_result"
    },
    {
     "data": {
      "image/png": "[encoded data removed]",
      "text/plain": [
       "<matplotlib.figure.Figure at 0x1174a5780>"
      ]
     },
     "metadata": {},
     "output_type": "display_data"
    }
   ],
   "source": [
    "plt.scatter(X_test, Y_test, alpha=0.002)"
   ]
  },
  {
   "cell_type": "code",
   "execution_count": null,
   "metadata": {
    "collapsed": true
   },
   "outputs": [],
   "source": []
  }
 ],
 "metadata": {
  "kernelspec": {
   "display_name": "Python 3",
   "language": "python",
   "name": "python3"
  },
  "language_info": {
   "codemirror_mode": {
    "name": "ipython",
    "version": 3
   },
   "file_extension": ".py",
   "mimetype": "text/x-python",
   "name": "python",
   "nbconvert_exporter": "python",
   "pygments_lexer": "ipython3",
   "version": "3.6.3"
  },
  "toc": {
   "nav_menu": {},
   "number_sections": true,
   "sideBar": true,
   "skip_h1_title": false,
   "title_cell": "Table of Contents",
   "title_sidebar": "Contents",
   "toc_cell": false,
   "toc_position": {},
   "toc_section_display": true,
   "toc_window_display": true
  },
  "varInspector": {
   "cols": {
    "lenName": 16,
    "lenType": 16,
    "lenVar": 40
   },
   "kernels_config": {
    "python": {
     "delete_cmd_postfix": "",
     "delete_cmd_prefix": "del ",
     "library": "var_list.py",
     "varRefreshCmd": "print(var_dic_list())"
    },
    "r": {
     "delete_cmd_postfix": ") ",
     "delete_cmd_prefix": "rm(",
     "library": "var_list.r",
     "varRefreshCmd": "cat(var_dic_list()) "
    }
   },
   "types_to_exclude": [
    "module",
    "function",
    "builtin_function_or_method",
    "instance",
    "_Feature"
   ],
   "window_display": false
  }
 },
 "nbformat": 4,
 "nbformat_minor": 2
}
