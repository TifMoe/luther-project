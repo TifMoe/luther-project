{
 "cells": [
  {
   "cell_type": "code",
   "execution_count": 1,
   "metadata": {
    "ExecuteTime": {
     "end_time": "2018-01-26T18:31:33.599019Z",
     "start_time": "2018-01-26T18:31:32.821789Z"
    }
   },
   "outputs": [
    {
     "name": "stdout",
     "output_type": "stream",
     "text": [
      "Pandas version 0.20.3\n",
      "Numpy version 1.14.0\n"
     ]
    }
   ],
   "source": [
    "import pandas as pd\n",
    "import numpy as np\n",
    "\n",
    "print('Pandas version', pd.__version__)\n",
    "print('Numpy version', np.__version__)"
   ]
  },
  {
   "cell_type": "markdown",
   "metadata": {},
   "source": [
    "# Load Data"
   ]
  },
  {
   "cell_type": "markdown",
   "metadata": {},
   "source": [
    "## Read in 2017-2018 Accountability Report (with 2016-2017 data)"
   ]
  },
  {
   "cell_type": "markdown",
   "metadata": {},
   "source": [
    "#### Functions to load in data"
   ]
  },
  {
   "cell_type": "code",
   "execution_count": 2,
   "metadata": {
    "ExecuteTime": {
     "end_time": "2018-01-26T18:31:34.293636Z",
     "start_time": "2018-01-26T18:31:34.286755Z"
    },
    "collapsed": true
   },
   "outputs": [],
   "source": [
    "def drop_first_two_rows(df):\n",
    "    \"\"\"\n",
    "    Takes in a dataframe and drops the first two rows, returning a re-indexed dataframe\n",
    "    \"\"\"\n",
    "\n",
    "    df.drop(df.index[:2], inplace=True)\n",
    "    df.reset_index(drop=True, inplace=True)\n",
    "    \n",
    "    return df\n",
    "    "
   ]
  },
  {
   "cell_type": "code",
   "execution_count": 3,
   "metadata": {
    "ExecuteTime": {
     "end_time": "2018-01-26T18:31:34.727046Z",
     "start_time": "2018-01-26T18:31:34.715236Z"
    },
    "collapsed": true
   },
   "outputs": [],
   "source": [
    "def find_relevant_attributes(file, avg_attend_col, grad_rate_col):\n",
    "    \"\"\"\n",
    "    Takes in a file with school attributes and returns a new dataframe with \n",
    "    the school id, school name, avg daily attendance, and graduation rates\n",
    "    \"\"\"\n",
    "    school_id = file.iloc[:,0]\n",
    "    school_name = file.iloc[:,1]\n",
    "    avg_attend = file.iloc[:,avg_attend_col]\n",
    "    grad_rate = file.iloc[:,grad_rate_col]\n",
    "    \n",
    "    schools = pd.DataFrame({'school_id': school_id, \n",
    "                        'school_name': school_name, \n",
    "                        'avg_daily_attend': avg_attend, \n",
    "                        'grad_rate': grad_rate})\n",
    "    \n",
    "    return schools\n",
    "    "
   ]
  },
  {
   "cell_type": "code",
   "execution_count": 4,
   "metadata": {
    "ExecuteTime": {
     "end_time": "2018-01-26T18:31:35.196799Z",
     "start_time": "2018-01-26T18:31:35.186537Z"
    },
    "collapsed": true
   },
   "outputs": [],
   "source": [
    "def fetch_school_data(filepath, sheetname, avg_attend_col, grad_rate_col):\n",
    "    \n",
    "    \"\"\"\n",
    "    Read in an excel doc sheet\n",
    "    \"\"\"\n",
    "    \n",
    "    assert type(avg_attend_col) == int, 'Please enter col position as integer'\n",
    "    assert type(grad_rate_col) == int, 'Please enter col position as integer'\n",
    "    \n",
    "    file = pd.read_excel('../data/{}'.format(filepath), sheetname=sheetname)\n",
    "    relevant_attributes = find_relevant_attributes(file, avg_attend_col, grad_rate_col)\n",
    "    schools = drop_first_two_rows(relevant_attributes)\n",
    "    \n",
    "    return schools"
   ]
  },
  {
   "cell_type": "markdown",
   "metadata": {},
   "source": [
    "#### Read in high school and combo schools, add a type column and concat together"
   ]
  },
  {
   "cell_type": "code",
   "execution_count": 5,
   "metadata": {
    "ExecuteTime": {
     "end_time": "2018-01-26T18:31:36.063531Z",
     "start_time": "2018-01-26T18:31:35.918031Z"
    },
    "collapsed": true
   },
   "outputs": [],
   "source": [
    "high_schools = fetch_school_data(filepath='Accountability_SQRPratings_2017-2018_SchoolLevel.xls',\n",
    "                                sheetname='High Schools (grds 9-12 only)',\n",
    "                                avg_attend_col=56,\n",
    "                                grad_rate_col=41)\n",
    "\n",
    "high_schools['type'] = 'high_school'"
   ]
  },
  {
   "cell_type": "code",
   "execution_count": 6,
   "metadata": {
    "ExecuteTime": {
     "end_time": "2018-01-26T18:31:37.554857Z",
     "start_time": "2018-01-26T18:31:37.432806Z"
    },
    "collapsed": true
   },
   "outputs": [],
   "source": [
    "combo_schools = fetch_school_data(filepath='Accountability_SQRPratings_2017-2018_SchoolLevel.xls',\n",
    "                                sheetname='Combo Schools (grds PreK-12)',\n",
    "                                avg_attend_col=129,\n",
    "                                grad_rate_col=114)\n",
    "\n",
    "combo_schools['type'] = 'combo_school'"
   ]
  },
  {
   "cell_type": "code",
   "execution_count": 11,
   "metadata": {
    "ExecuteTime": {
     "end_time": "2018-01-26T18:33:42.805093Z",
     "start_time": "2018-01-26T18:33:42.660827Z"
    },
    "collapsed": true
   },
   "outputs": [],
   "source": [
    "alt_schools = fetch_school_data(filepath='Accountability_SQRPratings_2017-2018_SchoolLevel.xls',\n",
    "                                sheetname='Option Schools',\n",
    "                                avg_attend_col=31,\n",
    "                                grad_rate_col=22)\n",
    "\n",
    "alt_schools['type'] = 'alt_school'"
   ]
  },
  {
   "cell_type": "code",
   "execution_count": 12,
   "metadata": {
    "ExecuteTime": {
     "end_time": "2018-01-26T18:33:54.192845Z",
     "start_time": "2018-01-26T18:33:54.181550Z"
    }
   },
   "outputs": [
    {
     "data": {
      "text/html": [
       "<div>\n",
       "<style>\n",
       "    .dataframe thead tr:only-child th {\n",
       "        text-align: right;\n",
       "    }\n",
       "\n",
       "    .dataframe thead th {\n",
       "        text-align: left;\n",
       "    }\n",
       "\n",
       "    .dataframe tbody tr th {\n",
       "        vertical-align: top;\n",
       "    }\n",
       "</style>\n",
       "<table border=\"1\" class=\"dataframe\">\n",
       "  <thead>\n",
       "    <tr style=\"text-align: right;\">\n",
       "      <th></th>\n",
       "      <th>avg_daily_attend</th>\n",
       "      <th>grad_rate</th>\n",
       "      <th>school_id</th>\n",
       "      <th>school_name</th>\n",
       "      <th>type</th>\n",
       "    </tr>\n",
       "  </thead>\n",
       "  <tbody>\n",
       "    <tr>\n",
       "      <th>0</th>\n",
       "      <td>56.3</td>\n",
       "      <td>93</td>\n",
       "      <td>400123</td>\n",
       "      <td>YCCS - SCHOLASTIC ACHIEVEMENT</td>\n",
       "      <td>alt_school</td>\n",
       "    </tr>\n",
       "    <tr>\n",
       "      <th>1</th>\n",
       "      <td>63.4</td>\n",
       "      <td>98.1</td>\n",
       "      <td>400124</td>\n",
       "      <td>YCCS - MCKINLEY</td>\n",
       "      <td>alt_school</td>\n",
       "    </tr>\n",
       "    <tr>\n",
       "      <th>2</th>\n",
       "      <td>60.2</td>\n",
       "      <td>88.5</td>\n",
       "      <td>400125</td>\n",
       "      <td>YCCS - ASPIRA PANTOJA</td>\n",
       "      <td>alt_school</td>\n",
       "    </tr>\n",
       "    <tr>\n",
       "      <th>3</th>\n",
       "      <td>63.6</td>\n",
       "      <td>91.2</td>\n",
       "      <td>400126</td>\n",
       "      <td>YCCS - ASSOCIATION HOUSE</td>\n",
       "      <td>alt_school</td>\n",
       "    </tr>\n",
       "    <tr>\n",
       "      <th>4</th>\n",
       "      <td>70.9</td>\n",
       "      <td>91.1</td>\n",
       "      <td>400127</td>\n",
       "      <td>YCCS - AUSTIN CAREER</td>\n",
       "      <td>alt_school</td>\n",
       "    </tr>\n",
       "  </tbody>\n",
       "</table>\n",
       "</div>"
      ],
      "text/plain": [
       "  avg_daily_attend grad_rate school_id                    school_name  \\\n",
       "0             56.3        93    400123  YCCS - SCHOLASTIC ACHIEVEMENT   \n",
       "1             63.4      98.1    400124                YCCS - MCKINLEY   \n",
       "2             60.2      88.5    400125          YCCS - ASPIRA PANTOJA   \n",
       "3             63.6      91.2    400126       YCCS - ASSOCIATION HOUSE   \n",
       "4             70.9      91.1    400127           YCCS - AUSTIN CAREER   \n",
       "\n",
       "         type  \n",
       "0  alt_school  \n",
       "1  alt_school  \n",
       "2  alt_school  \n",
       "3  alt_school  \n",
       "4  alt_school  "
      ]
     },
     "execution_count": 12,
     "metadata": {},
     "output_type": "execute_result"
    }
   ],
   "source": [
    "alt_schools.head()"
   ]
  },
  {
   "cell_type": "code",
   "execution_count": 13,
   "metadata": {
    "ExecuteTime": {
     "end_time": "2018-01-26T18:34:12.090440Z",
     "start_time": "2018-01-26T18:34:12.084747Z"
    },
    "collapsed": true
   },
   "outputs": [],
   "source": [
    "schools = pd.concat([high_schools, combo_schools, alt_schools], ignore_index=True)"
   ]
  },
  {
   "cell_type": "code",
   "execution_count": 14,
   "metadata": {
    "ExecuteTime": {
     "end_time": "2018-01-26T18:34:13.187743Z",
     "start_time": "2018-01-26T18:34:13.172143Z"
    }
   },
   "outputs": [
    {
     "data": {
      "text/html": [
       "<div>\n",
       "<style>\n",
       "    .dataframe thead tr:only-child th {\n",
       "        text-align: right;\n",
       "    }\n",
       "\n",
       "    .dataframe thead th {\n",
       "        text-align: left;\n",
       "    }\n",
       "\n",
       "    .dataframe tbody tr th {\n",
       "        vertical-align: top;\n",
       "    }\n",
       "</style>\n",
       "<table border=\"1\" class=\"dataframe\">\n",
       "  <thead>\n",
       "    <tr style=\"text-align: right;\">\n",
       "      <th></th>\n",
       "      <th>avg_daily_attend</th>\n",
       "      <th>grad_rate</th>\n",
       "      <th>school_id</th>\n",
       "      <th>school_name</th>\n",
       "      <th>type</th>\n",
       "    </tr>\n",
       "  </thead>\n",
       "  <tbody>\n",
       "    <tr>\n",
       "      <th>1</th>\n",
       "      <td>90.5</td>\n",
       "      <td>71.4</td>\n",
       "      <td>400013</td>\n",
       "      <td>ASPIRA - EARLY COLLEGE HS</td>\n",
       "      <td>high_school</td>\n",
       "    </tr>\n",
       "    <tr>\n",
       "      <th>154</th>\n",
       "      <td>69.9</td>\n",
       "      <td>58.7</td>\n",
       "      <td>400136</td>\n",
       "      <td>YCCS - OLIVE HARVEY</td>\n",
       "      <td>alt_school</td>\n",
       "    </tr>\n",
       "    <tr>\n",
       "      <th>155</th>\n",
       "      <td>77.9</td>\n",
       "      <td>97.3</td>\n",
       "      <td>400137</td>\n",
       "      <td>LITTLE BLACK PEARL HS</td>\n",
       "      <td>alt_school</td>\n",
       "    </tr>\n",
       "    <tr>\n",
       "      <th>5</th>\n",
       "      <td>94.4</td>\n",
       "      <td>88.2</td>\n",
       "      <td>400051</td>\n",
       "      <td>NOBLE - NOBLE HS</td>\n",
       "      <td>high_school</td>\n",
       "    </tr>\n",
       "    <tr>\n",
       "      <th>111</th>\n",
       "      <td>91.1</td>\n",
       "      <td>86.9</td>\n",
       "      <td>610547</td>\n",
       "      <td>SOUTH SHORE INTL HS</td>\n",
       "      <td>high_school</td>\n",
       "    </tr>\n",
       "    <tr>\n",
       "      <th>151</th>\n",
       "      <td>48.3</td>\n",
       "      <td>99.3</td>\n",
       "      <td>400133</td>\n",
       "      <td>YCCS - INNOVATIONS</td>\n",
       "      <td>alt_school</td>\n",
       "    </tr>\n",
       "    <tr>\n",
       "      <th>49</th>\n",
       "      <td>87.2</td>\n",
       "      <td>54.3</td>\n",
       "      <td>609705</td>\n",
       "      <td>FENGER HS</td>\n",
       "      <td>high_school</td>\n",
       "    </tr>\n",
       "    <tr>\n",
       "      <th>67</th>\n",
       "      <td>87.4</td>\n",
       "      <td>58.8</td>\n",
       "      <td>609733</td>\n",
       "      <td>SULLIVAN HS</td>\n",
       "      <td>high_school</td>\n",
       "    </tr>\n",
       "    <tr>\n",
       "      <th>143</th>\n",
       "      <td>63.4</td>\n",
       "      <td>98.1</td>\n",
       "      <td>400124</td>\n",
       "      <td>YCCS - MCKINLEY</td>\n",
       "      <td>alt_school</td>\n",
       "    </tr>\n",
       "    <tr>\n",
       "      <th>57</th>\n",
       "      <td>89.7</td>\n",
       "      <td>72.2</td>\n",
       "      <td>609715</td>\n",
       "      <td>KELLY HS</td>\n",
       "      <td>high_school</td>\n",
       "    </tr>\n",
       "    <tr>\n",
       "      <th>160</th>\n",
       "      <td>60.7</td>\n",
       "      <td>77.9</td>\n",
       "      <td>400145</td>\n",
       "      <td>YCCS - YOUTH CONNECTION</td>\n",
       "      <td>alt_school</td>\n",
       "    </tr>\n",
       "    <tr>\n",
       "      <th>54</th>\n",
       "      <td>83.7</td>\n",
       "      <td>46.9</td>\n",
       "      <td>609711</td>\n",
       "      <td>HARPER HS</td>\n",
       "      <td>high_school</td>\n",
       "    </tr>\n",
       "    <tr>\n",
       "      <th>64</th>\n",
       "      <td>84.2</td>\n",
       "      <td>66.6</td>\n",
       "      <td>609729</td>\n",
       "      <td>SCHURZ HS</td>\n",
       "      <td>high_school</td>\n",
       "    </tr>\n",
       "    <tr>\n",
       "      <th>147</th>\n",
       "      <td>60.6</td>\n",
       "      <td>97.4</td>\n",
       "      <td>400128</td>\n",
       "      <td>YCCS - CCA ACADEMY</td>\n",
       "      <td>alt_school</td>\n",
       "    </tr>\n",
       "    <tr>\n",
       "      <th>132</th>\n",
       "      <td>92</td>\n",
       "      <td>96.8</td>\n",
       "      <td>609726</td>\n",
       "      <td>BROOKS HS</td>\n",
       "      <td>combo_school</td>\n",
       "    </tr>\n",
       "  </tbody>\n",
       "</table>\n",
       "</div>"
      ],
      "text/plain": [
       "    avg_daily_attend grad_rate school_id                school_name  \\\n",
       "1               90.5      71.4    400013  ASPIRA - EARLY COLLEGE HS   \n",
       "154             69.9      58.7    400136        YCCS - OLIVE HARVEY   \n",
       "155             77.9      97.3    400137      LITTLE BLACK PEARL HS   \n",
       "5               94.4      88.2    400051           NOBLE - NOBLE HS   \n",
       "111             91.1      86.9    610547        SOUTH SHORE INTL HS   \n",
       "151             48.3      99.3    400133         YCCS - INNOVATIONS   \n",
       "49              87.2      54.3    609705                  FENGER HS   \n",
       "67              87.4      58.8    609733                SULLIVAN HS   \n",
       "143             63.4      98.1    400124            YCCS - MCKINLEY   \n",
       "57              89.7      72.2    609715                   KELLY HS   \n",
       "160             60.7      77.9    400145    YCCS - YOUTH CONNECTION   \n",
       "54              83.7      46.9    609711                  HARPER HS   \n",
       "64              84.2      66.6    609729                  SCHURZ HS   \n",
       "147             60.6      97.4    400128         YCCS - CCA ACADEMY   \n",
       "132               92      96.8    609726                  BROOKS HS   \n",
       "\n",
       "             type  \n",
       "1     high_school  \n",
       "154    alt_school  \n",
       "155    alt_school  \n",
       "5     high_school  \n",
       "111   high_school  \n",
       "151    alt_school  \n",
       "49    high_school  \n",
       "67    high_school  \n",
       "143    alt_school  \n",
       "57    high_school  \n",
       "160    alt_school  \n",
       "54    high_school  \n",
       "64    high_school  \n",
       "147    alt_school  \n",
       "132  combo_school  "
      ]
     },
     "execution_count": 14,
     "metadata": {},
     "output_type": "execute_result"
    }
   ],
   "source": [
    "schools.sample(15)"
   ]
  },
  {
   "cell_type": "code",
   "execution_count": 26,
   "metadata": {
    "ExecuteTime": {
     "end_time": "2018-01-26T20:38:48.865020Z",
     "start_time": "2018-01-26T20:38:48.858168Z"
    }
   },
   "outputs": [
    {
     "name": "stdout",
     "output_type": "stream",
     "text": [
      "186\n"
     ]
    }
   ],
   "source": [
    "print(len(schools))\n",
    "\n",
    "# Pickle school accountability data\n",
    "schools.to_pickle('../data/accountability_data.pkl')"
   ]
  },
  {
   "cell_type": "markdown",
   "metadata": {},
   "source": [
    "## Read in 2016-2017 School Profile Info to compare"
   ]
  },
  {
   "cell_type": "code",
   "execution_count": 27,
   "metadata": {
    "ExecuteTime": {
     "end_time": "2018-01-26T20:38:52.643565Z",
     "start_time": "2018-01-26T20:38:52.614815Z"
    },
    "collapsed": true
   },
   "outputs": [],
   "source": [
    "profiles = pd.read_csv('../data/Chicago_Public_Schools_-_School_Profile_Information_SY1617.csv', encoding = \"ISO-8859-1\")"
   ]
  },
  {
   "cell_type": "code",
   "execution_count": 28,
   "metadata": {
    "ExecuteTime": {
     "end_time": "2018-01-26T20:38:53.858815Z",
     "start_time": "2018-01-26T20:38:53.835167Z"
    }
   },
   "outputs": [
    {
     "data": {
      "text/html": [
       "<div>\n",
       "<style>\n",
       "    .dataframe thead tr:only-child th {\n",
       "        text-align: right;\n",
       "    }\n",
       "\n",
       "    .dataframe thead th {\n",
       "        text-align: left;\n",
       "    }\n",
       "\n",
       "    .dataframe tbody tr th {\n",
       "        vertical-align: top;\n",
       "    }\n",
       "</style>\n",
       "<table border=\"1\" class=\"dataframe\">\n",
       "  <thead>\n",
       "    <tr style=\"text-align: right;\">\n",
       "      <th></th>\n",
       "      <th>School_ID</th>\n",
       "      <th>Legacy_Unit_ID</th>\n",
       "      <th>Finance_ID</th>\n",
       "      <th>Short_Name</th>\n",
       "      <th>Long_Name</th>\n",
       "      <th>School_Type</th>\n",
       "      <th>Primary_Category</th>\n",
       "      <th>Is_High_School</th>\n",
       "      <th>Is_Middle_School</th>\n",
       "      <th>Is_Elementary_School</th>\n",
       "      <th>...</th>\n",
       "      <th>Third_Contact_Name</th>\n",
       "      <th>Fourth_Contact_Title</th>\n",
       "      <th>Fourth_Contact_Name</th>\n",
       "      <th>Fifth_Contact_Title</th>\n",
       "      <th>Fifth_Contact_Name</th>\n",
       "      <th>Sixth_Contact_Title</th>\n",
       "      <th>Sixth_Contact_Name</th>\n",
       "      <th>Seventh_Contact_Title</th>\n",
       "      <th>Seventh_Contact_Name</th>\n",
       "      <th>Location</th>\n",
       "    </tr>\n",
       "  </thead>\n",
       "  <tbody>\n",
       "    <tr>\n",
       "      <th>0</th>\n",
       "      <td>610158</td>\n",
       "      <td>5720</td>\n",
       "      <td>29271</td>\n",
       "      <td>SAYRE</td>\n",
       "      <td>Harriet E Sayre Elementary Language Academy</td>\n",
       "      <td>Neighborhood</td>\n",
       "      <td>ES</td>\n",
       "      <td>N</td>\n",
       "      <td>Y</td>\n",
       "      <td>Y</td>\n",
       "      <td>...</td>\n",
       "      <td>NaN</td>\n",
       "      <td>NaN</td>\n",
       "      <td>NaN</td>\n",
       "      <td>NaN</td>\n",
       "      <td>NaN</td>\n",
       "      <td>NaN</td>\n",
       "      <td>NaN</td>\n",
       "      <td>NaN</td>\n",
       "      <td>NaN</td>\n",
       "      <td>1850 N NEWLAND AVE\\rChicago, Illinois 60707\\r(...</td>\n",
       "    </tr>\n",
       "    <tr>\n",
       "      <th>1</th>\n",
       "      <td>610282</td>\n",
       "      <td>7040</td>\n",
       "      <td>26301</td>\n",
       "      <td>MCNAIR</td>\n",
       "      <td>Ronald E McNair Elementary School</td>\n",
       "      <td>Neighborhood</td>\n",
       "      <td>ES</td>\n",
       "      <td>N</td>\n",
       "      <td>Y</td>\n",
       "      <td>Y</td>\n",
       "      <td>...</td>\n",
       "      <td>Tasia White</td>\n",
       "      <td>NaN</td>\n",
       "      <td>NaN</td>\n",
       "      <td>NaN</td>\n",
       "      <td>NaN</td>\n",
       "      <td>NaN</td>\n",
       "      <td>NaN</td>\n",
       "      <td>NaN</td>\n",
       "      <td>NaN</td>\n",
       "      <td>4820 W WALTON ST\\rChicago, Illinois 60651\\r(41...</td>\n",
       "    </tr>\n",
       "    <tr>\n",
       "      <th>2</th>\n",
       "      <td>609996</td>\n",
       "      <td>4020</td>\n",
       "      <td>23821</td>\n",
       "      <td>HOLDEN</td>\n",
       "      <td>Charles N Holden Elementary School</td>\n",
       "      <td>Neighborhood</td>\n",
       "      <td>ES</td>\n",
       "      <td>N</td>\n",
       "      <td>Y</td>\n",
       "      <td>Y</td>\n",
       "      <td>...</td>\n",
       "      <td>NaN</td>\n",
       "      <td>NaN</td>\n",
       "      <td>NaN</td>\n",
       "      <td>NaN</td>\n",
       "      <td>NaN</td>\n",
       "      <td>NaN</td>\n",
       "      <td>NaN</td>\n",
       "      <td>NaN</td>\n",
       "      <td>NaN</td>\n",
       "      <td>1104 W 31ST ST\\rChicago, Illinois 60608\\r(41.8...</td>\n",
       "    </tr>\n",
       "    <tr>\n",
       "      <th>3</th>\n",
       "      <td>400079</td>\n",
       "      <td>3344</td>\n",
       "      <td>66395</td>\n",
       "      <td>ACERO - ZIZUMBO</td>\n",
       "      <td>Acero Charter Schools - SPC Daniel Zizumbo</td>\n",
       "      <td>Charter</td>\n",
       "      <td>ES</td>\n",
       "      <td>N</td>\n",
       "      <td>Y</td>\n",
       "      <td>Y</td>\n",
       "      <td>...</td>\n",
       "      <td>NaN</td>\n",
       "      <td>NaN</td>\n",
       "      <td>NaN</td>\n",
       "      <td>NaN</td>\n",
       "      <td>NaN</td>\n",
       "      <td>NaN</td>\n",
       "      <td>NaN</td>\n",
       "      <td>NaN</td>\n",
       "      <td>NaN</td>\n",
       "      <td>4248 W 47TH ST\\rChicago, Illinois 60632\\r(41.8...</td>\n",
       "    </tr>\n",
       "    <tr>\n",
       "      <th>4</th>\n",
       "      <td>610089</td>\n",
       "      <td>5020</td>\n",
       "      <td>24621</td>\n",
       "      <td>MURPHY</td>\n",
       "      <td>John B Murphy Elementary School</td>\n",
       "      <td>Neighborhood</td>\n",
       "      <td>ES</td>\n",
       "      <td>N</td>\n",
       "      <td>Y</td>\n",
       "      <td>Y</td>\n",
       "      <td>...</td>\n",
       "      <td>Laura Aguirre</td>\n",
       "      <td>NaN</td>\n",
       "      <td>NaN</td>\n",
       "      <td>NaN</td>\n",
       "      <td>NaN</td>\n",
       "      <td>NaN</td>\n",
       "      <td>NaN</td>\n",
       "      <td>NaN</td>\n",
       "      <td>NaN</td>\n",
       "      <td>3539 W GRACE ST\\rChicago, Illinois 60618\\r(41....</td>\n",
       "    </tr>\n",
       "  </tbody>\n",
       "</table>\n",
       "<p>5 rows × 91 columns</p>\n",
       "</div>"
      ],
      "text/plain": [
       "   School_ID  Legacy_Unit_ID  Finance_ID       Short_Name  \\\n",
       "0     610158            5720       29271            SAYRE   \n",
       "1     610282            7040       26301           MCNAIR   \n",
       "2     609996            4020       23821           HOLDEN   \n",
       "3     400079            3344       66395  ACERO - ZIZUMBO   \n",
       "4     610089            5020       24621           MURPHY   \n",
       "\n",
       "                                     Long_Name   School_Type Primary_Category  \\\n",
       "0  Harriet E Sayre Elementary Language Academy  Neighborhood               ES   \n",
       "1            Ronald E McNair Elementary School  Neighborhood               ES   \n",
       "2           Charles N Holden Elementary School  Neighborhood               ES   \n",
       "3   Acero Charter Schools - SPC Daniel Zizumbo       Charter               ES   \n",
       "4              John B Murphy Elementary School  Neighborhood               ES   \n",
       "\n",
       "  Is_High_School Is_Middle_School Is_Elementary_School  \\\n",
       "0              N                Y                    Y   \n",
       "1              N                Y                    Y   \n",
       "2              N                Y                    Y   \n",
       "3              N                Y                    Y   \n",
       "4              N                Y                    Y   \n",
       "\n",
       "                         ...                         Third_Contact_Name  \\\n",
       "0                        ...                                        NaN   \n",
       "1                        ...                                Tasia White   \n",
       "2                        ...                                        NaN   \n",
       "3                        ...                                        NaN   \n",
       "4                        ...                              Laura Aguirre   \n",
       "\n",
       "  Fourth_Contact_Title Fourth_Contact_Name Fifth_Contact_Title  \\\n",
       "0                  NaN                 NaN                 NaN   \n",
       "1                  NaN                 NaN                 NaN   \n",
       "2                  NaN                 NaN                 NaN   \n",
       "3                  NaN                 NaN                 NaN   \n",
       "4                  NaN                 NaN                 NaN   \n",
       "\n",
       "  Fifth_Contact_Name Sixth_Contact_Title Sixth_Contact_Name  \\\n",
       "0                NaN                 NaN                NaN   \n",
       "1                NaN                 NaN                NaN   \n",
       "2                NaN                 NaN                NaN   \n",
       "3                NaN                 NaN                NaN   \n",
       "4                NaN                 NaN                NaN   \n",
       "\n",
       "  Seventh_Contact_Title Seventh_Contact_Name  \\\n",
       "0                   NaN                  NaN   \n",
       "1                   NaN                  NaN   \n",
       "2                   NaN                  NaN   \n",
       "3                   NaN                  NaN   \n",
       "4                   NaN                  NaN   \n",
       "\n",
       "                                            Location  \n",
       "0  1850 N NEWLAND AVE\\rChicago, Illinois 60707\\r(...  \n",
       "1  4820 W WALTON ST\\rChicago, Illinois 60651\\r(41...  \n",
       "2  1104 W 31ST ST\\rChicago, Illinois 60608\\r(41.8...  \n",
       "3  4248 W 47TH ST\\rChicago, Illinois 60632\\r(41.8...  \n",
       "4  3539 W GRACE ST\\rChicago, Illinois 60618\\r(41....  \n",
       "\n",
       "[5 rows x 91 columns]"
      ]
     },
     "execution_count": 28,
     "metadata": {},
     "output_type": "execute_result"
    }
   ],
   "source": [
    "profiles.head()"
   ]
  },
  {
   "cell_type": "code",
   "execution_count": 19,
   "metadata": {
    "ExecuteTime": {
     "end_time": "2018-01-26T18:34:47.010457Z",
     "start_time": "2018-01-26T18:34:46.997591Z"
    },
    "collapsed": true
   },
   "outputs": [],
   "source": [
    "# Left join to high schools\n",
    "schools_pr = pd.merge(schools, profiles, how='left', left_on='school_id', right_on='School_ID')"
   ]
  },
  {
   "cell_type": "code",
   "execution_count": 20,
   "metadata": {
    "ExecuteTime": {
     "end_time": "2018-01-26T18:34:49.090912Z",
     "start_time": "2018-01-26T18:34:49.072202Z"
    }
   },
   "outputs": [
    {
     "name": "stdout",
     "output_type": "stream",
     "text": [
      "<class 'pandas.core.frame.DataFrame'>\n",
      "Int64Index: 186 entries, 0 to 185\n",
      "Data columns (total 96 columns):\n",
      "avg_daily_attend                           186 non-null object\n",
      "grad_rate                                  172 non-null object\n",
      "school_id                                  186 non-null object\n",
      "school_name                                186 non-null object\n",
      "type                                       186 non-null object\n",
      "School_ID                                  182 non-null float64\n",
      "Legacy_Unit_ID                             182 non-null float64\n",
      "Finance_ID                                 182 non-null float64\n",
      "Short_Name                                 182 non-null object\n",
      "Long_Name                                  182 non-null object\n",
      "School_Type                                182 non-null object\n",
      "Primary_Category                           182 non-null object\n",
      "Is_High_School                             182 non-null object\n",
      "Is_Middle_School                           182 non-null object\n",
      "Is_Elementary_School                       182 non-null object\n",
      "Is_Pre_School                              182 non-null object\n",
      "Summary                                    181 non-null object\n",
      "Administrator_Title                        182 non-null object\n",
      "Administrator                              182 non-null object\n",
      "Secondary_Contact_Title                    152 non-null object\n",
      "Secondary_Contact                          149 non-null object\n",
      "Address                                    182 non-null object\n",
      "City                                       182 non-null object\n",
      "State                                      182 non-null object\n",
      "Zip                                        182 non-null float64\n",
      "Phone                                      182 non-null float64\n",
      "Fax                                        179 non-null float64\n",
      "CPS_School_Profile                         182 non-null object\n",
      "Website                                    179 non-null object\n",
      "Facebook                                   90 non-null object\n",
      "Twitter                                    92 non-null object\n",
      "Youtube                                    22 non-null object\n",
      "Pinterest                                  4 non-null object\n",
      "Attendance_Boundaries                      182 non-null object\n",
      "Grades_Offered_All                         182 non-null object\n",
      "Grades_Offered                             182 non-null object\n",
      "Student_Count_Total                        182 non-null float64\n",
      "Student_Count_Low_Income                   182 non-null float64\n",
      "Student_Count_Special_Ed                   182 non-null float64\n",
      "Student_Count_English_Learners             182 non-null float64\n",
      "Student_Count_Black                        182 non-null float64\n",
      "Student_Count_Hispanic                     182 non-null float64\n",
      "Student_Count_White                        182 non-null float64\n",
      "Student_Count_Asian                        182 non-null float64\n",
      "Student_Count_Native_American              182 non-null float64\n",
      "Student_Count_Other_Ethnicity              182 non-null float64\n",
      "Student_Count_Asian_Pacific_Islander       182 non-null float64\n",
      "Student_Count_Multi                        182 non-null float64\n",
      "Student_Count_Hawaiian_Pacific_Islander    182 non-null float64\n",
      "Student_Count_Ethnicity_Not_Available      182 non-null float64\n",
      "Statistics_Description                     182 non-null object\n",
      "Demographic_Description                    182 non-null object\n",
      "ADA_Accessible                             182 non-null object\n",
      "Dress_Code                                 182 non-null object\n",
      "PreK_School_Day                            3 non-null object\n",
      "Kindergarten_School_Day                    4 non-null object\n",
      "School_Hours                               172 non-null object\n",
      "Freshman_Start_End_Time                    104 non-null object\n",
      "After_School_Hours                         92 non-null object\n",
      "Earliest_Drop_Off_Time                     111 non-null object\n",
      "Classroom_Languages                        140 non-null object\n",
      "Bilingual_Services                         152 non-null object\n",
      "Refugee_Services                           128 non-null object\n",
      "Title_1_Eligible                           168 non-null object\n",
      "PreSchool_Inclusive                        0 non-null object\n",
      "Preschool_Instructional                    0 non-null object\n",
      "Significantly_Modified                     42 non-null object\n",
      "Hard_Of_Hearing                            5 non-null object\n",
      "Visual_Impairments                         2 non-null object\n",
      "Transportation_Bus                         157 non-null object\n",
      "Transportation_El                          129 non-null object\n",
      "Transportation_Metra                       39 non-null object\n",
      "School_Latitude                            182 non-null float64\n",
      "School_Longitude                           182 non-null float64\n",
      "Average_ACT_School                         169 non-null float64\n",
      "Mean_ACT                                   182 non-null float64\n",
      "College_Enrollment_Rate_School             158 non-null float64\n",
      "College_Enrollment_Rate_Mean               182 non-null float64\n",
      "Graduation_Rate_School                     121 non-null float64\n",
      "Graduation_Rate_Mean                       182 non-null float64\n",
      "Overall_Rating                             182 non-null object\n",
      "Rating_Status                              180 non-null object\n",
      "Rating_Statement                           182 non-null object\n",
      "Classification_Description                 182 non-null object\n",
      "School_Year                                182 non-null object\n",
      "Third_Contact_Title                        88 non-null object\n",
      "Third_Contact_Name                         87 non-null object\n",
      "Fourth_Contact_Title                       61 non-null object\n",
      "Fourth_Contact_Name                        60 non-null object\n",
      "Fifth_Contact_Title                        37 non-null object\n",
      "Fifth_Contact_Name                         36 non-null object\n",
      "Sixth_Contact_Title                        25 non-null object\n",
      "Sixth_Contact_Name                         25 non-null object\n",
      "Seventh_Contact_Title                      15 non-null object\n",
      "Seventh_Contact_Name                       15 non-null object\n",
      "Location                                   182 non-null object\n",
      "dtypes: float64(28), object(68)\n",
      "memory usage: 141.0+ KB\n"
     ]
    }
   ],
   "source": [
    "schools_pr.info()"
   ]
  },
  {
   "cell_type": "code",
   "execution_count": 30,
   "metadata": {
    "ExecuteTime": {
     "end_time": "2018-01-26T20:47:16.521028Z",
     "start_time": "2018-01-26T20:47:16.512097Z"
    }
   },
   "outputs": [
    {
     "data": {
      "text/plain": [
       "grad_rate                 76.126744\n",
       "Graduation_Rate_School    72.891736\n",
       "Graduation_Rate_Mean      73.500000\n",
       "dtype: float64"
      ]
     },
     "execution_count": 30,
     "metadata": {},
     "output_type": "execute_result"
    }
   ],
   "source": [
    "# the accountability report might not have actual 2016-2017 data, might be goal for 2018 based on actuals from past year?\n",
    "\n",
    "schools_pr.loc[:,['grad_rate', 'Graduation_Rate_School', 'Graduation_Rate_Mean']].mean()"
   ]
  },
  {
   "cell_type": "code",
   "execution_count": null,
   "metadata": {
    "collapsed": true
   },
   "outputs": [],
   "source": []
  }
 ],
 "metadata": {
  "kernelspec": {
   "display_name": "Python 3",
   "language": "python",
   "name": "python3"
  },
  "language_info": {
   "codemirror_mode": {
    "name": "ipython",
    "version": 3
   },
   "file_extension": ".py",
   "mimetype": "text/x-python",
   "name": "python",
   "nbconvert_exporter": "python",
   "pygments_lexer": "ipython3",
   "version": "3.6.3"
  },
  "toc": {
   "nav_menu": {},
   "number_sections": true,
   "sideBar": true,
   "skip_h1_title": false,
   "title_cell": "Table of Contents",
   "title_sidebar": "Contents",
   "toc_cell": false,
   "toc_position": {},
   "toc_section_display": true,
   "toc_window_display": true
  },
  "varInspector": {
   "cols": {
    "lenName": 16,
    "lenType": 16,
    "lenVar": 40
   },
   "kernels_config": {
    "python": {
     "delete_cmd_postfix": "",
     "delete_cmd_prefix": "del ",
     "library": "var_list.py",
     "varRefreshCmd": "print(var_dic_list())"
    },
    "r": {
     "delete_cmd_postfix": ") ",
     "delete_cmd_prefix": "rm(",
     "library": "var_list.r",
     "varRefreshCmd": "cat(var_dic_list()) "
    }
   },
   "types_to_exclude": [
    "module",
    "function",
    "builtin_function_or_method",
    "instance",
    "_Feature"
   ],
   "window_display": false
  }
 },
 "nbformat": 4,
 "nbformat_minor": 2
}
