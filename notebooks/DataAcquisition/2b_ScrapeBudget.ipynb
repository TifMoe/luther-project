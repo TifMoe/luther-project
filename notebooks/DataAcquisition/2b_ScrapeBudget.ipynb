{
 "cells": [
  {
   "cell_type": "markdown",
   "metadata": {},
   "source": [
    "# Import Libraries"
   ]
  },
  {
   "cell_type": "code",
   "execution_count": 28,
   "metadata": {
    "ExecuteTime": {
     "end_time": "2018-01-27T23:52:17.839211Z",
     "start_time": "2018-01-27T23:52:17.830145Z"
    }
   },
   "outputs": [
    {
     "name": "stdout",
     "output_type": "stream",
     "text": [
      "Python Version: 3.6.3 |Anaconda, Inc.| (default, Oct  6 2017, 12:04:38) \n",
      "[GCC 4.2.1 Compatible Clang 4.0.1 (tags/RELEASE_401/final)]\n",
      "Pandas version 0.20.3\n",
      "Numpy version 1.14.0\n"
     ]
    }
   ],
   "source": [
    "import pandas as pd\n",
    "import sys\n",
    "import time\n",
    "from selenium import webdriver\n",
    "\n",
    "\n",
    "print(\"Python Version:\", sys.version)\n",
    "print('Pandas version', pd.__version__)\n",
    "print('Numpy version', np.__version__)"
   ]
  },
  {
   "cell_type": "markdown",
   "metadata": {},
   "source": [
    "# Scrape table"
   ]
  },
  {
   "cell_type": "markdown",
   "metadata": {},
   "source": [
    "## Instantiate driver object"
   ]
  },
  {
   "cell_type": "code",
   "execution_count": 24,
   "metadata": {
    "ExecuteTime": {
     "end_time": "2018-01-27T23:50:48.527052Z",
     "start_time": "2018-01-27T23:50:48.521620Z"
    },
    "collapsed": true
   },
   "outputs": [],
   "source": [
    "# Instantiate a driver object\n",
    "chromedriver = \"/Applications/chromedriver\"\n",
    "os.environ[\"webdriver.chrome.driver\"] = chromedriver"
   ]
  },
  {
   "cell_type": "code",
   "execution_count": 25,
   "metadata": {
    "ExecuteTime": {
     "end_time": "2018-01-27T23:50:51.003362Z",
     "start_time": "2018-01-27T23:50:49.369445Z"
    },
    "collapsed": true
   },
   "outputs": [],
   "source": [
    "# Opens a Chrome window and goes to google.com\n",
    "driver = webdriver.Chrome(chromedriver)"
   ]
  },
  {
   "cell_type": "markdown",
   "metadata": {},
   "source": [
    "## Navigate to url and scrape table"
   ]
  },
  {
   "cell_type": "code",
   "execution_count": 9,
   "metadata": {
    "ExecuteTime": {
     "end_time": "2018-01-27T23:17:10.195290Z",
     "start_time": "2018-01-27T23:17:10.190938Z"
    },
    "collapsed": true
   },
   "outputs": [],
   "source": [
    "url = 'https://editorial-chi.dnainfo.com/interactives/2016/embed/cpsenrollment/'"
   ]
  },
  {
   "cell_type": "code",
   "execution_count": 21,
   "metadata": {
    "ExecuteTime": {
     "end_time": "2018-01-27T23:50:04.939946Z",
     "start_time": "2018-01-27T23:50:00.606029Z"
    },
    "collapsed": true
   },
   "outputs": [],
   "source": [
    "# Go to dna info CPA budget page and scrape table\n",
    "driver.get(url)\n",
    "time.sleep(3.3);\n",
    "\n",
    "table_html = driver.find_element_by_xpath('//table[@class=\"sortable\"]').get_attribute('outerHTML')"
   ]
  },
  {
   "cell_type": "code",
   "execution_count": 22,
   "metadata": {
    "ExecuteTime": {
     "end_time": "2018-01-27T23:50:07.339115Z",
     "start_time": "2018-01-27T23:50:07.263357Z"
    }
   },
   "outputs": [
    {
     "data": {
      "text/html": [
       "<div>\n",
       "<style>\n",
       "    .dataframe thead tr:only-child th {\n",
       "        text-align: right;\n",
       "    }\n",
       "\n",
       "    .dataframe thead th {\n",
       "        text-align: left;\n",
       "    }\n",
       "\n",
       "    .dataframe tbody tr th {\n",
       "        vertical-align: top;\n",
       "    }\n",
       "</style>\n",
       "<table border=\"1\" class=\"dataframe\">\n",
       "  <thead>\n",
       "    <tr style=\"text-align: right;\">\n",
       "      <th></th>\n",
       "      <th>School</th>\n",
       "      <th>2016-17</th>\n",
       "      <th>2015-16</th>\n",
       "      <th>Pct. Change</th>\n",
       "      <th>New Budget</th>\n",
       "      <th>Budget Change</th>\n",
       "    </tr>\n",
       "  </thead>\n",
       "  <tbody>\n",
       "    <tr>\n",
       "      <th>0</th>\n",
       "      <td>Chicago Vocational High School</td>\n",
       "      <td>922</td>\n",
       "      <td>978</td>\n",
       "      <td>-5.73%</td>\n",
       "      <td>$8,316,708</td>\n",
       "      <td>-$235,904</td>\n",
       "    </tr>\n",
       "    <tr>\n",
       "      <th>1</th>\n",
       "      <td>Dunbar High School</td>\n",
       "      <td>563</td>\n",
       "      <td>761</td>\n",
       "      <td>-26.02%</td>\n",
       "      <td>$6,216,418</td>\n",
       "      <td>-$88,989</td>\n",
       "    </tr>\n",
       "    <tr>\n",
       "      <th>2</th>\n",
       "      <td>Jones High School</td>\n",
       "      <td>1820</td>\n",
       "      <td>1670</td>\n",
       "      <td>8.98%</td>\n",
       "      <td>$11,061,717</td>\n",
       "      <td>-$231,475</td>\n",
       "    </tr>\n",
       "    <tr>\n",
       "      <th>3</th>\n",
       "      <td>Prosser High School</td>\n",
       "      <td>1381</td>\n",
       "      <td>1455</td>\n",
       "      <td>-5.09%</td>\n",
       "      <td>$10,986,115</td>\n",
       "      <td>-$156,831</td>\n",
       "    </tr>\n",
       "    <tr>\n",
       "      <th>4</th>\n",
       "      <td>Payton High School</td>\n",
       "      <td>981</td>\n",
       "      <td>887</td>\n",
       "      <td>10.60%</td>\n",
       "      <td>$6,720,149</td>\n",
       "      <td>-$109,332</td>\n",
       "    </tr>\n",
       "  </tbody>\n",
       "</table>\n",
       "</div>"
      ],
      "text/plain": [
       "                           School 2016-17  2015-16 Pct. Change   New Budget  \\\n",
       "0  Chicago Vocational High School     922      978      -5.73%   $8,316,708   \n",
       "1              Dunbar High School     563      761     -26.02%   $6,216,418   \n",
       "2               Jones High School    1820     1670       8.98%  $11,061,717   \n",
       "3             Prosser High School    1381     1455      -5.09%  $10,986,115   \n",
       "4              Payton High School     981      887      10.60%   $6,720,149   \n",
       "\n",
       "  Budget Change  \n",
       "0     -$235,904  \n",
       "1      -$88,989  \n",
       "2     -$231,475  \n",
       "3     -$156,831  \n",
       "4     -$109,332  "
      ]
     },
     "execution_count": 22,
     "metadata": {},
     "output_type": "execute_result"
    }
   ],
   "source": [
    "budget = pd.read_html(table_html)[0]\n",
    "budget.head()"
   ]
  },
  {
   "cell_type": "markdown",
   "metadata": {},
   "source": [
    "# Pickle budget data"
   ]
  },
  {
   "cell_type": "code",
   "execution_count": 29,
   "metadata": {
    "ExecuteTime": {
     "end_time": "2018-01-27T23:54:54.989085Z",
     "start_time": "2018-01-27T23:54:54.982255Z"
    },
    "collapsed": true
   },
   "outputs": [],
   "source": [
    "budget.to_pickle('../data/budget_raw.pkl')"
   ]
  },
  {
   "cell_type": "code",
   "execution_count": null,
   "metadata": {
    "collapsed": true
   },
   "outputs": [],
   "source": []
  }
 ],
 "metadata": {
  "kernelspec": {
   "display_name": "Python 3",
   "language": "python",
   "name": "python3"
  },
  "language_info": {
   "codemirror_mode": {
    "name": "ipython",
    "version": 3
   },
   "file_extension": ".py",
   "mimetype": "text/x-python",
   "name": "python",
   "nbconvert_exporter": "python",
   "pygments_lexer": "ipython3",
   "version": "3.6.3"
  },
  "toc": {
   "nav_menu": {},
   "number_sections": true,
   "sideBar": true,
   "skip_h1_title": false,
   "title_cell": "Table of Contents",
   "title_sidebar": "Contents",
   "toc_cell": false,
   "toc_position": {},
   "toc_section_display": true,
   "toc_window_display": false
  },
  "varInspector": {
   "cols": {
    "lenName": 16,
    "lenType": 16,
    "lenVar": 40
   },
   "kernels_config": {
    "python": {
     "delete_cmd_postfix": "",
     "delete_cmd_prefix": "del ",
     "library": "var_list.py",
     "varRefreshCmd": "print(var_dic_list())"
    },
    "r": {
     "delete_cmd_postfix": ") ",
     "delete_cmd_prefix": "rm(",
     "library": "var_list.r",
     "varRefreshCmd": "cat(var_dic_list()) "
    }
   },
   "types_to_exclude": [
    "module",
    "function",
    "builtin_function_or_method",
    "instance",
    "_Feature"
   ],
   "window_display": false
  }
 },
 "nbformat": 4,
 "nbformat_minor": 2
}
