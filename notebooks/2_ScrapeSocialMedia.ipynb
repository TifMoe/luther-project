{
 "cells": [
  {
   "cell_type": "code",
   "execution_count": 211,
   "metadata": {
    "ExecuteTime": {
     "end_time": "2018-01-26T21:12:50.826324Z",
     "start_time": "2018-01-26T21:12:50.816104Z"
    }
   },
   "outputs": [
    {
     "name": "stdout",
     "output_type": "stream",
     "text": [
      "Pandas version 0.20.3\n",
      "Numpy version 1.14.0\n"
     ]
    }
   ],
   "source": [
    "from selenium import webdriver\n",
    "from selenium.webdriver.common.keys import Keys\n",
    "from selenium.webdriver.chrome.options import Options\n",
    "from selenium.common.exceptions import NoSuchElementException, WebDriverException\n",
    "\n",
    "import pickle\n",
    "import pandas as pd\n",
    "import numpy as np\n",
    "import time\n",
    "import os\n",
    "\n",
    "print('Pandas version', pd.__version__)\n",
    "print('Numpy version', np.__version__)"
   ]
  },
  {
   "cell_type": "code",
   "execution_count": 212,
   "metadata": {
    "ExecuteTime": {
     "end_time": "2018-01-26T21:12:51.558179Z",
     "start_time": "2018-01-26T21:12:51.554240Z"
    },
    "collapsed": true
   },
   "outputs": [],
   "source": [
    "# Instantiate a driver object\n",
    "chromedriver = \"/Applications/chromedriver\"\n",
    "os.environ[\"webdriver.chrome.driver\"] = chromedriver"
   ]
  },
  {
   "cell_type": "code",
   "execution_count": 213,
   "metadata": {
    "ExecuteTime": {
     "end_time": "2018-01-26T21:12:54.148526Z",
     "start_time": "2018-01-26T21:12:52.598549Z"
    },
    "collapsed": true
   },
   "outputs": [],
   "source": [
    "# Opens a Chrome window and goes to google.com\n",
    "driver = webdriver.Chrome(chromedriver)"
   ]
  },
  {
   "cell_type": "markdown",
   "metadata": {},
   "source": [
    "## Read in school data"
   ]
  },
  {
   "cell_type": "code",
   "execution_count": 214,
   "metadata": {
    "ExecuteTime": {
     "end_time": "2018-01-26T21:12:56.033908Z",
     "start_time": "2018-01-26T21:12:56.028622Z"
    },
    "collapsed": true
   },
   "outputs": [],
   "source": [
    "schools = pd.read_pickle('../data/school_data.pkl')"
   ]
  },
  {
   "cell_type": "code",
   "execution_count": 215,
   "metadata": {
    "ExecuteTime": {
     "end_time": "2018-01-26T21:12:57.801130Z",
     "start_time": "2018-01-26T21:12:57.796404Z"
    },
    "collapsed": true
   },
   "outputs": [],
   "source": [
    "fb = schools['Facebook']\n",
    "tw = schools['Twitter']"
   ]
  },
  {
   "cell_type": "markdown",
   "metadata": {},
   "source": [
    "## Find Facebook Likes"
   ]
  },
  {
   "cell_type": "code",
   "execution_count": 218,
   "metadata": {
    "ExecuteTime": {
     "end_time": "2018-01-26T21:13:19.638470Z",
     "start_time": "2018-01-26T21:13:19.615992Z"
    },
    "collapsed": true
   },
   "outputs": [],
   "source": [
    "def fetch_fb_likes(fb_urls):\n",
    "    \"\"\"\n",
    "    Takes a list of facebook urls in as input and returns a corresponding \n",
    "    list of likes for all pages where this is publically available\n",
    "    \"\"\"\n",
    "    list_likes = []\n",
    "    \n",
    "    for index, url in enumerate(fb_urls):\n",
    "        \n",
    "        if pd.isnull(url):\n",
    "            list_likes.append(None)\n",
    "            \n",
    "        else:\n",
    "        \n",
    "            # Go to school facebook page\n",
    "            driver.get(url)\n",
    "            time.sleep(3.3);\n",
    "\n",
    "            try:            \n",
    "                # Find Page Likes\n",
    "                count = driver.find_element_by_id('PagesLikesCountDOMID')\n",
    "                count.text\n",
    "\n",
    "                like = count.text.split()[0].replace(',', '')\n",
    "                list_likes.append(int(like))\n",
    "                \n",
    "                time.sleep(2.1);\n",
    "\n",
    "            except NoSuchElementException:\n",
    "                list_likes.append(None)\n",
    "    \n",
    "    return list_likes\n",
    "        "
   ]
  },
  {
   "cell_type": "code",
   "execution_count": 219,
   "metadata": {
    "ExecuteTime": {
     "end_time": "2018-01-26T21:21:29.955271Z",
     "start_time": "2018-01-26T21:13:20.632611Z"
    },
    "collapsed": true,
    "scrolled": false
   },
   "outputs": [],
   "source": [
    "fb_likes = fetch_fb_likes(fb)"
   ]
  },
  {
   "cell_type": "code",
   "execution_count": 220,
   "metadata": {
    "ExecuteTime": {
     "end_time": "2018-01-26T21:22:12.857563Z",
     "start_time": "2018-01-26T21:22:12.851647Z"
    }
   },
   "outputs": [
    {
     "data": {
      "text/plain": [
       "121"
      ]
     },
     "execution_count": 220,
     "metadata": {},
     "output_type": "execute_result"
    }
   ],
   "source": [
    "len(fb_likes)"
   ]
  },
  {
   "cell_type": "code",
   "execution_count": 221,
   "metadata": {
    "ExecuteTime": {
     "end_time": "2018-01-26T21:22:14.405145Z",
     "start_time": "2018-01-26T21:22:14.400657Z"
    },
    "collapsed": true
   },
   "outputs": [],
   "source": [
    "schools['fb_likes'] = fb_likes"
   ]
  },
  {
   "cell_type": "code",
   "execution_count": 230,
   "metadata": {
    "ExecuteTime": {
     "end_time": "2018-01-26T23:50:36.304311Z",
     "start_time": "2018-01-26T23:50:36.278568Z"
    }
   },
   "outputs": [
    {
     "data": {
      "text/html": [
       "<div>\n",
       "<style>\n",
       "    .dataframe thead tr:only-child th {\n",
       "        text-align: right;\n",
       "    }\n",
       "\n",
       "    .dataframe thead th {\n",
       "        text-align: left;\n",
       "    }\n",
       "\n",
       "    .dataframe tbody tr th {\n",
       "        vertical-align: top;\n",
       "    }\n",
       "</style>\n",
       "<table border=\"1\" class=\"dataframe\">\n",
       "  <thead>\n",
       "    <tr style=\"text-align: right;\">\n",
       "      <th></th>\n",
       "      <th>School_ID</th>\n",
       "      <th>Short_Name</th>\n",
       "      <th>Long_Name</th>\n",
       "      <th>School_Type</th>\n",
       "      <th>Zip</th>\n",
       "      <th>Facebook</th>\n",
       "      <th>Twitter</th>\n",
       "      <th>Student_Count_Total</th>\n",
       "      <th>Student_Count_Low_Income</th>\n",
       "      <th>School_Hours</th>\n",
       "      <th>Transportation_El</th>\n",
       "      <th>School_Latitude</th>\n",
       "      <th>School_Longitude</th>\n",
       "      <th>Average_ACT_School</th>\n",
       "      <th>Graduation_Rate_School</th>\n",
       "      <th>fb_likes</th>\n",
       "      <th>tw_followers</th>\n",
       "      <th>tw_tweets</th>\n",
       "    </tr>\n",
       "  </thead>\n",
       "  <tbody>\n",
       "    <tr>\n",
       "      <th>177</th>\n",
       "      <td>609694</td>\n",
       "      <td>HANCOCK HS</td>\n",
       "      <td>John Hancock College Preparatory High School</td>\n",
       "      <td>Selective enrollment</td>\n",
       "      <td>60629</td>\n",
       "      <td>https://www.facebook.com/HancockCPS</td>\n",
       "      <td>https://twitter.com/cpshancock</td>\n",
       "      <td>972</td>\n",
       "      <td>855</td>\n",
       "      <td>8:15am - 3:30pm</td>\n",
       "      <td>Orange</td>\n",
       "      <td>41.791464</td>\n",
       "      <td>-87.724470</td>\n",
       "      <td>16.9</td>\n",
       "      <td>84.6</td>\n",
       "      <td>395.0</td>\n",
       "      <td>400.0</td>\n",
       "      <td>322.0</td>\n",
       "    </tr>\n",
       "    <tr>\n",
       "      <th>58</th>\n",
       "      <td>610529</td>\n",
       "      <td>OGDEN HS</td>\n",
       "      <td>Ogden International High School</td>\n",
       "      <td>Neighborhood</td>\n",
       "      <td>60642</td>\n",
       "      <td>http://www.facebook.com/OgdenInternational</td>\n",
       "      <td>https://twitter.com/OgdenIntl</td>\n",
       "      <td>880</td>\n",
       "      <td>481</td>\n",
       "      <td>8:00  AM - 3:15  PM</td>\n",
       "      <td>Blue</td>\n",
       "      <td>41.893548</td>\n",
       "      <td>-87.659405</td>\n",
       "      <td>19.7</td>\n",
       "      <td>83.6</td>\n",
       "      <td>1217.0</td>\n",
       "      <td>614.0</td>\n",
       "      <td>965.0</td>\n",
       "    </tr>\n",
       "    <tr>\n",
       "      <th>475</th>\n",
       "      <td>610392</td>\n",
       "      <td>WORLD LANGUAGE HS</td>\n",
       "      <td>World Language Academy High School</td>\n",
       "      <td>Small</td>\n",
       "      <td>60623</td>\n",
       "      <td>NaN</td>\n",
       "      <td>NaN</td>\n",
       "      <td>351</td>\n",
       "      <td>337</td>\n",
       "      <td>8:00 am-3:15 pm</td>\n",
       "      <td>Pink</td>\n",
       "      <td>41.834397</td>\n",
       "      <td>-87.735292</td>\n",
       "      <td>17.5</td>\n",
       "      <td>77.9</td>\n",
       "      <td>NaN</td>\n",
       "      <td>NaN</td>\n",
       "      <td>NaN</td>\n",
       "    </tr>\n",
       "    <tr>\n",
       "      <th>372</th>\n",
       "      <td>609674</td>\n",
       "      <td>CHICAGO VOCATIONAL HS</td>\n",
       "      <td>Chicago Vocational Career Academy High School</td>\n",
       "      <td>Career academy</td>\n",
       "      <td>60617</td>\n",
       "      <td>NaN</td>\n",
       "      <td>NaN</td>\n",
       "      <td>885</td>\n",
       "      <td>842</td>\n",
       "      <td>8:00  AM - 3:15  PM</td>\n",
       "      <td>NaN</td>\n",
       "      <td>41.737174</td>\n",
       "      <td>-87.573268</td>\n",
       "      <td>15.6</td>\n",
       "      <td>72.6</td>\n",
       "      <td>NaN</td>\n",
       "      <td>NaN</td>\n",
       "      <td>NaN</td>\n",
       "    </tr>\n",
       "    <tr>\n",
       "      <th>520</th>\n",
       "      <td>400053</td>\n",
       "      <td>NOBLE - GOLDER HS</td>\n",
       "      <td>Noble - Golder College Prep</td>\n",
       "      <td>Charter</td>\n",
       "      <td>60642</td>\n",
       "      <td>https://www.facebook.com/GolderCollegePrep</td>\n",
       "      <td>NaN</td>\n",
       "      <td>670</td>\n",
       "      <td>602</td>\n",
       "      <td>7:55 AM - 3:40 PM</td>\n",
       "      <td>Blue</td>\n",
       "      <td>41.895282</td>\n",
       "      <td>-87.664483</td>\n",
       "      <td>19.5</td>\n",
       "      <td>81.7</td>\n",
       "      <td>NaN</td>\n",
       "      <td>NaN</td>\n",
       "      <td>NaN</td>\n",
       "    </tr>\n",
       "    <tr>\n",
       "      <th>88</th>\n",
       "      <td>400010</td>\n",
       "      <td>ACE TECH HS</td>\n",
       "      <td>ACE Technical Charter School</td>\n",
       "      <td>Charter</td>\n",
       "      <td>60609</td>\n",
       "      <td>https://www.facebook.com/pages/ACE-Technical-C...</td>\n",
       "      <td>https://twitter.com/ACETECHNICAL</td>\n",
       "      <td>314</td>\n",
       "      <td>302</td>\n",
       "      <td>7:40 AM-3:22 PM</td>\n",
       "      <td>Brown, Purple, Red</td>\n",
       "      <td>41.796122</td>\n",
       "      <td>-87.625849</td>\n",
       "      <td>15.2</td>\n",
       "      <td>68.8</td>\n",
       "      <td>NaN</td>\n",
       "      <td>227.0</td>\n",
       "      <td>614.0</td>\n",
       "    </tr>\n",
       "    <tr>\n",
       "      <th>191</th>\n",
       "      <td>609754</td>\n",
       "      <td>CHICAGO MILITARY HS</td>\n",
       "      <td>Chicago Military Academy High School</td>\n",
       "      <td>Military academy</td>\n",
       "      <td>60653</td>\n",
       "      <td>NaN</td>\n",
       "      <td>NaN</td>\n",
       "      <td>313</td>\n",
       "      <td>295</td>\n",
       "      <td>7:30 am-3:05 pm</td>\n",
       "      <td>Green, Red</td>\n",
       "      <td>41.830555</td>\n",
       "      <td>-87.619216</td>\n",
       "      <td>16.9</td>\n",
       "      <td>85.4</td>\n",
       "      <td>NaN</td>\n",
       "      <td>NaN</td>\n",
       "      <td>NaN</td>\n",
       "    </tr>\n",
       "    <tr>\n",
       "      <th>636</th>\n",
       "      <td>400059</td>\n",
       "      <td>NORTH LAWNDALE - COLLINS HS</td>\n",
       "      <td>North Lawndale College Prep - Collins</td>\n",
       "      <td>Charter</td>\n",
       "      <td>60623</td>\n",
       "      <td>https://www.facebook.com/nlcphs</td>\n",
       "      <td>NaN</td>\n",
       "      <td>351</td>\n",
       "      <td>340</td>\n",
       "      <td>8:00 a.m. - 3:45 p.m.</td>\n",
       "      <td>Red</td>\n",
       "      <td>41.864146</td>\n",
       "      <td>-87.700681</td>\n",
       "      <td>14.5</td>\n",
       "      <td>69.7</td>\n",
       "      <td>1419.0</td>\n",
       "      <td>NaN</td>\n",
       "      <td>NaN</td>\n",
       "    </tr>\n",
       "    <tr>\n",
       "      <th>460</th>\n",
       "      <td>609760</td>\n",
       "      <td>CARVER MILITARY HS</td>\n",
       "      <td>George Washington Carver Military Academy HS</td>\n",
       "      <td>Military academy</td>\n",
       "      <td>60627</td>\n",
       "      <td>NaN</td>\n",
       "      <td>NaN</td>\n",
       "      <td>479</td>\n",
       "      <td>443</td>\n",
       "      <td>7:45  AM - 3:41  PM</td>\n",
       "      <td>Red</td>\n",
       "      <td>41.656290</td>\n",
       "      <td>-87.590620</td>\n",
       "      <td>18.0</td>\n",
       "      <td>91.0</td>\n",
       "      <td>NaN</td>\n",
       "      <td>NaN</td>\n",
       "      <td>NaN</td>\n",
       "    </tr>\n",
       "    <tr>\n",
       "      <th>651</th>\n",
       "      <td>400097</td>\n",
       "      <td>NOBLE - BULLS HS</td>\n",
       "      <td>Noble - Chicago Bulls College Prep</td>\n",
       "      <td>Charter</td>\n",
       "      <td>60612</td>\n",
       "      <td>NaN</td>\n",
       "      <td>NaN</td>\n",
       "      <td>1146</td>\n",
       "      <td>1010</td>\n",
       "      <td>7:55 AM-3:40 PM</td>\n",
       "      <td>Blue</td>\n",
       "      <td>41.878809</td>\n",
       "      <td>-87.678195</td>\n",
       "      <td>21.7</td>\n",
       "      <td>71.5</td>\n",
       "      <td>NaN</td>\n",
       "      <td>NaN</td>\n",
       "      <td>NaN</td>\n",
       "    </tr>\n",
       "  </tbody>\n",
       "</table>\n",
       "</div>"
      ],
      "text/plain": [
       "     School_ID                   Short_Name  \\\n",
       "177     609694                   HANCOCK HS   \n",
       "58      610529                     OGDEN HS   \n",
       "475     610392            WORLD LANGUAGE HS   \n",
       "372     609674        CHICAGO VOCATIONAL HS   \n",
       "520     400053            NOBLE - GOLDER HS   \n",
       "88      400010                  ACE TECH HS   \n",
       "191     609754          CHICAGO MILITARY HS   \n",
       "636     400059  NORTH LAWNDALE - COLLINS HS   \n",
       "460     609760           CARVER MILITARY HS   \n",
       "651     400097             NOBLE - BULLS HS   \n",
       "\n",
       "                                         Long_Name           School_Type  \\\n",
       "177   John Hancock College Preparatory High School  Selective enrollment   \n",
       "58                 Ogden International High School          Neighborhood   \n",
       "475             World Language Academy High School                 Small   \n",
       "372  Chicago Vocational Career Academy High School        Career academy   \n",
       "520                    Noble - Golder College Prep               Charter   \n",
       "88                    ACE Technical Charter School               Charter   \n",
       "191           Chicago Military Academy High School      Military academy   \n",
       "636          North Lawndale College Prep - Collins               Charter   \n",
       "460   George Washington Carver Military Academy HS      Military academy   \n",
       "651             Noble - Chicago Bulls College Prep               Charter   \n",
       "\n",
       "       Zip                                           Facebook  \\\n",
       "177  60629                https://www.facebook.com/HancockCPS   \n",
       "58   60642         http://www.facebook.com/OgdenInternational   \n",
       "475  60623                                                NaN   \n",
       "372  60617                                                NaN   \n",
       "520  60642         https://www.facebook.com/GolderCollegePrep   \n",
       "88   60609  https://www.facebook.com/pages/ACE-Technical-C...   \n",
       "191  60653                                                NaN   \n",
       "636  60623                    https://www.facebook.com/nlcphs   \n",
       "460  60627                                                NaN   \n",
       "651  60612                                                NaN   \n",
       "\n",
       "                              Twitter  Student_Count_Total  \\\n",
       "177    https://twitter.com/cpshancock                  972   \n",
       "58      https://twitter.com/OgdenIntl                  880   \n",
       "475                               NaN                  351   \n",
       "372                               NaN                  885   \n",
       "520                               NaN                  670   \n",
       "88   https://twitter.com/ACETECHNICAL                  314   \n",
       "191                               NaN                  313   \n",
       "636                               NaN                  351   \n",
       "460                               NaN                  479   \n",
       "651                               NaN                 1146   \n",
       "\n",
       "     Student_Count_Low_Income           School_Hours   Transportation_El  \\\n",
       "177                       855        8:15am - 3:30pm              Orange   \n",
       "58                        481    8:00  AM - 3:15  PM                Blue   \n",
       "475                       337        8:00 am-3:15 pm                Pink   \n",
       "372                       842    8:00  AM - 3:15  PM                 NaN   \n",
       "520                       602      7:55 AM - 3:40 PM                Blue   \n",
       "88                        302        7:40 AM-3:22 PM  Brown, Purple, Red   \n",
       "191                       295        7:30 am-3:05 pm          Green, Red   \n",
       "636                       340  8:00 a.m. - 3:45 p.m.                 Red   \n",
       "460                       443    7:45  AM - 3:41  PM                 Red   \n",
       "651                      1010        7:55 AM-3:40 PM                Blue   \n",
       "\n",
       "     School_Latitude  School_Longitude  Average_ACT_School  \\\n",
       "177        41.791464        -87.724470                16.9   \n",
       "58         41.893548        -87.659405                19.7   \n",
       "475        41.834397        -87.735292                17.5   \n",
       "372        41.737174        -87.573268                15.6   \n",
       "520        41.895282        -87.664483                19.5   \n",
       "88         41.796122        -87.625849                15.2   \n",
       "191        41.830555        -87.619216                16.9   \n",
       "636        41.864146        -87.700681                14.5   \n",
       "460        41.656290        -87.590620                18.0   \n",
       "651        41.878809        -87.678195                21.7   \n",
       "\n",
       "     Graduation_Rate_School  fb_likes  tw_followers  tw_tweets  \n",
       "177                    84.6     395.0         400.0      322.0  \n",
       "58                     83.6    1217.0         614.0      965.0  \n",
       "475                    77.9       NaN           NaN        NaN  \n",
       "372                    72.6       NaN           NaN        NaN  \n",
       "520                    81.7       NaN           NaN        NaN  \n",
       "88                     68.8       NaN         227.0      614.0  \n",
       "191                    85.4       NaN           NaN        NaN  \n",
       "636                    69.7    1419.0           NaN        NaN  \n",
       "460                    91.0       NaN           NaN        NaN  \n",
       "651                    71.5       NaN           NaN        NaN  "
      ]
     },
     "execution_count": 230,
     "metadata": {},
     "output_type": "execute_result"
    }
   ],
   "source": [
    "schools.sample(10)"
   ]
  },
  {
   "cell_type": "markdown",
   "metadata": {
    "collapsed": true
   },
   "source": [
    "## Find Twitter Followers"
   ]
  },
  {
   "cell_type": "code",
   "execution_count": 223,
   "metadata": {
    "ExecuteTime": {
     "end_time": "2018-01-26T21:22:37.912624Z",
     "start_time": "2018-01-26T21:22:37.860095Z"
    },
    "collapsed": true
   },
   "outputs": [],
   "source": [
    "def fetch_tw_followers(tw_urls):\n",
    "    \"\"\"\n",
    "    Takes a list of twitter urls in as input and returns a corresponding \n",
    "    list of follwer counts and tweet counts for all pages where this is publically available\n",
    "    \"\"\"\n",
    "    follower_count = []\n",
    "    tweet_count = []\n",
    "\n",
    "    for index, url in enumerate(tw_urls):\n",
    "        \n",
    "        # Skip nan values\n",
    "        if pd.isnull(url):\n",
    "            follower_count.append(None)\n",
    "            tweet_count.append(None)\n",
    "            \n",
    "        else:\n",
    "            # Go to school facebook page\n",
    "            driver.get(url)\n",
    "            time.sleep(3.3);\n",
    "\n",
    "            try:            \n",
    "            # Find Twitter Followers and Tweet Counts\n",
    "                followers = driver.find_elements_by_xpath('//li[@class=\"ProfileNav-item ProfileNav-item--followers\"]')\n",
    "                time.sleep(2.1)\n",
    "\n",
    "                tweets = driver.find_elements_by_xpath('//li[@class=\"ProfileNav-item ProfileNav-item--tweets is-active\"]')\n",
    "                time.sleep(1.2)\n",
    "\n",
    "                # Try to append follower and tweet counts if existing\n",
    "                try:\n",
    "\n",
    "                    flw = followers[0].text.split()[2].replace(',', '')\n",
    "                    follower_count.append(int(flw))\n",
    "\n",
    "                except IndexError:\n",
    "                        follower_count.append(None)\n",
    "\n",
    "                try:\n",
    "                    twt = tweets[0].text.split()[4].replace(',', '')\n",
    "                    tweet_count.append(int(twt))\n",
    "\n",
    "                except IndexError:\n",
    "                    tweet_count.append(None) \n",
    "\n",
    "            except NoSuchElementException:\n",
    "                follower_count.append(None)\n",
    "                tweet_count.append(None) \n",
    "            \n",
    "    return follower_count, tweet_count\n",
    "        "
   ]
  },
  {
   "cell_type": "code",
   "execution_count": 224,
   "metadata": {
    "ExecuteTime": {
     "end_time": "2018-01-26T21:31:57.352158Z",
     "start_time": "2018-01-26T21:22:38.886880Z"
    },
    "collapsed": true
   },
   "outputs": [],
   "source": [
    "tw_fols, tw_twts = fetch_tw_followers(tw)"
   ]
  },
  {
   "cell_type": "code",
   "execution_count": 225,
   "metadata": {
    "ExecuteTime": {
     "end_time": "2018-01-26T21:35:57.406271Z",
     "start_time": "2018-01-26T21:35:57.401518Z"
    }
   },
   "outputs": [
    {
     "name": "stdout",
     "output_type": "stream",
     "text": [
      "121\n",
      "121\n"
     ]
    }
   ],
   "source": [
    "# Check array is correct length\n",
    "print(len(tw_fols)) \n",
    "print(len(tw_twts)) "
   ]
  },
  {
   "cell_type": "code",
   "execution_count": 226,
   "metadata": {
    "ExecuteTime": {
     "end_time": "2018-01-26T21:35:58.704720Z",
     "start_time": "2018-01-26T21:35:58.700356Z"
    },
    "collapsed": true
   },
   "outputs": [],
   "source": [
    "schools['tw_followers'] = tw_fols\n",
    "schools['tw_tweets']= tw_twts"
   ]
  },
  {
   "cell_type": "markdown",
   "metadata": {},
   "source": [
    "### Pickle school data w/ social"
   ]
  },
  {
   "cell_type": "code",
   "execution_count": 227,
   "metadata": {
    "ExecuteTime": {
     "end_time": "2018-01-26T21:36:00.191082Z",
     "start_time": "2018-01-26T21:36:00.186011Z"
    },
    "collapsed": true
   },
   "outputs": [],
   "source": [
    "schools.to_pickle('../data/schools_w_social.pkl')"
   ]
  },
  {
   "cell_type": "code",
   "execution_count": 228,
   "metadata": {
    "ExecuteTime": {
     "end_time": "2018-01-26T21:57:09.422252Z",
     "start_time": "2018-01-26T21:57:09.412952Z"
    },
    "collapsed": true
   },
   "outputs": [],
   "source": [
    "schools.to_csv('../data/schools_w_social.csv', index=False)"
   ]
  },
  {
   "cell_type": "code",
   "execution_count": null,
   "metadata": {
    "collapsed": true
   },
   "outputs": [],
   "source": []
  }
 ],
 "metadata": {
  "kernelspec": {
   "display_name": "Python 3",
   "language": "python",
   "name": "python3"
  },
  "language_info": {
   "codemirror_mode": {
    "name": "ipython",
    "version": 3
   },
   "file_extension": ".py",
   "mimetype": "text/x-python",
   "name": "python",
   "nbconvert_exporter": "python",
   "pygments_lexer": "ipython3",
   "version": "3.6.3"
  },
  "toc": {
   "nav_menu": {},
   "number_sections": true,
   "sideBar": true,
   "skip_h1_title": false,
   "title_cell": "Table of Contents",
   "title_sidebar": "Contents",
   "toc_cell": false,
   "toc_position": {},
   "toc_section_display": true,
   "toc_window_display": false
  },
  "varInspector": {
   "cols": {
    "lenName": 16,
    "lenType": 16,
    "lenVar": 40
   },
   "kernels_config": {
    "python": {
     "delete_cmd_postfix": "",
     "delete_cmd_prefix": "del ",
     "library": "var_list.py",
     "varRefreshCmd": "print(var_dic_list())"
    },
    "r": {
     "delete_cmd_postfix": ") ",
     "delete_cmd_prefix": "rm(",
     "library": "var_list.r",
     "varRefreshCmd": "cat(var_dic_list()) "
    }
   },
   "types_to_exclude": [
    "module",
    "function",
    "builtin_function_or_method",
    "instance",
    "_Feature"
   ],
   "window_display": false
  }
 },
 "nbformat": 4,
 "nbformat_minor": 2
}
