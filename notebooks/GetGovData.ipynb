{
 "cells": [
  {
   "cell_type": "code",
   "execution_count": 2,
   "metadata": {
    "ExecuteTime": {
     "end_time": "2018-01-25T19:25:19.243247Z",
     "start_time": "2018-01-25T19:25:19.235639Z"
    }
   },
   "outputs": [
    {
     "name": "stdout",
     "output_type": "stream",
     "text": [
      "Pandas version 0.20.3\n",
      "Numpy version 1.14.0\n"
     ]
    }
   ],
   "source": [
    "import pandas as pd\n",
    "import numpy as np\n",
    "\n",
    "print('Pandas version', pd.__version__)\n",
    "print('Numpy version', np.__version__)"
   ]
  },
  {
   "cell_type": "markdown",
   "metadata": {},
   "source": [
    "# Load Data"
   ]
  },
  {
   "cell_type": "markdown",
   "metadata": {},
   "source": [
    "## Read in 2017-2018 Accountability Report (with 2016-2017 data)"
   ]
  },
  {
   "cell_type": "markdown",
   "metadata": {},
   "source": [
    "#### Functions to load in data"
   ]
  },
  {
   "cell_type": "code",
   "execution_count": 82,
   "metadata": {
    "ExecuteTime": {
     "end_time": "2018-01-25T21:30:49.837777Z",
     "start_time": "2018-01-25T21:30:49.830469Z"
    },
    "collapsed": true
   },
   "outputs": [],
   "source": [
    "def drop_first_two_rows(df):\n",
    "    \"\"\"\n",
    "    Takes in a dataframe and drops the first two rows, returning a re-indexed dataframe\n",
    "    \"\"\"\n",
    "\n",
    "    df.drop(df.index[:2], inplace=True)\n",
    "    df.reset_index(drop=True, inplace=True)\n",
    "    \n",
    "    return df\n",
    "    "
   ]
  },
  {
   "cell_type": "code",
   "execution_count": 83,
   "metadata": {
    "ExecuteTime": {
     "end_time": "2018-01-25T21:30:50.400848Z",
     "start_time": "2018-01-25T21:30:50.389480Z"
    },
    "collapsed": true
   },
   "outputs": [],
   "source": [
    "def find_relevant_attributes(file, avg_attend_col, grad_rate_col):\n",
    "    \"\"\"\n",
    "    Takes in a file with school attributes and returns a new dataframe with \n",
    "    the school id, school name, avg daily attendance, and graduation rates\n",
    "    \"\"\"\n",
    "    school_id = file.iloc[:,0]\n",
    "    school_name = file.iloc[:,1]\n",
    "    avg_attend = file.iloc[:,avg_attend_col]\n",
    "    grad_rate = file.iloc[:,grad_rate_col]\n",
    "    \n",
    "    schools = pd.DataFrame({'school_id': school_id, \n",
    "                        'school_name': school_name, \n",
    "                        'avg_daily_attend': avg_attend, \n",
    "                        'grad_rate': grad_rate})\n",
    "    \n",
    "    return schools\n",
    "    "
   ]
  },
  {
   "cell_type": "code",
   "execution_count": 84,
   "metadata": {
    "ExecuteTime": {
     "end_time": "2018-01-25T21:30:51.891272Z",
     "start_time": "2018-01-25T21:30:51.876755Z"
    },
    "collapsed": true
   },
   "outputs": [],
   "source": [
    "def fetch_school_data(filepath, sheetname, avg_attend_col, grad_rate_col):\n",
    "    \n",
    "    \"\"\"\n",
    "    Read in an excel doc sheet\n",
    "    \"\"\"\n",
    "    \n",
    "    assert type(avg_attend_col) == int, 'Please enter col position as integer'\n",
    "    assert type(grad_rate_col) == int, 'Please enter col position as integer'\n",
    "    \n",
    "    file = pd.read_excel('../data/{}'.format(filepath), sheetname=sheetname)\n",
    "    relevant_attributes = find_relevant_attributes(file, avg_attend_col, grad_rate_col)\n",
    "    schools = drop_first_two_rows(relevant_attributes)\n",
    "    \n",
    "    return schools"
   ]
  },
  {
   "cell_type": "markdown",
   "metadata": {},
   "source": [
    "#### Read in high school and combo schools, add a type column and concat together"
   ]
  },
  {
   "cell_type": "code",
   "execution_count": 116,
   "metadata": {
    "ExecuteTime": {
     "end_time": "2018-01-25T21:42:39.585934Z",
     "start_time": "2018-01-25T21:42:39.450923Z"
    }
   },
   "outputs": [],
   "source": [
    "high_schools = fetch_school_data(filepath='Accountability_SQRPratings_2017-2018_SchoolLevel.xls',\n",
    "                                sheetname='High Schools (grds 9-12 only)',\n",
    "                                avg_attend_col=56,\n",
    "                                grad_rate_col=41)\n",
    "\n",
    "high_schools['type'] = 'high_school'"
   ]
  },
  {
   "cell_type": "code",
   "execution_count": 118,
   "metadata": {
    "ExecuteTime": {
     "end_time": "2018-01-25T21:42:56.913536Z",
     "start_time": "2018-01-25T21:42:56.773608Z"
    }
   },
   "outputs": [],
   "source": [
    "combo_schools = fetch_school_data(filepath='Accountability_SQRPratings_2017-2018_SchoolLevel.xls',\n",
    "                                sheetname='Combo Schools (grds PreK-12)',\n",
    "                                avg_attend_col=129,\n",
    "                                grad_rate_col=114)\n",
    "\n",
    "combo_schools['type'] = 'combo_school'"
   ]
  },
  {
   "cell_type": "code",
   "execution_count": 119,
   "metadata": {
    "ExecuteTime": {
     "end_time": "2018-01-25T21:43:52.338449Z",
     "start_time": "2018-01-25T21:43:52.333081Z"
    }
   },
   "outputs": [],
   "source": [
    "schools = pd.concat([high_schools, combo_schools], ignore_index=True)"
   ]
  },
  {
   "cell_type": "code",
   "execution_count": 122,
   "metadata": {
    "ExecuteTime": {
     "end_time": "2018-01-25T21:44:27.463012Z",
     "start_time": "2018-01-25T21:44:27.445912Z"
    }
   },
   "outputs": [
    {
     "data": {
      "text/html": [
       "<div>\n",
       "<style>\n",
       "    .dataframe thead tr:only-child th {\n",
       "        text-align: right;\n",
       "    }\n",
       "\n",
       "    .dataframe thead th {\n",
       "        text-align: left;\n",
       "    }\n",
       "\n",
       "    .dataframe tbody tr th {\n",
       "        vertical-align: top;\n",
       "    }\n",
       "</style>\n",
       "<table border=\"1\" class=\"dataframe\">\n",
       "  <thead>\n",
       "    <tr style=\"text-align: right;\">\n",
       "      <th></th>\n",
       "      <th>avg_daily_attend</th>\n",
       "      <th>grad_rate</th>\n",
       "      <th>school_id</th>\n",
       "      <th>school_name</th>\n",
       "      <th>type</th>\n",
       "    </tr>\n",
       "  </thead>\n",
       "  <tbody>\n",
       "    <tr>\n",
       "      <th>69</th>\n",
       "      <td>93.6</td>\n",
       "      <td>90.6</td>\n",
       "      <td>609737</td>\n",
       "      <td>VON STEUBEN HS</td>\n",
       "      <td>high_school</td>\n",
       "    </tr>\n",
       "    <tr>\n",
       "      <th>44</th>\n",
       "      <td>93.7</td>\n",
       "      <td>95.9</td>\n",
       "      <td>609693</td>\n",
       "      <td>WESTINGHOUSE HS</td>\n",
       "      <td>high_school</td>\n",
       "    </tr>\n",
       "    <tr>\n",
       "      <th>66</th>\n",
       "      <td>87.6</td>\n",
       "      <td>73</td>\n",
       "      <td>609732</td>\n",
       "      <td>STEINMETZ HS</td>\n",
       "      <td>high_school</td>\n",
       "    </tr>\n",
       "    <tr>\n",
       "      <th>126</th>\n",
       "      <td>93.9</td>\n",
       "      <td>77.9</td>\n",
       "      <td>400162</td>\n",
       "      <td>INTRINSIC HS</td>\n",
       "      <td>combo_school</td>\n",
       "    </tr>\n",
       "    <tr>\n",
       "      <th>47</th>\n",
       "      <td>89.1</td>\n",
       "      <td>66.9</td>\n",
       "      <td>609698</td>\n",
       "      <td>BOGAN HS</td>\n",
       "      <td>high_school</td>\n",
       "    </tr>\n",
       "    <tr>\n",
       "      <th>14</th>\n",
       "      <td>95</td>\n",
       "      <td>81</td>\n",
       "      <td>400085</td>\n",
       "      <td>ACERO - GARCIA HS</td>\n",
       "      <td>high_school</td>\n",
       "    </tr>\n",
       "    <tr>\n",
       "      <th>60</th>\n",
       "      <td>75.5</td>\n",
       "      <td>40.4</td>\n",
       "      <td>609722</td>\n",
       "      <td>MANLEY HS</td>\n",
       "      <td>high_school</td>\n",
       "    </tr>\n",
       "    <tr>\n",
       "      <th>27</th>\n",
       "      <td>89.3</td>\n",
       "      <td>64.2</td>\n",
       "      <td>400118</td>\n",
       "      <td>NOBLE - DRW HS</td>\n",
       "      <td>high_school</td>\n",
       "    </tr>\n",
       "    <tr>\n",
       "      <th>120</th>\n",
       "      <td>91.5</td>\n",
       "      <td>81.8</td>\n",
       "      <td>400061</td>\n",
       "      <td>PERSPECTIVES - LEADERSHIP HS</td>\n",
       "      <td>combo_school</td>\n",
       "    </tr>\n",
       "    <tr>\n",
       "      <th>34</th>\n",
       "      <td>91.7</td>\n",
       "      <td>NaN</td>\n",
       "      <td>400172</td>\n",
       "      <td>ASPIRA - BUSINESS &amp; FINANCE HS</td>\n",
       "      <td>high_school</td>\n",
       "    </tr>\n",
       "    <tr>\n",
       "      <th>39</th>\n",
       "      <td>89.9</td>\n",
       "      <td>88.1</td>\n",
       "      <td>609679</td>\n",
       "      <td>PROSSER HS</td>\n",
       "      <td>high_school</td>\n",
       "    </tr>\n",
       "    <tr>\n",
       "      <th>11</th>\n",
       "      <td>93.7</td>\n",
       "      <td>68.8</td>\n",
       "      <td>400058</td>\n",
       "      <td>NORTH LAWNDALE - CHRISTIANA HS</td>\n",
       "      <td>high_school</td>\n",
       "    </tr>\n",
       "    <tr>\n",
       "      <th>51</th>\n",
       "      <td>86.3</td>\n",
       "      <td>59.9</td>\n",
       "      <td>609708</td>\n",
       "      <td>FOREMAN HS</td>\n",
       "      <td>high_school</td>\n",
       "    </tr>\n",
       "    <tr>\n",
       "      <th>86</th>\n",
       "      <td>89.2</td>\n",
       "      <td>7.4</td>\n",
       "      <td>609766</td>\n",
       "      <td>VAUGHN HS</td>\n",
       "      <td>high_school</td>\n",
       "    </tr>\n",
       "    <tr>\n",
       "      <th>18</th>\n",
       "      <td>90.8</td>\n",
       "      <td>70.4</td>\n",
       "      <td>400094</td>\n",
       "      <td>EPIC HS</td>\n",
       "      <td>high_school</td>\n",
       "    </tr>\n",
       "  </tbody>\n",
       "</table>\n",
       "</div>"
      ],
      "text/plain": [
       "    avg_daily_attend grad_rate school_id                     school_name  \\\n",
       "69              93.6      90.6    609737                  VON STEUBEN HS   \n",
       "44              93.7      95.9    609693                 WESTINGHOUSE HS   \n",
       "66              87.6        73    609732                    STEINMETZ HS   \n",
       "126             93.9      77.9    400162                    INTRINSIC HS   \n",
       "47              89.1      66.9    609698                        BOGAN HS   \n",
       "14                95        81    400085               ACERO - GARCIA HS   \n",
       "60              75.5      40.4    609722                       MANLEY HS   \n",
       "27              89.3      64.2    400118                  NOBLE - DRW HS   \n",
       "120             91.5      81.8    400061    PERSPECTIVES - LEADERSHIP HS   \n",
       "34              91.7       NaN    400172  ASPIRA - BUSINESS & FINANCE HS   \n",
       "39              89.9      88.1    609679                      PROSSER HS   \n",
       "11              93.7      68.8    400058  NORTH LAWNDALE - CHRISTIANA HS   \n",
       "51              86.3      59.9    609708                      FOREMAN HS   \n",
       "86              89.2       7.4    609766                       VAUGHN HS   \n",
       "18              90.8      70.4    400094                         EPIC HS   \n",
       "\n",
       "             type  \n",
       "69    high_school  \n",
       "44    high_school  \n",
       "66    high_school  \n",
       "126  combo_school  \n",
       "47    high_school  \n",
       "14    high_school  \n",
       "60    high_school  \n",
       "27    high_school  \n",
       "120  combo_school  \n",
       "34    high_school  \n",
       "39    high_school  \n",
       "11    high_school  \n",
       "51    high_school  \n",
       "86    high_school  \n",
       "18    high_school  "
      ]
     },
     "execution_count": 122,
     "metadata": {},
     "output_type": "execute_result"
    }
   ],
   "source": [
    "schools.sample(15)"
   ]
  },
  {
   "cell_type": "code",
   "execution_count": 126,
   "metadata": {
    "ExecuteTime": {
     "end_time": "2018-01-25T21:46:34.908602Z",
     "start_time": "2018-01-25T21:46:34.901177Z"
    }
   },
   "outputs": [
    {
     "data": {
      "text/plain": [
       "76.8"
      ]
     },
     "execution_count": 126,
     "metadata": {},
     "output_type": "execute_result"
    }
   ],
   "source": [
    "schools.grad_rate.median()"
   ]
  },
  {
   "cell_type": "markdown",
   "metadata": {},
   "source": [
    "## Read in 2016-2017 School Profile Info"
   ]
  },
  {
   "cell_type": "code",
   "execution_count": 128,
   "metadata": {
    "ExecuteTime": {
     "end_time": "2018-01-25T22:10:40.122046Z",
     "start_time": "2018-01-25T22:10:40.092558Z"
    }
   },
   "outputs": [],
   "source": [
    "profiles = pd.read_csv('../data/Chicago_Public_Schools_-_School_Profile_Information_SY1617.csv', encoding = \"ISO-8859-1\")"
   ]
  },
  {
   "cell_type": "code",
   "execution_count": 129,
   "metadata": {
    "ExecuteTime": {
     "end_time": "2018-01-25T22:10:45.442961Z",
     "start_time": "2018-01-25T22:10:45.417175Z"
    }
   },
   "outputs": [
    {
     "data": {
      "text/html": [
       "<div>\n",
       "<style>\n",
       "    .dataframe thead tr:only-child th {\n",
       "        text-align: right;\n",
       "    }\n",
       "\n",
       "    .dataframe thead th {\n",
       "        text-align: left;\n",
       "    }\n",
       "\n",
       "    .dataframe tbody tr th {\n",
       "        vertical-align: top;\n",
       "    }\n",
       "</style>\n",
       "<table border=\"1\" class=\"dataframe\">\n",
       "  <thead>\n",
       "    <tr style=\"text-align: right;\">\n",
       "      <th></th>\n",
       "      <th>School_ID</th>\n",
       "      <th>Legacy_Unit_ID</th>\n",
       "      <th>Finance_ID</th>\n",
       "      <th>Short_Name</th>\n",
       "      <th>Long_Name</th>\n",
       "      <th>School_Type</th>\n",
       "      <th>Primary_Category</th>\n",
       "      <th>Is_High_School</th>\n",
       "      <th>Is_Middle_School</th>\n",
       "      <th>Is_Elementary_School</th>\n",
       "      <th>...</th>\n",
       "      <th>Third_Contact_Name</th>\n",
       "      <th>Fourth_Contact_Title</th>\n",
       "      <th>Fourth_Contact_Name</th>\n",
       "      <th>Fifth_Contact_Title</th>\n",
       "      <th>Fifth_Contact_Name</th>\n",
       "      <th>Sixth_Contact_Title</th>\n",
       "      <th>Sixth_Contact_Name</th>\n",
       "      <th>Seventh_Contact_Title</th>\n",
       "      <th>Seventh_Contact_Name</th>\n",
       "      <th>Location</th>\n",
       "    </tr>\n",
       "  </thead>\n",
       "  <tbody>\n",
       "    <tr>\n",
       "      <th>0</th>\n",
       "      <td>610158</td>\n",
       "      <td>5720</td>\n",
       "      <td>29271</td>\n",
       "      <td>SAYRE</td>\n",
       "      <td>Harriet E Sayre Elementary Language Academy</td>\n",
       "      <td>Neighborhood</td>\n",
       "      <td>ES</td>\n",
       "      <td>N</td>\n",
       "      <td>Y</td>\n",
       "      <td>Y</td>\n",
       "      <td>...</td>\n",
       "      <td>NaN</td>\n",
       "      <td>NaN</td>\n",
       "      <td>NaN</td>\n",
       "      <td>NaN</td>\n",
       "      <td>NaN</td>\n",
       "      <td>NaN</td>\n",
       "      <td>NaN</td>\n",
       "      <td>NaN</td>\n",
       "      <td>NaN</td>\n",
       "      <td>1850 N NEWLAND AVE\\rChicago, Illinois 60707\\r(...</td>\n",
       "    </tr>\n",
       "    <tr>\n",
       "      <th>1</th>\n",
       "      <td>610282</td>\n",
       "      <td>7040</td>\n",
       "      <td>26301</td>\n",
       "      <td>MCNAIR</td>\n",
       "      <td>Ronald E McNair Elementary School</td>\n",
       "      <td>Neighborhood</td>\n",
       "      <td>ES</td>\n",
       "      <td>N</td>\n",
       "      <td>Y</td>\n",
       "      <td>Y</td>\n",
       "      <td>...</td>\n",
       "      <td>Tasia White</td>\n",
       "      <td>NaN</td>\n",
       "      <td>NaN</td>\n",
       "      <td>NaN</td>\n",
       "      <td>NaN</td>\n",
       "      <td>NaN</td>\n",
       "      <td>NaN</td>\n",
       "      <td>NaN</td>\n",
       "      <td>NaN</td>\n",
       "      <td>4820 W WALTON ST\\rChicago, Illinois 60651\\r(41...</td>\n",
       "    </tr>\n",
       "    <tr>\n",
       "      <th>2</th>\n",
       "      <td>609996</td>\n",
       "      <td>4020</td>\n",
       "      <td>23821</td>\n",
       "      <td>HOLDEN</td>\n",
       "      <td>Charles N Holden Elementary School</td>\n",
       "      <td>Neighborhood</td>\n",
       "      <td>ES</td>\n",
       "      <td>N</td>\n",
       "      <td>Y</td>\n",
       "      <td>Y</td>\n",
       "      <td>...</td>\n",
       "      <td>NaN</td>\n",
       "      <td>NaN</td>\n",
       "      <td>NaN</td>\n",
       "      <td>NaN</td>\n",
       "      <td>NaN</td>\n",
       "      <td>NaN</td>\n",
       "      <td>NaN</td>\n",
       "      <td>NaN</td>\n",
       "      <td>NaN</td>\n",
       "      <td>1104 W 31ST ST\\rChicago, Illinois 60608\\r(41.8...</td>\n",
       "    </tr>\n",
       "    <tr>\n",
       "      <th>3</th>\n",
       "      <td>400079</td>\n",
       "      <td>3344</td>\n",
       "      <td>66395</td>\n",
       "      <td>ACERO - ZIZUMBO</td>\n",
       "      <td>Acero Charter Schools - SPC Daniel Zizumbo</td>\n",
       "      <td>Charter</td>\n",
       "      <td>ES</td>\n",
       "      <td>N</td>\n",
       "      <td>Y</td>\n",
       "      <td>Y</td>\n",
       "      <td>...</td>\n",
       "      <td>NaN</td>\n",
       "      <td>NaN</td>\n",
       "      <td>NaN</td>\n",
       "      <td>NaN</td>\n",
       "      <td>NaN</td>\n",
       "      <td>NaN</td>\n",
       "      <td>NaN</td>\n",
       "      <td>NaN</td>\n",
       "      <td>NaN</td>\n",
       "      <td>4248 W 47TH ST\\rChicago, Illinois 60632\\r(41.8...</td>\n",
       "    </tr>\n",
       "    <tr>\n",
       "      <th>4</th>\n",
       "      <td>610089</td>\n",
       "      <td>5020</td>\n",
       "      <td>24621</td>\n",
       "      <td>MURPHY</td>\n",
       "      <td>John B Murphy Elementary School</td>\n",
       "      <td>Neighborhood</td>\n",
       "      <td>ES</td>\n",
       "      <td>N</td>\n",
       "      <td>Y</td>\n",
       "      <td>Y</td>\n",
       "      <td>...</td>\n",
       "      <td>Laura Aguirre</td>\n",
       "      <td>NaN</td>\n",
       "      <td>NaN</td>\n",
       "      <td>NaN</td>\n",
       "      <td>NaN</td>\n",
       "      <td>NaN</td>\n",
       "      <td>NaN</td>\n",
       "      <td>NaN</td>\n",
       "      <td>NaN</td>\n",
       "      <td>3539 W GRACE ST\\rChicago, Illinois 60618\\r(41....</td>\n",
       "    </tr>\n",
       "  </tbody>\n",
       "</table>\n",
       "<p>5 rows × 91 columns</p>\n",
       "</div>"
      ],
      "text/plain": [
       "   School_ID  Legacy_Unit_ID  Finance_ID       Short_Name  \\\n",
       "0     610158            5720       29271            SAYRE   \n",
       "1     610282            7040       26301           MCNAIR   \n",
       "2     609996            4020       23821           HOLDEN   \n",
       "3     400079            3344       66395  ACERO - ZIZUMBO   \n",
       "4     610089            5020       24621           MURPHY   \n",
       "\n",
       "                                     Long_Name   School_Type Primary_Category  \\\n",
       "0  Harriet E Sayre Elementary Language Academy  Neighborhood               ES   \n",
       "1            Ronald E McNair Elementary School  Neighborhood               ES   \n",
       "2           Charles N Holden Elementary School  Neighborhood               ES   \n",
       "3   Acero Charter Schools - SPC Daniel Zizumbo       Charter               ES   \n",
       "4              John B Murphy Elementary School  Neighborhood               ES   \n",
       "\n",
       "  Is_High_School Is_Middle_School Is_Elementary_School  \\\n",
       "0              N                Y                    Y   \n",
       "1              N                Y                    Y   \n",
       "2              N                Y                    Y   \n",
       "3              N                Y                    Y   \n",
       "4              N                Y                    Y   \n",
       "\n",
       "                         ...                         Third_Contact_Name  \\\n",
       "0                        ...                                        NaN   \n",
       "1                        ...                                Tasia White   \n",
       "2                        ...                                        NaN   \n",
       "3                        ...                                        NaN   \n",
       "4                        ...                              Laura Aguirre   \n",
       "\n",
       "  Fourth_Contact_Title Fourth_Contact_Name Fifth_Contact_Title  \\\n",
       "0                  NaN                 NaN                 NaN   \n",
       "1                  NaN                 NaN                 NaN   \n",
       "2                  NaN                 NaN                 NaN   \n",
       "3                  NaN                 NaN                 NaN   \n",
       "4                  NaN                 NaN                 NaN   \n",
       "\n",
       "  Fifth_Contact_Name Sixth_Contact_Title Sixth_Contact_Name  \\\n",
       "0                NaN                 NaN                NaN   \n",
       "1                NaN                 NaN                NaN   \n",
       "2                NaN                 NaN                NaN   \n",
       "3                NaN                 NaN                NaN   \n",
       "4                NaN                 NaN                NaN   \n",
       "\n",
       "  Seventh_Contact_Title Seventh_Contact_Name  \\\n",
       "0                   NaN                  NaN   \n",
       "1                   NaN                  NaN   \n",
       "2                   NaN                  NaN   \n",
       "3                   NaN                  NaN   \n",
       "4                   NaN                  NaN   \n",
       "\n",
       "                                            Location  \n",
       "0  1850 N NEWLAND AVE\\rChicago, Illinois 60707\\r(...  \n",
       "1  4820 W WALTON ST\\rChicago, Illinois 60651\\r(41...  \n",
       "2  1104 W 31ST ST\\rChicago, Illinois 60608\\r(41.8...  \n",
       "3  4248 W 47TH ST\\rChicago, Illinois 60632\\r(41.8...  \n",
       "4  3539 W GRACE ST\\rChicago, Illinois 60618\\r(41....  \n",
       "\n",
       "[5 rows x 91 columns]"
      ]
     },
     "execution_count": 129,
     "metadata": {},
     "output_type": "execute_result"
    }
   ],
   "source": [
    "profiles.head()"
   ]
  },
  {
   "cell_type": "code",
   "execution_count": 130,
   "metadata": {
    "ExecuteTime": {
     "end_time": "2018-01-25T22:11:45.731214Z",
     "start_time": "2018-01-25T22:11:45.714857Z"
    },
    "collapsed": true
   },
   "outputs": [],
   "source": [
    "# Left join to high schools\n",
    "schools_pr = pd.merge(schools, profiles, how='left', left_on='school_id', right_on='School_ID')"
   ]
  },
  {
   "cell_type": "code",
   "execution_count": 133,
   "metadata": {
    "ExecuteTime": {
     "end_time": "2018-01-25T22:12:15.790872Z",
     "start_time": "2018-01-25T22:12:15.775921Z"
    }
   },
   "outputs": [
    {
     "name": "stdout",
     "output_type": "stream",
     "text": [
      "<class 'pandas.core.frame.DataFrame'>\n",
      "Int64Index: 142 entries, 0 to 141\n",
      "Data columns (total 96 columns):\n",
      "avg_daily_attend                           142 non-null object\n",
      "grad_rate                                  131 non-null object\n",
      "school_id                                  142 non-null object\n",
      "school_name                                142 non-null object\n",
      "type                                       142 non-null object\n",
      "School_ID                                  142 non-null int64\n",
      "Legacy_Unit_ID                             142 non-null int64\n",
      "Finance_ID                                 142 non-null int64\n",
      "Short_Name                                 142 non-null object\n",
      "Long_Name                                  142 non-null object\n",
      "School_Type                                142 non-null object\n",
      "Primary_Category                           142 non-null object\n",
      "Is_High_School                             142 non-null object\n",
      "Is_Middle_School                           142 non-null object\n",
      "Is_Elementary_School                       142 non-null object\n",
      "Is_Pre_School                              142 non-null object\n",
      "Summary                                    142 non-null object\n",
      "Administrator_Title                        142 non-null object\n",
      "Administrator                              142 non-null object\n",
      "Secondary_Contact_Title                    124 non-null object\n",
      "Secondary_Contact                          121 non-null object\n",
      "Address                                    142 non-null object\n",
      "City                                       142 non-null object\n",
      "State                                      142 non-null object\n",
      "Zip                                        142 non-null int64\n",
      "Phone                                      142 non-null int64\n",
      "Fax                                        139 non-null float64\n",
      "CPS_School_Profile                         142 non-null object\n",
      "Website                                    140 non-null object\n",
      "Facebook                                   80 non-null object\n",
      "Twitter                                    85 non-null object\n",
      "Youtube                                    17 non-null object\n",
      "Pinterest                                  2 non-null object\n",
      "Attendance_Boundaries                      142 non-null object\n",
      "Grades_Offered_All                         142 non-null object\n",
      "Grades_Offered                             142 non-null object\n",
      "Student_Count_Total                        142 non-null int64\n",
      "Student_Count_Low_Income                   142 non-null int64\n",
      "Student_Count_Special_Ed                   142 non-null int64\n",
      "Student_Count_English_Learners             142 non-null int64\n",
      "Student_Count_Black                        142 non-null int64\n",
      "Student_Count_Hispanic                     142 non-null int64\n",
      "Student_Count_White                        142 non-null int64\n",
      "Student_Count_Asian                        142 non-null int64\n",
      "Student_Count_Native_American              142 non-null int64\n",
      "Student_Count_Other_Ethnicity              142 non-null int64\n",
      "Student_Count_Asian_Pacific_Islander       142 non-null int64\n",
      "Student_Count_Multi                        142 non-null int64\n",
      "Student_Count_Hawaiian_Pacific_Islander    142 non-null int64\n",
      "Student_Count_Ethnicity_Not_Available      142 non-null int64\n",
      "Statistics_Description                     142 non-null object\n",
      "Demographic_Description                    142 non-null object\n",
      "ADA_Accessible                             142 non-null object\n",
      "Dress_Code                                 142 non-null object\n",
      "PreK_School_Day                            3 non-null object\n",
      "Kindergarten_School_Day                    4 non-null object\n",
      "School_Hours                               140 non-null object\n",
      "Freshman_Start_End_Time                    104 non-null object\n",
      "After_School_Hours                         87 non-null object\n",
      "Earliest_Drop_Off_Time                     103 non-null object\n",
      "Classroom_Languages                        131 non-null object\n",
      "Bilingual_Services                         134 non-null object\n",
      "Refugee_Services                           125 non-null object\n",
      "Title_1_Eligible                           140 non-null object\n",
      "PreSchool_Inclusive                        0 non-null object\n",
      "Preschool_Instructional                    0 non-null object\n",
      "Significantly_Modified                     42 non-null object\n",
      "Hard_Of_Hearing                            5 non-null object\n",
      "Visual_Impairments                         2 non-null object\n",
      "Transportation_Bus                         131 non-null object\n",
      "Transportation_El                          107 non-null object\n",
      "Transportation_Metra                       39 non-null object\n",
      "School_Latitude                            142 non-null float64\n",
      "School_Longitude                           142 non-null float64\n",
      "Average_ACT_School                         131 non-null float64\n",
      "Mean_ACT                                   142 non-null float64\n",
      "College_Enrollment_Rate_School             122 non-null float64\n",
      "College_Enrollment_Rate_Mean               142 non-null float64\n",
      "Graduation_Rate_School                     117 non-null float64\n",
      "Graduation_Rate_Mean                       142 non-null float64\n",
      "Overall_Rating                             142 non-null object\n",
      "Rating_Status                              140 non-null object\n",
      "Rating_Statement                           142 non-null object\n",
      "Classification_Description                 142 non-null object\n",
      "School_Year                                142 non-null object\n",
      "Third_Contact_Title                        80 non-null object\n",
      "Third_Contact_Name                         79 non-null object\n",
      "Fourth_Contact_Title                       58 non-null object\n",
      "Fourth_Contact_Name                        57 non-null object\n",
      "Fifth_Contact_Title                        35 non-null object\n",
      "Fifth_Contact_Name                         34 non-null object\n",
      "Sixth_Contact_Title                        23 non-null object\n",
      "Sixth_Contact_Name                         23 non-null object\n",
      "Seventh_Contact_Title                      14 non-null object\n",
      "Seventh_Contact_Name                       14 non-null object\n",
      "Location                                   142 non-null object\n",
      "dtypes: float64(9), int64(19), object(68)\n",
      "memory usage: 107.6+ KB\n"
     ]
    }
   ],
   "source": [
    "schools_pr.info()"
   ]
  },
  {
   "cell_type": "code",
   "execution_count": 143,
   "metadata": {
    "ExecuteTime": {
     "end_time": "2018-01-25T22:22:20.349092Z",
     "start_time": "2018-01-25T22:22:20.342797Z"
    }
   },
   "outputs": [
    {
     "data": {
      "text/plain": [
       "'http://cps.edu/Schools/Pages/school.aspx?SchoolID=400156'"
      ]
     },
     "execution_count": 143,
     "metadata": {},
     "output_type": "execute_result"
    }
   ],
   "source": [
    "schools_pr.CPS_School_Profile[30]"
   ]
  },
  {
   "cell_type": "code",
   "execution_count": 152,
   "metadata": {
    "ExecuteTime": {
     "end_time": "2018-01-25T22:38:00.658190Z",
     "start_time": "2018-01-25T22:38:00.648225Z"
    }
   },
   "outputs": [
    {
     "data": {
      "text/plain": [
       "grad_rate                 73.249618\n",
       "Graduation_Rate_School    75.175214\n",
       "Graduation_Rate_Mean      73.500000\n",
       "dtype: float64"
      ]
     },
     "execution_count": 152,
     "metadata": {},
     "output_type": "execute_result"
    }
   ],
   "source": [
    "# the accountability report might not have actual 2016-2017 data, might be goal for 2018 based on actuals from past year?\n",
    "\n",
    "schools_pr.loc[:,['grad_rate', 'Graduation_Rate_School', 'Graduation_Rate_Mean']].mean()"
   ]
  },
  {
   "cell_type": "code",
   "execution_count": 150,
   "metadata": {
    "ExecuteTime": {
     "end_time": "2018-01-25T22:32:26.903596Z",
     "start_time": "2018-01-25T22:32:26.896010Z"
    }
   },
   "outputs": [],
   "source": [
    "# Pickle data after cleaning\n",
    "schools_pr.to_pickle('../data/cleaned_data.pkl')"
   ]
  },
  {
   "cell_type": "code",
   "execution_count": 153,
   "metadata": {
    "ExecuteTime": {
     "end_time": "2018-01-25T22:40:25.692904Z",
     "start_time": "2018-01-25T22:40:25.686251Z"
    }
   },
   "outputs": [
    {
     "data": {
      "text/plain": [
       "142"
      ]
     },
     "execution_count": 153,
     "metadata": {},
     "output_type": "execute_result"
    }
   ],
   "source": []
  },
  {
   "cell_type": "code",
   "execution_count": null,
   "metadata": {
    "collapsed": true
   },
   "outputs": [],
   "source": []
  }
 ],
 "metadata": {
  "kernelspec": {
   "display_name": "Python 3",
   "language": "python",
   "name": "python3"
  },
  "language_info": {
   "codemirror_mode": {
    "name": "ipython",
    "version": 3
   },
   "file_extension": ".py",
   "mimetype": "text/x-python",
   "name": "python",
   "nbconvert_exporter": "python",
   "pygments_lexer": "ipython3",
   "version": "3.6.3"
  },
  "toc": {
   "nav_menu": {},
   "number_sections": true,
   "sideBar": true,
   "skip_h1_title": false,
   "title_cell": "Table of Contents",
   "title_sidebar": "Contents",
   "toc_cell": false,
   "toc_position": {},
   "toc_section_display": true,
   "toc_window_display": true
  },
  "varInspector": {
   "cols": {
    "lenName": 16,
    "lenType": 16,
    "lenVar": 40
   },
   "kernels_config": {
    "python": {
     "delete_cmd_postfix": "",
     "delete_cmd_prefix": "del ",
     "library": "var_list.py",
     "varRefreshCmd": "print(var_dic_list())"
    },
    "r": {
     "delete_cmd_postfix": ") ",
     "delete_cmd_prefix": "rm(",
     "library": "var_list.r",
     "varRefreshCmd": "cat(var_dic_list()) "
    }
   },
   "types_to_exclude": [
    "module",
    "function",
    "builtin_function_or_method",
    "instance",
    "_Feature"
   ],
   "window_display": false
  }
 },
 "nbformat": 4,
 "nbformat_minor": 2
}
