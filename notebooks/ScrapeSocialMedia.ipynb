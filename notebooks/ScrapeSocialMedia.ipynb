{
 "cells": [
  {
   "cell_type": "code",
   "execution_count": 82,
   "metadata": {
    "ExecuteTime": {
     "end_time": "2018-01-25T23:24:28.790307Z",
     "start_time": "2018-01-25T23:24:28.776978Z"
    }
   },
   "outputs": [
    {
     "name": "stdout",
     "output_type": "stream",
     "text": [
      "Pandas version 0.20.3\n",
      "Numpy version 1.14.0\n"
     ]
    }
   ],
   "source": [
    "from selenium import webdriver\n",
    "from selenium.webdriver.common.keys import Keys\n",
    "from selenium.webdriver.chrome.options import Options\n",
    "from selenium.common.exceptions import NoSuchElementException\n",
    "\n",
    "import pandas as pd\n",
    "import numpy as np\n",
    "import time\n",
    "import os\n",
    "\n",
    "print('Pandas version', pd.__version__)\n",
    "print('Numpy version', np.__version__)"
   ]
  },
  {
   "cell_type": "code",
   "execution_count": 17,
   "metadata": {
    "ExecuteTime": {
     "end_time": "2018-01-25T22:41:53.160661Z",
     "start_time": "2018-01-25T22:41:53.157296Z"
    },
    "collapsed": true
   },
   "outputs": [],
   "source": [
    "# Instantiate a driver object\n",
    "chromedriver = \"/Applications/chromedriver\"\n",
    "os.environ[\"webdriver.chrome.driver\"] = chromedriver"
   ]
  },
  {
   "cell_type": "code",
   "execution_count": 76,
   "metadata": {
    "ExecuteTime": {
     "end_time": "2018-01-25T23:21:14.547620Z",
     "start_time": "2018-01-25T23:21:12.885754Z"
    },
    "collapsed": true
   },
   "outputs": [],
   "source": [
    "# Opens a Chrome window and goes to google.com\n",
    "driver = webdriver.Chrome(chromedriver)"
   ]
  },
  {
   "cell_type": "markdown",
   "metadata": {},
   "source": [
    "## Read in school data"
   ]
  },
  {
   "cell_type": "code",
   "execution_count": 9,
   "metadata": {
    "ExecuteTime": {
     "end_time": "2018-01-25T22:36:16.418811Z",
     "start_time": "2018-01-25T22:36:16.409962Z"
    }
   },
   "outputs": [],
   "source": [
    "schools = pd.read_pickle('../data/cleaned_data.pkl')"
   ]
  },
  {
   "cell_type": "code",
   "execution_count": 16,
   "metadata": {
    "ExecuteTime": {
     "end_time": "2018-01-25T22:41:18.422149Z",
     "start_time": "2018-01-25T22:41:18.417704Z"
    },
    "collapsed": true
   },
   "outputs": [],
   "source": [
    "fb = schools['Facebook']\n",
    "tw = schools['Twitter']"
   ]
  },
  {
   "cell_type": "markdown",
   "metadata": {},
   "source": [
    "## Find Facebook Likes"
   ]
  },
  {
   "cell_type": "code",
   "execution_count": 137,
   "metadata": {
    "ExecuteTime": {
     "end_time": "2018-01-25T23:47:18.571789Z",
     "start_time": "2018-01-25T23:47:18.542764Z"
    },
    "collapsed": true
   },
   "outputs": [],
   "source": [
    "def fetch_fb_likes(fb_urls):\n",
    "    \"\"\"\n",
    "    Takes a list of facebook urls in as input and returns a corresponding list of likes for all pages where this is publically available\n",
    "    \"\"\"\n",
    "    list_likes = []\n",
    "    \n",
    "    for url in fb_urls:\n",
    "        print(url)\n",
    "        \n",
    "        if pd.isnull(url):\n",
    "            list_likes.append(None)\n",
    "            \n",
    "        else:\n",
    "        \n",
    "            # Go to school facebook page\n",
    "            driver.get(url)\n",
    "            time.sleep(3.3);\n",
    "\n",
    "            try:            \n",
    "                # Find Page Likes\n",
    "                count = driver.find_element_by_id('PagesLikesCountDOMID')\n",
    "                count.text\n",
    "\n",
    "                like = count.text.split()[0].replace(',', '')\n",
    "                list_likes.append(int(like))\n",
    "\n",
    "                print(like)\n",
    "                \n",
    "                time.sleep(2.1);\n",
    "\n",
    "            except NoSuchElementException:\n",
    "                list_likes.append(None)\n",
    "    \n",
    "    return list_likes\n",
    "        "
   ]
  },
  {
   "cell_type": "code",
   "execution_count": 138,
   "metadata": {
    "ExecuteTime": {
     "end_time": "2018-01-25T23:57:26.472879Z",
     "start_time": "2018-01-25T23:47:19.579209Z"
    },
    "scrolled": false
   },
   "outputs": [
    {
     "name": "stdout",
     "output_type": "stream",
     "text": [
      "https://www.facebook.com/pages/ACE-Technical-Charter-High-School/2030732831\n",
      "https://www.facebook.com/ASPIRAIllinois\n",
      "2170\n",
      "https://www.facebook.com/ChiArtsHS/\n",
      "1707\n",
      "nan\n",
      "https://www.facebook.com/CICSNorthtown/\n",
      "450\n",
      "http://www.facebook.com/noblecollegeprep\n",
      "https://www.facebook.com/GolderCollegePrep\n",
      "https://www.facebook.com/benoblepritzker\n",
      "1791\n",
      "nan\n",
      "https://www.facebook.com/BeNobleRCMSA/\n",
      "427\n",
      "https://www.facebook.com/BeNobleUICCP/\n",
      "1415\n",
      "https://www.facebook.com/nlcphs\n",
      "1419\n",
      "https://www.facebook.com/nlcphs\n",
      "1419\n",
      "https://www.facebook.com/perspectivescs\n",
      "1903\n",
      "https://www.facebook.com/UNOCharterSchoolNetwork\n",
      "https://www.facebook.com/UrbanPrepAcademies/\n",
      "11744\n",
      "https://www.facebook.com/ywlcs/\n",
      "http://www.facebook.com/ChiTechAcademy\n",
      "831\n",
      "https://www.facebook.com/EPICAcademyHighSchool\n",
      "423\n",
      "nan\n",
      "http://www.facebook.com/BeNobleMuchin\n",
      "600\n",
      "https://www.facebook.com/UrbanPrepAcademies/\n",
      "11744\n",
      "https://www.facebook.com/Instituto1977/\n",
      "5890\n",
      "https://www.facebook.com/UrbanPrepAcademies/\n",
      "11744\n",
      "https://www.facebook.com/BeNobleJCP\n",
      "2814\n",
      "https://www.facebook.com/chicagoquest/\n",
      "925\n",
      "https://www.facebook.com/BeNobleHCP/\n",
      "500\n",
      "nan\n",
      "https://www.facebook.com/legalprep\n",
      "808\n",
      "https://www.facebook.com/UNOCharterSchoolNetwork\n",
      "https://www.facebook.com/BeNobleButler\n",
      "1675\n",
      "nan\n",
      "https://www.facebook.com/ITW-David-Speer-Academy-711908378865742\n",
      "1069\n",
      "https://www.facebook.com/BeNobleAcademy/\n",
      "619\n",
      "https://www.facebook.com/ASPIRAIllinois\n",
      "2170\n",
      "https://www.facebook.com/BeNobleMHS/\n",
      "789\n",
      "nan\n",
      "nan\n",
      "https://www.facebook.com/JonesCollegePrepHS/\n",
      "nan\n",
      "https://www.facebook.com/Payton-News-Network-131730923592367/\n",
      "585\n",
      "nan\n",
      "https://www.facebook.com/pages/North-Grand-High-School/615600888570010\n",
      "nan\n",
      "nan\n",
      "https://www.facebook.com/HancockCPS\n",
      "394\n",
      "nan\n",
      "http://www.facebook.com/BoganBengal79\n",
      "80\n",
      "https://www.facebook.com/FarragutCareerAcademy\n",
      "2270\n",
      "nan\n",
      "nan\n",
      "http://www.facebook.com/foremanhs\n",
      "143\n",
      "https://www.facebook.com/GageParkHS\n",
      "nan\n",
      "nan\n",
      "nan\n",
      "nan\n",
      "nan\n",
      "nan\n",
      "https://www.facebook.com/lakeviewhs\n",
      "667\n",
      "https://www.facebook.com/manleyhighschool\n",
      "152\n",
      "nan\n",
      "nan\n",
      "http://www.facebook.com/wendell.phillips\n",
      "https://www.facebook.com/CarlSchurzHS\n",
      "4028\n",
      "http://www.facebook.com/SennFineArtsMagnetHighSchool\n",
      "1113\n",
      "http://www.facebook.com/SteinmetzCollegePrep\n",
      "1468\n",
      "https://www.facebook.com/sullivan.tigers\n",
      "https://www.facebook.com/Tilden-Career-Community-Academy-324135324345404/\n",
      "441\n",
      "nan\n",
      "nan\n",
      "nan\n",
      "nan\n",
      "nan\n",
      "https://www.facebook.com/northsidelearningcenterchicago\n",
      "335\n",
      "nan\n",
      "nan\n",
      "https://www.facebook.com/kingcollegeprephs\n",
      "1238\n",
      "nan\n",
      "nan\n",
      "https://www.facebook.com/curiehs\n",
      "3939\n",
      "http://www.facebook.com/rccachicago\n",
      "2097\n",
      "nan\n",
      "nan\n",
      "nan\n",
      "nan\n",
      "https://www.facebook.com/Vaughnhs/\n",
      "102\n",
      "nan\n",
      "nan\n",
      "nan\n",
      "nan\n",
      "https://www.facebook.com/Phoenix-Military-Academy-108494805987642/\n",
      "435\n",
      "nan\n",
      "nan\n",
      "nan\n",
      "nan\n",
      "https://www.facebook.com/dhwprepmed/\n",
      "224\n",
      "https://www.facebook.com/bronzevillescholastic\n",
      "460\n",
      "https://www.facebook.com/Dr-Martin-Luther-King-Jr-Academy-of-Social-Justice-1416136378639374/\n",
      "53\n",
      "nan\n",
      "nan\n",
      "https://www.facebook.com/orracademyhighschool\n",
      "424\n",
      "nan\n",
      "nan\n",
      "nan\n",
      "nan\n",
      "https://www.facebook.com/AUSLChicago\n",
      "3433\n",
      "https://www.facebook.com/pages/team-englewood-community-academy/132165383491430\n",
      "nan\n",
      "nan\n",
      "http://www.facebook.com/solorioacademy\n",
      "1773\n",
      "nan\n",
      "nan\n",
      "http://www.facebook.com/RTCMedPrep\n",
      "631\n",
      "http://www.facebook.com/backoftheyardscollegepreparatoryhighschool\n",
      "nan\n",
      "https://www.facebook.com/csusahq\n",
      "https://www.facebook.com/Chicago-Math-and-Science-Academy-326964987332523/\n",
      "725\n",
      "nan\n",
      "https://www.facebook.com/BeNobleGCCP\n",
      "253\n",
      "https://www.facebook.com/perspectivescs\n",
      "1903\n",
      "https://www.facebook.com/perspectivescs\n",
      "1903\n",
      "https://www.facebook.com/perspectivescs\n",
      "1903\n",
      "https://www.facebook.com/UCCharterSchool\n",
      "1147\n",
      "https://www.facebook.com/thecatalystschools\n",
      "215\n",
      "https://www.facebook.com/UNOCharterSchoolNetwork\n",
      "https://www.facebook.com/IntrinsicSchools\n",
      "1461\n",
      "nan\n",
      "https://www.facebook.com/FoundationsCollegePrep\n",
      "1753\n",
      "nan\n",
      "http://www.facebook.com/LaneTechHS\n",
      "9206\n",
      "nan\n",
      "nan\n",
      "https://www.facebook.com/RHSChicago\n",
      "1404\n",
      "http://www.facebook.com/tafths\n",
      "5204\n",
      "nan\n",
      "http://www.facebook.com/wmymhs\n",
      "4003\n",
      "https://www.facebook.com/marineleadershipacademy\n",
      "1526\n",
      "nan\n",
      "https://www.facebook.com/alcottcollegeprep\n",
      "775\n",
      "http://www.facebook.com/OgdenInternational\n",
      "1218\n",
      "nan\n"
     ]
    }
   ],
   "source": [
    "fb_likes = fetch_fb_likes(fb)"
   ]
  },
  {
   "cell_type": "code",
   "execution_count": 139,
   "metadata": {
    "ExecuteTime": {
     "end_time": "2018-01-25T23:58:45.353603Z",
     "start_time": "2018-01-25T23:58:45.348414Z"
    }
   },
   "outputs": [
    {
     "data": {
      "text/plain": [
       "142"
      ]
     },
     "execution_count": 139,
     "metadata": {},
     "output_type": "execute_result"
    }
   ],
   "source": [
    "len(fb_likes)"
   ]
  },
  {
   "cell_type": "code",
   "execution_count": 140,
   "metadata": {
    "ExecuteTime": {
     "end_time": "2018-01-25T23:58:55.735740Z",
     "start_time": "2018-01-25T23:58:55.730847Z"
    },
    "collapsed": true
   },
   "outputs": [],
   "source": [
    "schools['fb_likes'] = fb_likes"
   ]
  },
  {
   "cell_type": "code",
   "execution_count": 141,
   "metadata": {
    "ExecuteTime": {
     "end_time": "2018-01-25T23:59:01.290504Z",
     "start_time": "2018-01-25T23:59:01.263633Z"
    }
   },
   "outputs": [
    {
     "data": {
      "text/html": [
       "<div>\n",
       "<style>\n",
       "    .dataframe thead tr:only-child th {\n",
       "        text-align: right;\n",
       "    }\n",
       "\n",
       "    .dataframe thead th {\n",
       "        text-align: left;\n",
       "    }\n",
       "\n",
       "    .dataframe tbody tr th {\n",
       "        vertical-align: top;\n",
       "    }\n",
       "</style>\n",
       "<table border=\"1\" class=\"dataframe\">\n",
       "  <thead>\n",
       "    <tr style=\"text-align: right;\">\n",
       "      <th></th>\n",
       "      <th>avg_daily_attend</th>\n",
       "      <th>grad_rate</th>\n",
       "      <th>school_id</th>\n",
       "      <th>school_name</th>\n",
       "      <th>type</th>\n",
       "      <th>School_ID</th>\n",
       "      <th>Legacy_Unit_ID</th>\n",
       "      <th>Finance_ID</th>\n",
       "      <th>Short_Name</th>\n",
       "      <th>Long_Name</th>\n",
       "      <th>...</th>\n",
       "      <th>Fourth_Contact_Title</th>\n",
       "      <th>Fourth_Contact_Name</th>\n",
       "      <th>Fifth_Contact_Title</th>\n",
       "      <th>Fifth_Contact_Name</th>\n",
       "      <th>Sixth_Contact_Title</th>\n",
       "      <th>Sixth_Contact_Name</th>\n",
       "      <th>Seventh_Contact_Title</th>\n",
       "      <th>Seventh_Contact_Name</th>\n",
       "      <th>Location</th>\n",
       "      <th>fb_likes</th>\n",
       "    </tr>\n",
       "  </thead>\n",
       "  <tbody>\n",
       "    <tr>\n",
       "      <th>0</th>\n",
       "      <td>86</td>\n",
       "      <td>53.1</td>\n",
       "      <td>400010</td>\n",
       "      <td>ACE TECH HS</td>\n",
       "      <td>high_school</td>\n",
       "      <td>400010</td>\n",
       "      <td>7950</td>\n",
       "      <td>66291</td>\n",
       "      <td>ACE TECH HS</td>\n",
       "      <td>ACE Technical Charter School</td>\n",
       "      <td>...</td>\n",
       "      <td>NaN</td>\n",
       "      <td>NaN</td>\n",
       "      <td>NaN</td>\n",
       "      <td>NaN</td>\n",
       "      <td>NaN</td>\n",
       "      <td>NaN</td>\n",
       "      <td>NaN</td>\n",
       "      <td>NaN</td>\n",
       "      <td>5410 S STATE ST\\rChicago, Illinois 60609\\r(41....</td>\n",
       "      <td>NaN</td>\n",
       "    </tr>\n",
       "    <tr>\n",
       "      <th>1</th>\n",
       "      <td>90.5</td>\n",
       "      <td>71.4</td>\n",
       "      <td>400013</td>\n",
       "      <td>ASPIRA - EARLY COLLEGE HS</td>\n",
       "      <td>high_school</td>\n",
       "      <td>400013</td>\n",
       "      <td>7803</td>\n",
       "      <td>66254</td>\n",
       "      <td>ASPIRA - EARLY COLLEGE HS</td>\n",
       "      <td>ASPIRA Charter School - Early College High School</td>\n",
       "      <td>...</td>\n",
       "      <td>Dean of Students</td>\n",
       "      <td>Karen Orozco</td>\n",
       "      <td>Eliana Oliveras</td>\n",
       "      <td>Registrar</td>\n",
       "      <td>NaN</td>\n",
       "      <td>NaN</td>\n",
       "      <td>NaN</td>\n",
       "      <td>NaN</td>\n",
       "      <td>3986 W BARRY AVE\\rChicago, Illinois 60618\\r(41...</td>\n",
       "      <td>2170.0</td>\n",
       "    </tr>\n",
       "    <tr>\n",
       "      <th>2</th>\n",
       "      <td>99.1</td>\n",
       "      <td>82.3</td>\n",
       "      <td>400022</td>\n",
       "      <td>CHIARTS HS</td>\n",
       "      <td>high_school</td>\n",
       "      <td>400022</td>\n",
       "      <td>8047</td>\n",
       "      <td>63051</td>\n",
       "      <td>CHIARTS HS</td>\n",
       "      <td>Chicago High School for the Arts (ChiArts)</td>\n",
       "      <td>...</td>\n",
       "      <td>Dean of Students</td>\n",
       "      <td>Joseph Pancer</td>\n",
       "      <td>Admissions Manager</td>\n",
       "      <td>Laura Marsh</td>\n",
       "      <td>Office Manager</td>\n",
       "      <td>Benjamin Harris</td>\n",
       "      <td>Attendance Manager</td>\n",
       "      <td>Antoinette Collier</td>\n",
       "      <td>2714 W AUGUSTA BLVD\\rChicago, Illinois 60622\\r...</td>\n",
       "      <td>1707.0</td>\n",
       "    </tr>\n",
       "    <tr>\n",
       "      <th>3</th>\n",
       "      <td>89.8</td>\n",
       "      <td>64.1</td>\n",
       "      <td>400032</td>\n",
       "      <td>CICS - ELLISON HS</td>\n",
       "      <td>high_school</td>\n",
       "      <td>400032</td>\n",
       "      <td>4911</td>\n",
       "      <td>66072</td>\n",
       "      <td>CICS - ELLISON HS</td>\n",
       "      <td>CICS - Ralph Ellison</td>\n",
       "      <td>...</td>\n",
       "      <td>NaN</td>\n",
       "      <td>NaN</td>\n",
       "      <td>NaN</td>\n",
       "      <td>NaN</td>\n",
       "      <td>NaN</td>\n",
       "      <td>NaN</td>\n",
       "      <td>NaN</td>\n",
       "      <td>NaN</td>\n",
       "      <td>1817 W 80TH ST\\rChicago, Illinois 60620\\r(41.7...</td>\n",
       "      <td>NaN</td>\n",
       "    </tr>\n",
       "    <tr>\n",
       "      <th>4</th>\n",
       "      <td>94</td>\n",
       "      <td>83.4</td>\n",
       "      <td>400034</td>\n",
       "      <td>CICS - NORTHTOWN HS</td>\n",
       "      <td>high_school</td>\n",
       "      <td>400034</td>\n",
       "      <td>7740</td>\n",
       "      <td>66241</td>\n",
       "      <td>CICS - NORTHTOWN HS</td>\n",
       "      <td>CICS - Northtown</td>\n",
       "      <td>...</td>\n",
       "      <td>NaN</td>\n",
       "      <td>NaN</td>\n",
       "      <td>NaN</td>\n",
       "      <td>NaN</td>\n",
       "      <td>NaN</td>\n",
       "      <td>NaN</td>\n",
       "      <td>NaN</td>\n",
       "      <td>NaN</td>\n",
       "      <td>3900 W PETERSON AVE\\rChicago, Illinois 60659\\r...</td>\n",
       "      <td>450.0</td>\n",
       "    </tr>\n",
       "  </tbody>\n",
       "</table>\n",
       "<p>5 rows × 97 columns</p>\n",
       "</div>"
      ],
      "text/plain": [
       "  avg_daily_attend grad_rate school_id                school_name  \\\n",
       "0               86      53.1    400010                ACE TECH HS   \n",
       "1             90.5      71.4    400013  ASPIRA - EARLY COLLEGE HS   \n",
       "2             99.1      82.3    400022                 CHIARTS HS   \n",
       "3             89.8      64.1    400032          CICS - ELLISON HS   \n",
       "4               94      83.4    400034        CICS - NORTHTOWN HS   \n",
       "\n",
       "          type  School_ID  Legacy_Unit_ID  Finance_ID  \\\n",
       "0  high_school     400010            7950       66291   \n",
       "1  high_school     400013            7803       66254   \n",
       "2  high_school     400022            8047       63051   \n",
       "3  high_school     400032            4911       66072   \n",
       "4  high_school     400034            7740       66241   \n",
       "\n",
       "                  Short_Name  \\\n",
       "0                ACE TECH HS   \n",
       "1  ASPIRA - EARLY COLLEGE HS   \n",
       "2                 CHIARTS HS   \n",
       "3          CICS - ELLISON HS   \n",
       "4        CICS - NORTHTOWN HS   \n",
       "\n",
       "                                           Long_Name   ...     \\\n",
       "0                       ACE Technical Charter School   ...      \n",
       "1  ASPIRA Charter School - Early College High School   ...      \n",
       "2         Chicago High School for the Arts (ChiArts)   ...      \n",
       "3                               CICS - Ralph Ellison   ...      \n",
       "4                                   CICS - Northtown   ...      \n",
       "\n",
       "  Fourth_Contact_Title Fourth_Contact_Name Fifth_Contact_Title  \\\n",
       "0                  NaN                 NaN                 NaN   \n",
       "1     Dean of Students        Karen Orozco     Eliana Oliveras   \n",
       "2     Dean of Students       Joseph Pancer  Admissions Manager   \n",
       "3                  NaN                 NaN                 NaN   \n",
       "4                  NaN                 NaN                 NaN   \n",
       "\n",
       "  Fifth_Contact_Name Sixth_Contact_Title Sixth_Contact_Name  \\\n",
       "0                NaN                 NaN                NaN   \n",
       "1          Registrar                 NaN                NaN   \n",
       "2        Laura Marsh      Office Manager    Benjamin Harris   \n",
       "3                NaN                 NaN                NaN   \n",
       "4                NaN                 NaN                NaN   \n",
       "\n",
       "  Seventh_Contact_Title Seventh_Contact_Name  \\\n",
       "0                   NaN                  NaN   \n",
       "1                   NaN                  NaN   \n",
       "2    Attendance Manager   Antoinette Collier   \n",
       "3                   NaN                  NaN   \n",
       "4                   NaN                  NaN   \n",
       "\n",
       "                                            Location fb_likes  \n",
       "0  5410 S STATE ST\\rChicago, Illinois 60609\\r(41....      NaN  \n",
       "1  3986 W BARRY AVE\\rChicago, Illinois 60618\\r(41...   2170.0  \n",
       "2  2714 W AUGUSTA BLVD\\rChicago, Illinois 60622\\r...   1707.0  \n",
       "3  1817 W 80TH ST\\rChicago, Illinois 60620\\r(41.7...      NaN  \n",
       "4  3900 W PETERSON AVE\\rChicago, Illinois 60659\\r...    450.0  \n",
       "\n",
       "[5 rows x 97 columns]"
      ]
     },
     "execution_count": 141,
     "metadata": {},
     "output_type": "execute_result"
    }
   ],
   "source": [
    "schools.head()"
   ]
  },
  {
   "cell_type": "code",
   "execution_count": 142,
   "metadata": {
    "ExecuteTime": {
     "end_time": "2018-01-25T23:59:29.232134Z",
     "start_time": "2018-01-25T23:59:29.223568Z"
    },
    "collapsed": true
   },
   "outputs": [],
   "source": [
    "schools.to_pickle('../data/schools_social.pkl')"
   ]
  },
  {
   "cell_type": "code",
   "execution_count": null,
   "metadata": {
    "collapsed": true
   },
   "outputs": [],
   "source": []
  }
 ],
 "metadata": {
  "kernelspec": {
   "display_name": "Python 3",
   "language": "python",
   "name": "python3"
  },
  "language_info": {
   "codemirror_mode": {
    "name": "ipython",
    "version": 3
   },
   "file_extension": ".py",
   "mimetype": "text/x-python",
   "name": "python",
   "nbconvert_exporter": "python",
   "pygments_lexer": "ipython3",
   "version": "3.6.3"
  },
  "toc": {
   "nav_menu": {},
   "number_sections": true,
   "sideBar": true,
   "skip_h1_title": false,
   "title_cell": "Table of Contents",
   "title_sidebar": "Contents",
   "toc_cell": false,
   "toc_position": {},
   "toc_section_display": true,
   "toc_window_display": false
  },
  "varInspector": {
   "cols": {
    "lenName": 16,
    "lenType": 16,
    "lenVar": 40
   },
   "kernels_config": {
    "python": {
     "delete_cmd_postfix": "",
     "delete_cmd_prefix": "del ",
     "library": "var_list.py",
     "varRefreshCmd": "print(var_dic_list())"
    },
    "r": {
     "delete_cmd_postfix": ") ",
     "delete_cmd_prefix": "rm(",
     "library": "var_list.r",
     "varRefreshCmd": "cat(var_dic_list()) "
    }
   },
   "types_to_exclude": [
    "module",
    "function",
    "builtin_function_or_method",
    "instance",
    "_Feature"
   ],
   "window_display": false
  }
 },
 "nbformat": 4,
 "nbformat_minor": 2
}
